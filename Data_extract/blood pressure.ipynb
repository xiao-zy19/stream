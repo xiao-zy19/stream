{
 "cells": [
  {
   "cell_type": "markdown",
   "metadata": {},
   "source": [
    "### Choose the first entry of each patient. Extract blood pressure data into ***Pressure***, create ***Pressure_index*** for each patient. \n",
    "Contains patient Blood Pressure data from both vitalPeriodic.csv & nurseCharting.csv\n",
    "\n",
    "Including: Noninvasivesystolic, Non-Invasive BP Systolic, Invasive BP Systolic, Systemicsystolic"
   ]
  },
  {
   "cell_type": "markdown",
   "metadata": {},
   "source": [
    "**1. Extract sub-categories patient id from cardiovascular**"
   ]
  },
  {
   "cell_type": "code",
   "execution_count": 2,
   "metadata": {},
   "outputs": [
    {
     "name": "stdout",
     "output_type": "stream",
     "text": [
      "[ 141168  141203  141227 ... 3353216 3353235 3353251]\n"
     ]
    }
   ],
   "source": [
    "import os\n",
    "import numpy as np\n",
    "import matplotlib.pyplot as plt\n",
    "import pandas as pd\n",
    "\n",
    "# change to your folder path\n",
    "os.chdir('/Users/xiao-zy19/Desktop/Johns Hopkins/Biomedical Data Design/EICU/eicu-collaborative-research-database-2.0')\n",
    "\n",
    "# import diagnosis.csv\n",
    "df_diagnosis = pd.read_csv(\"diagnosis.csv\")\n",
    "df_diagnosis.sort_values(by=[\"patientunitstayid\", \"diagnosisoffset\"], inplace=True)\n",
    "\n",
    "# select cardiovascular patients\n",
    "df_cardiovascular = df_diagnosis[\n",
    "    df_diagnosis[\"diagnosisstring\"].str.contains(\"cardiovascular\")\n",
    "]\n",
    "\n",
    "# get shock patient\n",
    "shock_patient = df_cardiovascular[\n",
    "    df_cardiovascular[\"diagnosisstring\"].str.contains(\"shock\")\n",
    "]\n",
    "\n",
    "# get ventricular patient\n",
    "ventricular_patient = df_cardiovascular[\n",
    "    df_cardiovascular[\"diagnosisstring\"].str.contains(\"ventricular\")\n",
    "]\n",
    "\n",
    "# get chest pain patient\n",
    "chest_pain_patient = df_cardiovascular[\n",
    "    df_cardiovascular[\"diagnosisstring\"].str.contains(\"chest pain\")\n",
    "]\n",
    "\n",
    "# get arrhythmias patient\n",
    "arrhythmias_patient = df_cardiovascular[\n",
    "    df_cardiovascular[\"diagnosisstring\"].str.contains(\"arrhythmias\")\n",
    "]\n",
    "\n",
    "# put id together\n",
    "df_wanted = pd.concat(\n",
    "    [shock_patient, ventricular_patient, chest_pain_patient, arrhythmias_patient]\n",
    ")\n",
    "# print(df_wanted)\n",
    "\n",
    "# Get the patient ids from df_wanted & sort the patient id\n",
    "# patient_id_all multiple entry patient's stayid\n",
    "patient_id_all = df_wanted[\"patientunitstayid\"].unique()\n",
    "patient_id_all.sort()\n",
    "print(patient_id_all)"
   ]
  },
  {
   "cell_type": "markdown",
   "metadata": {},
   "source": [
    "**2. Exclude patient whose unitvisitnumbe>1**"
   ]
  },
  {
   "cell_type": "code",
   "execution_count": 3,
   "metadata": {},
   "outputs": [
    {
     "name": "stdout",
     "output_type": "stream",
     "text": [
      "Total number of patients: 71353\n"
     ]
    }
   ],
   "source": [
    "# import patient.csv\n",
    "df_patient = pd.read_csv(\"patient.csv\")\n",
    "df_patient.sort_values(by=[\"patientunitstayid\"], inplace=True)\n",
    "df_patient_buf = df_patient[df_patient[\"patientunitstayid\"].isin(patient_id_all)]\n",
    "df_1time_patient = df_patient_buf[df_patient_buf[\"unitvisitnumber\"] == 1]\n",
    "# print(df_1time_patient)\n",
    "\n",
    "# select the patient id from df_1time_patient\n",
    "patient_id = df_1time_patient[\"patientunitstayid\"].unique()\n",
    "print(f\"Total number of patients: {len(patient_id)}\")"
   ]
  },
  {
   "cell_type": "markdown",
   "metadata": {},
   "source": [
    "**3. Extract data of patients within the id list**"
   ]
  },
  {
   "cell_type": "code",
   "execution_count": 4,
   "metadata": {},
   "outputs": [
    {
     "name": "stdout",
     "output_type": "stream",
     "text": [
      "vitalperiodic shape: (63195275, 19)\n",
      "nurseCharting shape: (61929777, 8)\n",
      "vitalAPeriodic shape: (11017182, 13)\n"
     ]
    }
   ],
   "source": [
    "# import vitalPeriodic.csv & nurseCharting.csv\n",
    "df_vitalPeriodic = pd.read_csv(\"vitalPeriodic.csv\")\n",
    "df_vitalPeriodic.sort_values(\n",
    "    by=[\"patientunitstayid\", \"observationoffset\"], inplace=True\n",
    ")\n",
    "df_nurseCharting = pd.read_csv(\"nurseCharting.csv\")\n",
    "df_nurseCharting.sort_values(\n",
    "    by=[\"patientunitstayid\", \"nursingchartoffset\"], inplace=True\n",
    ")\n",
    "df_vitalAPeriodic = pd.read_csv(\"vitalAperiodic.csv\")\n",
    "df_vitalAPeriodic.sort_values(\n",
    "    by=[\"patientunitstayid\", \"observationoffset\"], inplace=True\n",
    ")\n",
    "\n",
    "\n",
    "# select the wanted patient\n",
    "df_vitalPeriodic = df_vitalPeriodic[\n",
    "    df_vitalPeriodic[\"patientunitstayid\"].isin(patient_id)\n",
    "]\n",
    "df_nurseCharting = df_nurseCharting[\n",
    "    df_nurseCharting[\"patientunitstayid\"].isin(patient_id)\n",
    "]\n",
    "df_vitalAPeriodic = df_vitalAPeriodic[\n",
    "    df_vitalAPeriodic[\"patientunitstayid\"].isin(patient_id)\n",
    "]\n",
    "\n",
    "# save the wanted file (uncomment the code to save)\n",
    "# df_vitalPeriodic.to_csv('vitalPeriodic_wanted.csv', index=False)\n",
    "# df_nurseCharting.to_csv('nurseCharting_wanted.csv', index=False)\n",
    "# df_vitalAPeriodic.to_csv('vitalAPeriodic_wanted.csv', index=False)\n",
    "\n",
    "# print the shape of the wanted file\n",
    "print(f\"vitalperiodic shape: {df_vitalPeriodic.shape}\")\n",
    "print(f\"nurseCharting shape: {df_nurseCharting.shape}\")\n",
    "print(f\"vitalAPeriodic shape: {df_vitalAPeriodic.shape}\")"
   ]
  },
  {
   "cell_type": "markdown",
   "metadata": {},
   "source": [
    "**4. Extract Blood Pressure data & create index**\n"
   ]
  },
  {
   "cell_type": "code",
   "execution_count": 5,
   "metadata": {},
   "outputs": [],
   "source": [
    "# nursingchartcelltypevallabel Non-Invasive BP Systolic\n",
    "df_nurseCharting_noninvasive = df_nurseCharting[\n",
    "    df_nurseCharting[\"nursingchartcelltypevalname\"] == \"Non-Invasive BP Systolic\"\n",
    "]\n",
    "df_nurseCharting_noninvasive = df_nurseCharting_noninvasive.rename(\n",
    "    columns={\n",
    "        \"nursingchartoffset\": \"observationoffset\",\n",
    "        \"nursingchartvalue\": \"Non-Invasive BP Systolic\",\n",
    "    }\n",
    ")\n",
    "# print(df_nurseCharting_noninvasive.head())\n",
    "\n",
    "# nursingchartcelltypevallabel Invasive BP Systolic\n",
    "df_nurseCharting_invasive = df_nurseCharting[\n",
    "    df_nurseCharting[\"nursingchartcelltypevalname\"] == \"Invasive BP Systolic\"\n",
    "]\n",
    "df_nurseCharting_invasive = df_nurseCharting_invasive.rename(\n",
    "    columns={\n",
    "        \"nursingchartoffset\": \"observationoffset\",\n",
    "        \"nursingchartvalue\": \"Invasive BP Systolic\",\n",
    "    }\n",
    ")\n",
    "# print(df_nurseCharting_invasive.head())"
   ]
  },
  {
   "cell_type": "code",
   "execution_count": 6,
   "metadata": {},
   "outputs": [],
   "source": [
    "# extract systolics from vitalPeriodic, nurseCharting & vitalAPeriodic\n",
    "systemicsystolic = df_vitalPeriodic[\n",
    "    [\"patientunitstayid\", \"observationoffset\", \"systemicsystolic\"]\n",
    "]\n",
    "non_invasive_BP_Systolic = df_nurseCharting_noninvasive[\n",
    "    [\"patientunitstayid\", \"observationoffset\", \"Non-Invasive BP Systolic\"]\n",
    "]\n",
    "invasive_BP_Systolic = df_nurseCharting_invasive[\n",
    "    [\"patientunitstayid\", \"observationoffset\", \"Invasive BP Systolic\"]\n",
    "]\n",
    "Noninvasivesystolic = df_vitalAPeriodic[\n",
    "    [\"patientunitstayid\", \"observationoffset\", \"noninvasivesystolic\"]\n",
    "]\n",
    "\n",
    "\n",
    "def create_index(df, column_name=\"patientunitstayid\"):\n",
    "    value_position_dict = {}\n",
    "    first_occurrences = []\n",
    "\n",
    "    for idx, value in enumerate(df[column_name]):\n",
    "        if value not in value_position_dict:\n",
    "            value_position_dict[value] = idx\n",
    "            first_occurrences.append(idx)\n",
    "\n",
    "    first_occurrences.append(len(df))\n",
    "    return pd.Series(first_occurrences)\n",
    "\n",
    "\n",
    "# create index for each variable\n",
    "systemicsystolic_index = create_index(systemicsystolic)\n",
    "non_invasive_BP_Systolic_index = create_index(non_invasive_BP_Systolic)\n",
    "invasive_BP_Systolic_index = create_index(invasive_BP_Systolic)\n",
    "Noninvasivesystolic_index = create_index(Noninvasivesystolic)"
   ]
  },
  {
   "cell_type": "code",
   "execution_count": 8,
   "metadata": {},
   "outputs": [
    {
     "name": "stdout",
     "output_type": "stream",
     "text": [
      "First time ICU patients: 71353\n",
      "Patients with all systolic: 71238\n"
     ]
    }
   ],
   "source": [
    "# 第一次进入ICU的心血管疾病患者ID集合\n",
    "first_time_icu_patients = set(patient_id)\n",
    "print(f'First time ICU patients: {len(first_time_icu_patients)}')\n",
    "\n",
    "# 有systemicsystolic noninvasivesystolic invasive BP Systolic non_invasive_BP Systolic的患者ID集合\n",
    "patients_with_systolic = set(systemicsystolic[\"patientunitstayid\"].unique())\n",
    "patients_with_noninvasive = set(non_invasive_BP_Systolic[\"patientunitstayid\"].unique())\n",
    "patients_with_invasive = set(invasive_BP_Systolic[\"patientunitstayid\"].unique())\n",
    "patients_with_Noninvasive = set(Noninvasivesystolic[\"patientunitstayid\"].unique())\n",
    "\n",
    "# 求并集\n",
    "patients_with_bp = patients_with_systolic.union(patients_with_noninvasive, patients_with_invasive, patients_with_Noninvasive)\n",
    "\n",
    "# 求交集长度\n",
    "print(f'Patients with all systolic: {len(patients_with_bp)}')"
   ]
  }
 ],
 "metadata": {
  "kernelspec": {
   "display_name": "bdd",
   "language": "python",
   "name": "python3"
  },
  "language_info": {
   "codemirror_mode": {
    "name": "ipython",
    "version": 3
   },
   "file_extension": ".py",
   "mimetype": "text/x-python",
   "name": "python",
   "nbconvert_exporter": "python",
   "pygments_lexer": "ipython3",
   "version": "3.9.18"
  }
 },
 "nbformat": 4,
 "nbformat_minor": 2
}
