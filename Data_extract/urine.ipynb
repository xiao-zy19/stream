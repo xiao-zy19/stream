{
 "cells": [
  {
   "cell_type": "markdown",
   "metadata": {},
   "source": [
    "### Choose the first entry of each patient. Extract Urine data into ***Urine***, create ***Urine_index*** for each patient. \n",
    "Contains patient Urine data from both IntakeOutput.csv"
   ]
  },
  {
   "cell_type": "markdown",
   "metadata": {},
   "source": [
    "**1. Extract sub-categories patient id from cardiovascular**"
   ]
  },
  {
   "cell_type": "code",
   "execution_count": 1,
   "metadata": {},
   "outputs": [
    {
     "name": "stdout",
     "output_type": "stream",
     "text": [
      "[ 141168  141203  141227 ... 3353216 3353235 3353251]\n"
     ]
    }
   ],
   "source": [
    "import os\n",
    "import numpy as np\n",
    "import matplotlib.pyplot as plt\n",
    "import pandas as pd\n",
    "\n",
    "# change to your folder path\n",
    "# os.chdir('C:/Users/xiao-zy19/Desktop/Johns Hopkins/Biomedical Data Design/EICU Database/eicu-collaborative-research-database-demo-2.0.1')\n",
    "os.chdir('/Users/xiao-zy19/Desktop/Johns Hopkins/Biomedical Data Design/EICU/eicu-collaborative-research-database-2.0')\n",
    "\n",
    "# import diagnosis.csv\n",
    "df_diagnosis = pd.read_csv('diagnosis.csv')\n",
    "df_diagnosis.sort_values(by=['patientunitstayid', 'diagnosisoffset'], inplace=True)\n",
    "\n",
    "# select cardiovascular patients\n",
    "df_cardiovascular = df_diagnosis[df_diagnosis['diagnosisstring'].str.contains('cardiovascular')]\n",
    "\n",
    "# get shock patient \n",
    "shock_patient = df_cardiovascular[df_cardiovascular['diagnosisstring'].str.contains('shock')]\n",
    "\n",
    "# get ventricular patient \n",
    "ventricular_patient = df_cardiovascular[df_cardiovascular['diagnosisstring'].str.contains('ventricular')]\n",
    "\n",
    "# get chest pain patient \n",
    "chest_pain_patient = df_cardiovascular[df_cardiovascular['diagnosisstring'].str.contains('chest pain')]\n",
    "\n",
    "# get arrhythmias patient \n",
    "arrhythmias_patient = df_cardiovascular[df_cardiovascular['diagnosisstring'].str.contains('arrhythmias')]\n",
    "\n",
    "# put id together\n",
    "df_wanted = pd.concat([shock_patient, ventricular_patient, chest_pain_patient, arrhythmias_patient])\n",
    "\n",
    "# Get the patient ids from df_wanted & sort the patient id\n",
    "# patient_id_all multiple entry patient's stayid\n",
    "patient_id_all = df_wanted['patientunitstayid'].unique()\n",
    "patient_id_all.sort()\n",
    "print(patient_id_all)"
   ]
  },
  {
   "cell_type": "markdown",
   "metadata": {},
   "source": [
    "**2. Exclude patient whose unitvisitnumbe>1**"
   ]
  },
  {
   "cell_type": "code",
   "execution_count": 2,
   "metadata": {},
   "outputs": [
    {
     "name": "stdout",
     "output_type": "stream",
     "text": [
      "Total number of patients: 71353\n"
     ]
    }
   ],
   "source": [
    "# import patient.csv\n",
    "df_patient = pd.read_csv('patient.csv')\n",
    "df_patient.sort_values(by=['patientunitstayid'], inplace=True)\n",
    "df_patient_buf = df_patient[df_patient['patientunitstayid'].isin(patient_id_all)]\n",
    "df_1time_patient = df_patient_buf[df_patient_buf['unitvisitnumber']==1]\n",
    "# print(df_1time_patient)\n",
    "\n",
    "# select the patient id from df_1time_patient\n",
    "patient_id = df_1time_patient['patientunitstayid'].unique()\n",
    "print(f'Total number of patients: {len(patient_id)}')"
   ]
  },
  {
   "cell_type": "markdown",
   "metadata": {},
   "source": [
    "**3. Extract data of patients within the id list**"
   ]
  },
  {
   "cell_type": "code",
   "execution_count": 3,
   "metadata": {},
   "outputs": [
    {
     "name": "stdout",
     "output_type": "stream",
     "text": [
      "intaekOutput shape: (5352427, 12)\n"
     ]
    }
   ],
   "source": [
    "# import intakeOutput.csv\n",
    "df_intakeOutput = pd.read_csv(\"intakeOutput.csv\")\n",
    "df_intakeOutput.sort_values(\n",
    "    by=[\"patientunitstayid\", \"intakeoutputoffset\"], inplace=True\n",
    ")\n",
    "\n",
    "# select the wanted patient\n",
    "df_intakeOutput = df_intakeOutput[df_intakeOutput[\"patientunitstayid\"].isin(patient_id)]\n",
    "\n",
    "# print the shape of the wanted file\n",
    "print(f\"intaekOutput shape: {df_intakeOutput.shape}\")"
   ]
  },
  {
   "cell_type": "markdown",
   "metadata": {},
   "source": [
    "**4. Extract Urine Output data & create index**"
   ]
  },
  {
   "cell_type": "code",
   "execution_count": 4,
   "metadata": {},
   "outputs": [
    {
     "name": "stdout",
     "output_type": "stream",
     "text": [
      "        intakeoutputid  patientunitstayid  intakeoutputoffset  intaketotal  \\\n",
      "171912        10876745             141227               -1893          0.0   \n",
      "512473        13982221             141227               -1773          0.0   \n",
      "181072        10961092             141227               -1663          0.0   \n",
      "544874        14279776             141227               -1351          0.0   \n",
      "49487          9759089             141229                3430          0.0   \n",
      "\n",
      "        outputtotal  dialysistotal  nettotal  intakeoutputentryoffset  \\\n",
      "171912        200.0            0.0    -200.0                    -1893   \n",
      "512473        200.0            0.0    -200.0                    -1773   \n",
      "181072        200.0            0.0    -200.0                    -1663   \n",
      "544874        200.0            0.0    -200.0                    -1351   \n",
      "49487         400.0            0.0    -400.0                     3430   \n",
      "\n",
      "                                                 cellpath celllabel  \\\n",
      "171912  flowsheet|Flowsheet Cell Labels|I&O|Output (ml...     Urine   \n",
      "512473  flowsheet|Flowsheet Cell Labels|I&O|Output (ml...     Urine   \n",
      "181072  flowsheet|Flowsheet Cell Labels|I&O|Output (ml...     Urine   \n",
      "544874  flowsheet|Flowsheet Cell Labels|I&O|Output (ml...     Urine   \n",
      "49487   flowsheet|Flowsheet Cell Labels|I&O|Output (ml...     Urine   \n",
      "\n",
      "        UrineOutput  cellvaluetext  \n",
      "171912        200.0          200.0  \n",
      "512473        200.0          200.0  \n",
      "181072        200.0          200.0  \n",
      "544874        200.0          200.0  \n",
      "49487         400.0          400.0  \n"
     ]
    }
   ],
   "source": [
    "# choose only intakeOutput Urine cell label\n",
    "df_UrineOutput = df_intakeOutput[df_intakeOutput['celllabel']=='Urine']\n",
    "df_UrineOutput = df_UrineOutput.rename(columns={'cellvaluenumeric':'UrineOutput'})\n",
    "\n",
    "print(df_UrineOutput.head())"
   ]
  },
  {
   "cell_type": "code",
   "execution_count": 5,
   "metadata": {},
   "outputs": [
    {
     "name": "stdout",
     "output_type": "stream",
     "text": [
      "First 5 rows of Urine_index: \n",
      "0     0\n",
      "1     4\n",
      "2     5\n",
      "3    14\n",
      "4    15\n",
      "dtype: int64\n"
     ]
    }
   ],
   "source": [
    "# extract Urine data from intakeOutput.csv\n",
    "Urine = df_UrineOutput[['patientunitstayid', 'intakeoutputoffset', 'UrineOutput']].copy()\n",
    "Urine.sort_values(by=['patientunitstayid', 'intakeoutputoffset'], inplace=True)\n",
    "\n",
    "value_position_dict = {}\n",
    "first_occurrences = []\n",
    "for idx, value in enumerate(Urine['patientunitstayid']):\n",
    "    # if the value is not in the dictionary, add it and create index\n",
    "    if value not in value_position_dict:\n",
    "        value_position_dict[value] = idx\n",
    "        first_occurrences.append(idx)\n",
    "\n",
    "first_occurrences.append(len(Urine))\n",
    "# create first occurrence index for every patient\n",
    "Urine_index = pd.Series(first_occurrences)\n",
    "print(f'First 5 rows of Urine_index: \\n{Urine_index.head()}')"
   ]
  },
  {
   "cell_type": "markdown",
   "metadata": {},
   "source": [
    "**Example: how to use Urine & Urine_index**"
   ]
  },
  {
   "cell_type": "code",
   "execution_count": 6,
   "metadata": {},
   "outputs": [
    {
     "name": "stdout",
     "output_type": "stream",
     "text": [
      "Urine Output data for patient 2: \n",
      "        patientunitstayid  intakeoutputoffset  UrineOutput\n",
      "49487              141229                3430        400.0\n",
      "631164             141266                1697        450.0\n",
      "439820             141266                5839        125.0\n",
      "364087             141266                6664        150.0\n",
      "676971             141266                7559        100.0\n",
      "...                   ...                 ...          ...\n",
      "146978             141462                9512        210.0\n",
      "838909             141462                9607        200.0\n",
      "353334             141462               10622        200.0\n",
      "841468             141462               10712        375.0\n",
      "217107             141462               10892        300.0\n",
      "\n",
      "[117 rows x 3 columns]\n"
     ]
    }
   ],
   "source": [
    "# if we want the i th patient's data (i starts from 0)\n",
    "# use Urine.iloc[Urine_index[i]:Urine_index[i+1]]\n",
    "i = 1\n",
    "print(f'Urine Output data for patient {i+1}: \\n{Urine.iloc[Urine_index[i]:Urine_index[i+10]]}')"
   ]
  },
  {
   "cell_type": "code",
   "execution_count": 7,
   "metadata": {},
   "outputs": [
    {
     "name": "stdout",
     "output_type": "stream",
     "text": [
      "First time ICU patients: 71353\n",
      "Patients with Urine data: 55414\n"
     ]
    }
   ],
   "source": [
    "# 第一次进入ICU的心血管疾病患者ID集合\n",
    "first_time_icu_patients = set(patient_id)\n",
    "print(f'First time ICU patients: {len(first_time_icu_patients)}')\n",
    "\n",
    "# 有Urine数据的心血管疾病患者ID集合\n",
    "Urine_patients = set(Urine['patientunitstayid'].unique())\n",
    "print(f'Patients with Urine data: {len(Urine_patients)}')\n"
   ]
  }
 ],
 "metadata": {
  "kernelspec": {
   "display_name": "bdd",
   "language": "python",
   "name": "python3"
  },
  "language_info": {
   "codemirror_mode": {
    "name": "ipython",
    "version": 3
   },
   "file_extension": ".py",
   "mimetype": "text/x-python",
   "name": "python",
   "nbconvert_exporter": "python",
   "pygments_lexer": "ipython3",
   "version": "3.9.18"
  }
 },
 "nbformat": 4,
 "nbformat_minor": 2
}
