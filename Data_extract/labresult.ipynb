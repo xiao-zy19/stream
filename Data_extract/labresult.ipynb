{
 "cells": [
  {
   "cell_type": "markdown",
   "metadata": {},
   "source": [
    "### Choose the first entry of each patient. Extract all the lab data for each patient. "
   ]
  },
  {
   "cell_type": "markdown",
   "metadata": {},
   "source": [
    "**1. Extract sub-categories patient id from cardiovascular**"
   ]
  },
  {
   "cell_type": "code",
   "execution_count": 9,
   "metadata": {},
   "outputs": [
    {
     "name": "stdout",
     "output_type": "stream",
     "text": [
      "[ 141168  141203  141227 ... 3353216 3353235 3353251]\n"
     ]
    }
   ],
   "source": [
    "import os\n",
    "import numpy as np\n",
    "import matplotlib.pyplot as plt\n",
    "import pandas as pd\n",
    "\n",
    "# change to your folder path\n",
    "# os.chdir('C:/Users/xiao-zy19/Desktop/Johns Hopkins/Biomedical Data Design/EICU Database/eicu-collaborative-research-database-demo-2.0.1')\n",
    "os.chdir('/Users/xiao-zy19/Desktop/Johns Hopkins/Biomedical Data Design/EICU/eicu-collaborative-research-database-2.0')\n",
    "\n",
    "# import diagnosis.csv\n",
    "df_diagnosis = pd.read_csv('diagnosis.csv')\n",
    "df_diagnosis.sort_values(by=['patientunitstayid', 'diagnosisoffset'], inplace=True)\n",
    "\n",
    "# select cardiovascular patients\n",
    "df_cardiovascular = df_diagnosis[df_diagnosis['diagnosisstring'].str.contains('cardiovascular')]\n",
    "\n",
    "\n",
    "# get shock patient \n",
    "shock_patient = df_cardiovascular[df_cardiovascular['diagnosisstring'].str.contains('shock')]\n",
    "\n",
    "# get ventricular patient \n",
    "ventricular_patient = df_cardiovascular[df_cardiovascular['diagnosisstring'].str.contains('ventricular')]\n",
    "\n",
    "# get chest pain patient \n",
    "chest_pain_patient = df_cardiovascular[df_cardiovascular['diagnosisstring'].str.contains('chest pain')]\n",
    "\n",
    "# get arrhythmias patient \n",
    "arrhythmias_patient = df_cardiovascular[df_cardiovascular['diagnosisstring'].str.contains('arrhythmias')]\n",
    "\n",
    "# put id together\n",
    "df_wanted = pd.concat([shock_patient, ventricular_patient, chest_pain_patient, arrhythmias_patient])\n",
    "# print(df_wanted)\n",
    "\n",
    "# Get the patient ids from df_wanted & sort the patient id\n",
    "# patient_id_all multiple entry patient's stayid\n",
    "patient_id_all = df_wanted['patientunitstayid'].unique()\n",
    "patient_id_all.sort()\n",
    "print(patient_id_all)"
   ]
  },
  {
   "cell_type": "markdown",
   "metadata": {},
   "source": [
    "**2. Exclude patient whose unitvisitnumbe>1**"
   ]
  },
  {
   "cell_type": "code",
   "execution_count": 10,
   "metadata": {},
   "outputs": [
    {
     "name": "stdout",
     "output_type": "stream",
     "text": [
      "Total number of patients: 71353\n"
     ]
    }
   ],
   "source": [
    "# import patient.csv\n",
    "df_patient = pd.read_csv('patient.csv')\n",
    "df_patient.sort_values(by=['patientunitstayid'], inplace=True)\n",
    "df_patient_buf = df_patient[df_patient['patientunitstayid'].isin(patient_id_all)]\n",
    "df_1time_patient = df_patient_buf[df_patient_buf['unitvisitnumber']==1]\n",
    "# print(df_1time_patient)\n",
    "\n",
    "# select the patient id from df_1time_patient\n",
    "patient_id = df_1time_patient['patientunitstayid'].unique()\n",
    "print(f'Total number of patients: {len(patient_id)}')"
   ]
  },
  {
   "cell_type": "markdown",
   "metadata": {},
   "source": [
    "**3. Extract data of patients within the id list**"
   ]
  },
  {
   "cell_type": "code",
   "execution_count": 11,
   "metadata": {},
   "outputs": [
    {
     "name": "stdout",
     "output_type": "stream",
     "text": [
      "lab shape: (16828353, 10)\n"
     ]
    }
   ],
   "source": [
    "# import lab.csv\n",
    "df_lab = pd.read_csv('lab.csv')\n",
    "df_lab.sort_values(by=['patientunitstayid', 'labresultoffset'], inplace=True)\n",
    "\n",
    "# select the wanted patient\n",
    "df_lab = df_lab[df_lab['patientunitstayid'].isin(patient_id)]\n",
    "\n",
    "# print the shape of the wanted file\n",
    "print(f'lab shape: {df_lab.shape}')"
   ]
  },
  {
   "cell_type": "markdown",
   "metadata": {},
   "source": [
    "**4. Extract lab results & create index**"
   ]
  },
  {
   "cell_type": "code",
   "execution_count": 12,
   "metadata": {},
   "outputs": [],
   "source": [
    "def create_index(df):\n",
    "    \"\"\"\n",
    "    Create first occurrence index for every patient\n",
    "    \"\"\"\n",
    "    # create a dictionary to store the first occurrence index\n",
    "    value_position_dict = {}\n",
    "    first_occurrences = []\n",
    "    for idx, value in enumerate(df['patientunitstayid']):\n",
    "        # if the value is not in the dictionary, add it and create index\n",
    "        if value not in value_position_dict:\n",
    "            value_position_dict[value] = idx\n",
    "            first_occurrences.append(idx)\n",
    "\n",
    "    first_occurrences.append(len(df))\n",
    "    # create first occurrence index for every patient\n",
    "    df_index = pd.Series(first_occurrences)\n",
    "    return df_index"
   ]
  },
  {
   "cell_type": "code",
   "execution_count": 13,
   "metadata": {},
   "outputs": [],
   "source": [
    "# lab BUN\n",
    "df_lab_BUN = df_lab[df_lab['labname']=='BUN']\n",
    "df_lab_BUN = df_lab_BUN.rename(columns={'labresultoffset': 'observationoffset', 'labresult':'BUN'})\n",
    "\n",
    "# lab WBC x 1000\n",
    "df_lab_WBC = df_lab[df_lab['labname']=='WBC x 1000']\n",
    "df_lab_WBC = df_lab_WBC.rename(columns={'labresultoffset': 'observationoffset', 'labresult':'WBC x 1000'})\n",
    "\n",
    "# lab bicarbonate\n",
    "df_lab_bicarbonate = df_lab[df_lab['labname']=='bicarbonate']\n",
    "df_lab_bicarbonate = df_lab_bicarbonate.rename(columns={'labresultoffset': 'observationoffset', 'labresult':'bicarbonate'})\n",
    "\n",
    "# lab sodium\n",
    "df_lab_sodium = df_lab[df_lab['labname']=='sodium']\n",
    "df_lab_sodium = df_lab_sodium.rename(columns={'labresultoffset': 'observationoffset', 'labresult':'sodium'})\n",
    "\n",
    "# lab potassium\n",
    "df_lab_potassium = df_lab[df_lab['labname']=='potassium']\n",
    "df_lab_potassium = df_lab_potassium.rename(columns={'labresultoffset': 'observationoffset', 'labresult':'potassium'})\n",
    "\n",
    "# lab total bilirubin\n",
    "df_lab_bilirubin = df_lab[df_lab['labname']=='total bilirubin']\n",
    "df_lab_bilirubin = df_lab_bilirubin.rename(columns={'labresultoffset': 'observationoffset', 'labresult':'total bilirubin'})"
   ]
  },
  {
   "cell_type": "code",
   "execution_count": 14,
   "metadata": {},
   "outputs": [
    {
     "name": "stdout",
     "output_type": "stream",
     "text": [
      "First 5 rows of lab_bilirubin: \n",
      "     patientunitstayid  observationoffset  total bilirubin\n",
      "102             141168                516              2.6\n",
      "104             141168               1133              4.1\n",
      "66              141168               2026              5.2\n",
      "758             141203              -1580              0.4\n",
      "747             141203               -473              0.4 \n",
      "\n"
     ]
    }
   ],
   "source": [
    "# extract lab results from lab.csv\n",
    "BUN = df_lab_BUN[['patientunitstayid', 'observationoffset', 'BUN']].copy()\n",
    "WBC = df_lab_WBC[['patientunitstayid', 'observationoffset', 'WBC x 1000']].copy()\n",
    "bicarbonate = df_lab_bicarbonate[['patientunitstayid', 'observationoffset', 'bicarbonate']].copy()\n",
    "sodium = df_lab_sodium[['patientunitstayid', 'observationoffset', 'sodium']].copy()\n",
    "potassium = df_lab_potassium[['patientunitstayid', 'observationoffset', 'potassium']].copy()\n",
    "bilirubin = df_lab_bilirubin[['patientunitstayid', 'observationoffset', 'total bilirubin']].copy()\n",
    "\n",
    "# sort the lab results by patient id and observationoffset\n",
    "BUN.sort_values(by=['patientunitstayid', 'observationoffset'], inplace=True)\n",
    "WBC.sort_values(by=['patientunitstayid', 'observationoffset'], inplace=True)\n",
    "bicarbonate.sort_values(by=['patientunitstayid', 'observationoffset'], inplace=True)\n",
    "sodium.sort_values(by=['patientunitstayid', 'observationoffset'], inplace=True)\n",
    "potassium.sort_values(by=['patientunitstayid', 'observationoffset'], inplace=True)\n",
    "bilirubin.sort_values(by=['patientunitstayid', 'observationoffset'], inplace=True)\n",
    "\n",
    "# print the head of the lab results\n",
    "# print(f'First 5 rows of lab_BUN: \\n{BUN.head()} \\n')\n",
    "# print(f'First 5 rows of lab_WBC: \\n{WBC.head()} \\n')\n",
    "# print(f'First 5 rows of lab_bicarbonate: \\n{bicarbonate.head()} \\n')\n",
    "# print(f'First 5 rows of lab_sodium: \\n{sodium.head()} \\n')\n",
    "# print(f'First 5 rows of lab_potassium: \\n{potassium.head()} \\n')\n",
    "print(f'First 5 rows of lab_bilirubin: \\n{bilirubin.head()} \\n')\n",
    "\n",
    "# create index for each variable\n",
    "BUN_index = create_index(BUN)\n",
    "WBC_index = create_index(WBC)\n",
    "bicarbonate_index = create_index(bicarbonate)\n",
    "sodium_index = create_index(sodium)\n",
    "potassium_index = create_index(potassium)\n",
    "bilirubin_index = create_index(bilirubin)"
   ]
  },
  {
   "cell_type": "code",
   "execution_count": 15,
   "metadata": {},
   "outputs": [
    {
     "name": "stdout",
     "output_type": "stream",
     "text": [
      "First time ICU patients: 71353\n",
      "patients with all lab results: 52197\n",
      "patients with all lab results: 52197\n"
     ]
    }
   ],
   "source": [
    "# 第一次进入ICU患者ID集合\n",
    "first_time_icu_patients = set(patient_id)\n",
    "print(f'First time ICU patients: {len(first_time_icu_patients)}')\n",
    "\n",
    "# 包含BUN WBC bicarbonate sodium potassium bilirubin的患者ID集合\n",
    "BUN_patients = set(BUN['patientunitstayid'])\n",
    "WBC_patients = set(WBC['patientunitstayid'])\n",
    "bicarbonate_patients = set(bicarbonate['patientunitstayid'])\n",
    "sodium_patients = set(sodium['patientunitstayid'])\n",
    "potassium_patients = set(potassium['patientunitstayid'])\n",
    "bilirubin_patients = set(bilirubin['patientunitstayid'])\n",
    "\n",
    "# 求交集\n",
    "lab_patients = BUN_patients & WBC_patients & bicarbonate_patients & sodium_patients & potassium_patients & bilirubin_patients\n",
    "print(f'patients with all lab results: {len(lab_patients)}')"
   ]
  }
 ],
 "metadata": {
  "kernelspec": {
   "display_name": "bdd",
   "language": "python",
   "name": "python3"
  },
  "language_info": {
   "codemirror_mode": {
    "name": "ipython",
    "version": 3
   },
   "file_extension": ".py",
   "mimetype": "text/x-python",
   "name": "python",
   "nbconvert_exporter": "python",
   "pygments_lexer": "ipython3",
   "version": "3.9.18"
  }
 },
 "nbformat": 4,
 "nbformat_minor": 2
}
