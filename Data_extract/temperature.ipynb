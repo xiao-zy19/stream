{
 "cells": [
  {
   "cell_type": "markdown",
   "metadata": {},
   "source": [
    "### Choose the first entry of each patient. Extract body temperature data into ***Temp***, create ***Temp_index*** for each patient. \n",
    "Contains patient body temperature data from both vitalPeriodic.csv & nurseCharting.csv"
   ]
  },
  {
   "cell_type": "markdown",
   "metadata": {},
   "source": [
    "**1. Extract sub-categories patient id from cardiovascular**"
   ]
  },
  {
   "cell_type": "code",
   "execution_count": 2,
   "metadata": {},
   "outputs": [
    {
     "name": "stdout",
     "output_type": "stream",
     "text": [
      "[ 141168  141203  141227 ... 3353216 3353235 3353251]\n"
     ]
    }
   ],
   "source": [
    "import os\n",
    "import numpy as np\n",
    "import matplotlib.pyplot as plt\n",
    "import pandas as pd\n",
    "\n",
    "# change to your folder path\n",
    "# os.chdir('C:/Users/xiao-zy19/Desktop/Johns Hopkins/Biomedical Data Design/EICU Database/eicu-collaborative-research-database-demo-2.0.1')\n",
    "# os.chdir('/Users/xiao-zy19/Desktop/Johns Hopkins/Biomedical Data Design/DataExtract/data') \n",
    "os.chdir('/Users/xiao-zy19/Desktop/Johns Hopkins/Biomedical Data Design/EICU/eicu-collaborative-research-database-2.0')\n",
    "\n",
    "# import diagnosis.csv\n",
    "df_diagnosis = pd.read_csv('diagnosis.csv')\n",
    "df_diagnosis.sort_values(by=['patientunitstayid', 'diagnosisoffset'], inplace=True)\n",
    "\n",
    "# select cardiovascular patients\n",
    "df_cardiovascular = df_diagnosis[df_diagnosis['diagnosisstring'].str.contains('cardiovascular')]\n",
    "# print(df_cardiovascular)\n",
    "\n",
    "\n",
    "# get shock patient \n",
    "shock_patient = df_cardiovascular[df_cardiovascular['diagnosisstring'].str.contains('shock')]\n",
    "# print(shock_patient)\n",
    "\n",
    "# get ventricular patient \n",
    "ventricular_patient = df_cardiovascular[df_cardiovascular['diagnosisstring'].str.contains('ventricular')]\n",
    "# print(ventricular_patient)\n",
    "\n",
    "# get chest pain patient \n",
    "chest_pain_patient = df_cardiovascular[df_cardiovascular['diagnosisstring'].str.contains('chest pain')]\n",
    "\n",
    "# get arrhythmias patient \n",
    "arrhythmias_patient = df_cardiovascular[df_cardiovascular['diagnosisstring'].str.contains('arrhythmias')]\n",
    "\n",
    "# put id together\n",
    "df_wanted = pd.concat([shock_patient, ventricular_patient, chest_pain_patient, arrhythmias_patient])\n",
    "# print(df_wanted)\n",
    "\n",
    "# Get the patient ids from df_wanted & sort the patient id\n",
    "# patient_id_all multiple entry patient's stayid\n",
    "patient_id_all = df_wanted['patientunitstayid'].unique()\n",
    "patient_id_all.sort()\n",
    "print(patient_id_all)"
   ]
  },
  {
   "cell_type": "markdown",
   "metadata": {},
   "source": [
    "**2. Exclude patient whose unitvisitnumbe>1**"
   ]
  },
  {
   "cell_type": "code",
   "execution_count": 3,
   "metadata": {},
   "outputs": [
    {
     "name": "stdout",
     "output_type": "stream",
     "text": [
      "Total number of patients: 71353\n"
     ]
    }
   ],
   "source": [
    "# import patient.csv\n",
    "df_patient = pd.read_csv('patient.csv')\n",
    "df_patient.sort_values(by=['patientunitstayid'], inplace=True)\n",
    "df_patient_buf = df_patient[df_patient['patientunitstayid'].isin(patient_id_all)]\n",
    "df_1time_patient = df_patient_buf[df_patient_buf['unitvisitnumber']==1]\n",
    "# print(df_1time_patient)\n",
    "\n",
    "# select the patient id from df_1time_patient\n",
    "patient_id = df_1time_patient['patientunitstayid'].unique()\n",
    "print(f'Total number of patients: {len(patient_id)}')"
   ]
  },
  {
   "cell_type": "markdown",
   "metadata": {},
   "source": [
    "**3. Extract data of patients within the id list**"
   ]
  },
  {
   "cell_type": "code",
   "execution_count": 4,
   "metadata": {},
   "outputs": [
    {
     "name": "stdout",
     "output_type": "stream",
     "text": [
      "vitalperiodic shape: (63195275, 19)\n",
      "nurseCharting shape: (61929777, 8)\n"
     ]
    }
   ],
   "source": [
    "# import vitalPeriodic.csv & nurseCharting.csv\n",
    "df_vitalPeriodic = pd.read_csv('vitalPeriodic.csv')\n",
    "df_vitalPeriodic.sort_values(by=['patientunitstayid', 'observationoffset'], inplace=True)\n",
    "df_nurseCharting = pd.read_csv('nurseCharting.csv')\n",
    "df_nurseCharting.sort_values(by=['patientunitstayid', 'nursingchartoffset'], inplace=True)\n",
    "\n",
    "\n",
    "# select the wanted patient\n",
    "df_vitalPeriodic = df_vitalPeriodic[df_vitalPeriodic['patientunitstayid'].isin(patient_id)]\n",
    "df_nurseCharting = df_nurseCharting[df_nurseCharting['patientunitstayid'].isin(patient_id)]\n",
    "\n",
    "# save the wanted file (uncomment the code to save)\n",
    "# df_vitalPeriodic.to_csv('vitalPeriodic_wanted.csv', index=False)\n",
    "\n",
    "# print the shape of the wanted file\n",
    "print(f'vitalperiodic shape: {df_vitalPeriodic.shape}')\n",
    "print(f'nurseCharting shape: {df_nurseCharting.shape}')"
   ]
  },
  {
   "cell_type": "markdown",
   "metadata": {},
   "source": [
    "**4. Extract Heart Rate data & create index**"
   ]
  },
  {
   "cell_type": "code",
   "execution_count": 5,
   "metadata": {},
   "outputs": [],
   "source": [
    "# define temperature transformation function\n",
    "def normal_temperature(num):\n",
    "    \"\"\"\n",
    "    Function to normalize temperature values.\n",
    "\n",
    "    Parameters:\n",
    "        num: the originial input value\n",
    "    Return:\n",
    "        num: the normalized output value\n",
    "    \"\"\"\n",
    "    # Return null values direcly\n",
    "    if pd.isna(num):\n",
    "        return num\n",
    "    # Convert Fahrenheit to Celsius\n",
    "    # And apply the function again\n",
    "    elif num > 50:\n",
    "        return normal_temperature((num - 32) * 5 / 9)\n",
    "    # Remove values out of range\n",
    "    elif num < 15 or num > 45:\n",
    "        return np.nan\n",
    "    # Return normal values directly\n",
    "    else:\n",
    "        return num"
   ]
  },
  {
   "cell_type": "code",
   "execution_count": 6,
   "metadata": {},
   "outputs": [
    {
     "name": "stdout",
     "output_type": "stream",
     "text": [
      "           nursingchartid  patientunitstayid  observationoffset  \\\n",
      "151470743       222080627             141168                351   \n",
      "151470759       222080625             141168                351   \n",
      "151470766       222080626             141168                351   \n",
      "151470826       257836794             141168                563   \n",
      "151470832       257836793             141168                563   \n",
      "\n",
      "           nursingchartentryoffset nursingchartcelltypecat  \\\n",
      "151470743                      351             Vital Signs   \n",
      "151470759                      351             Vital Signs   \n",
      "151470766                      351             Vital Signs   \n",
      "151470826                      563             Vital Signs   \n",
      "151470832                      563             Vital Signs   \n",
      "\n",
      "          nursingchartcelltypevallabel nursingchartcelltypevalname  \\\n",
      "151470743                  Temperature             Temperature (F)   \n",
      "151470759                  Temperature             Temperature (C)   \n",
      "151470766                  Temperature        Temperature Location   \n",
      "151470826                  Temperature             Temperature (F)   \n",
      "151470832                  Temperature        Temperature Location   \n",
      "\n",
      "               temperature  \n",
      "151470743               97  \n",
      "151470759             36.1  \n",
      "151470766  TEMPORAL ARTERY  \n",
      "151470826             98.1  \n",
      "151470832  TEMPORAL ARTERY  \n"
     ]
    }
   ],
   "source": [
    "# nursingchartcelltypevallabel Temperature\n",
    "df_nurseCharting = df_nurseCharting[df_nurseCharting['nursingchartcelltypevallabel']=='Temperature']\n",
    "df_nurseCharting = df_nurseCharting.rename(columns={'nursingchartoffset': 'observationoffset', 'nursingchartvalue':'temperature'})\n",
    "print(df_nurseCharting.head())"
   ]
  },
  {
   "cell_type": "code",
   "execution_count": 7,
   "metadata": {},
   "outputs": [
    {
     "name": "stdout",
     "output_type": "stream",
     "text": [
      "First 5 rows of Temp_n: \n",
      "           patientunitstayid  observationoffset temperature\n",
      "151470743             141168                351          97\n",
      "151470759             141168                351        36.1\n",
      "151470826             141168                563        98.1\n",
      "151470833             141168                563        36.7\n",
      "151470659             141168                808        36.8 \n",
      "\n",
      "First 5 rows of Temp: \n",
      "     patientunitstayid  observationoffset  temperature\n",
      "15            141168.0              119.0          NaN\n",
      "201           141168.0              124.0          NaN\n",
      "213           141168.0              129.0          NaN\n",
      "415           141168.0              134.0          NaN\n",
      "177           141168.0              139.0          NaN \n",
      "\n",
      "First 5 rows of Temp_index: \n",
      "0       0\n",
      "1     435\n",
      "2     840\n",
      "3    1216\n",
      "4    1269\n",
      "dtype: int64\n"
     ]
    }
   ],
   "source": [
    "# extract temperature from df_vitalPeriodic & df_nurseCharting\n",
    "Temp_v = df_vitalPeriodic[['patientunitstayid', 'observationoffset', 'temperature']]\n",
    "Temp_n = df_nurseCharting[['patientunitstayid', 'observationoffset', 'temperature']]\n",
    "\n",
    "# delete the rows with string values\n",
    "Temp_n = Temp_n[Temp_n['temperature'].apply(lambda x: str(x).replace('.', '', 1).isdigit())]\n",
    "print(f'First 5 rows of Temp_n: \\n{Temp_n.head()} \\n')\n",
    "\n",
    "Temp = pd.concat([Temp_v, Temp_n]).astype(float)\n",
    "Temp.sort_values(by=['patientunitstayid', 'observationoffset'], inplace=True)\n",
    "print(f'First 5 rows of Temp: \\n{Temp.head()} \\n')\n",
    "\n",
    "# exclude abnormal heart rate values\n",
    "Temp.loc[:, 'temperature'] = Temp['temperature'].apply(normal_temperature)\n",
    "\n",
    "# save Temp to csv file (uncomment the code to save)\n",
    "# Temp.to_csv('Temp.csv', index=False)\n",
    "\n",
    "value_position_dict = {}\n",
    "first_occurrences = []\n",
    "for idx, value in enumerate(Temp['patientunitstayid']):\n",
    "    # if the value is not in the dictionary, add it and create index\n",
    "    if value not in value_position_dict:\n",
    "        value_position_dict[value] = idx\n",
    "        first_occurrences.append(idx)\n",
    "\n",
    "first_occurrences.append(len(Temp))\n",
    "# create first occurrence index for every patient\n",
    "Temp_index = pd.Series(first_occurrences)\n",
    "print(f'First 5 rows of Temp_index: \\n{Temp_index.head()}')"
   ]
  },
  {
   "cell_type": "markdown",
   "metadata": {},
   "source": [
    "**Example: how to use Temp & Temp_index**"
   ]
  },
  {
   "cell_type": "code",
   "execution_count": 8,
   "metadata": {},
   "outputs": [
    {
     "name": "stdout",
     "output_type": "stream",
     "text": [
      "HeartRate data for patient 1: \n",
      "     patientunitstayid  observationoffset  temperature\n",
      "15            141168.0              119.0          NaN\n",
      "201           141168.0              124.0          NaN\n",
      "213           141168.0              129.0          NaN\n",
      "415           141168.0              134.0          NaN\n",
      "177           141168.0              139.0          NaN\n",
      "..                 ...                ...          ...\n",
      "371           141168.0             2294.0          NaN\n",
      "407           141168.0             2299.0          NaN\n",
      "125           141168.0             2304.0          NaN\n",
      "101           141168.0             2309.0          NaN\n",
      "203           141168.0             2314.0          NaN\n",
      "\n",
      "[435 rows x 3 columns]\n"
     ]
    }
   ],
   "source": [
    "# if we want the i th patient's data (i starts from 0)\n",
    "# use Temp.iloc[Temp_index[i]:Temp_index[i+1]]\n",
    "i = 0\n",
    "print(f'HeartRate data for patient {i+1}: \\n{Temp.iloc[Temp_index[i]:Temp_index[i+1]]}')"
   ]
  },
  {
   "cell_type": "code",
   "execution_count": 10,
   "metadata": {},
   "outputs": [
    {
     "name": "stdout",
     "output_type": "stream",
     "text": [
      "First time ICU patients: 71353\n",
      "Patients with temperature: 71263\n",
      "Patients without temperature: 90\n",
      "Patients without temperature: \n",
      " {2801153, 1447941, 1680905, 3137038, 3139088, 3135506, 1045022, 3043878, 1328169, 3102249, 3141677, 1042499, 3150922, 2933841, 3131989, 1848412, 1760355, 1244779, 3047020, 3154544, 1746547, 3098742, 399992, 1666682, 3154053, 986248, 1074314, 963212, 369297, 3092117, 3064492, 3034287, 1078979, 3081425, 356563, 838356, 381141, 372953, 272096, 388324, 1349865, 240876, 1836781, 3142894, 849647, 1594612, 1648374, 1814272, 1010951, 3038473, 1854743, 3034911, 975144, 3141433, 1784634, 3126092, 3117901, 3134285, 2301278, 1642345, 761196, 2883956, 438647, 1663354, 2707327, 3136390, 1815431, 1050505, 3089801, 1719695, 3148181, 935324, 3171236, 3156909, 3102646, 3336132, 3058631, 3043273, 3092939, 1847757, 1839057, 784853, 1609180, 3072991, 3155425, 816098, 3134446, 3062255, 1249263, 1074163}\n"
     ]
    }
   ],
   "source": [
    "# 第一次进入ICU的心血管疾病患者ID集合\n",
    "first_time_icu_patients = set(patient_id)\n",
    "print(f'First time ICU patients: {len(first_time_icu_patients)}')\n",
    "\n",
    "# 有温度数据的患者ID集合\n",
    "patients_with_temperature = set(Temp['patientunitstayid'].unique())\n",
    "print(f'Patients with temperature: {len(patients_with_temperature)}')\n",
    "\n",
    "# 没有温度数据的患者ID集合\n",
    "patients_without_temperature = first_time_icu_patients - patients_with_temperature\n",
    "print(f'Patients without temperature: {len(patients_without_temperature)}')\n",
    "print(f'Patients without temperature: \\n {patients_without_temperature}')"
   ]
  }
 ],
 "metadata": {
  "kernelspec": {
   "display_name": "bdd",
   "language": "python",
   "name": "python3"
  },
  "language_info": {
   "codemirror_mode": {
    "name": "ipython",
    "version": 3
   },
   "file_extension": ".py",
   "mimetype": "text/x-python",
   "name": "python",
   "nbconvert_exporter": "python",
   "pygments_lexer": "ipython3",
   "version": "3.9.18"
  }
 },
 "nbformat": 4,
 "nbformat_minor": 2
}
