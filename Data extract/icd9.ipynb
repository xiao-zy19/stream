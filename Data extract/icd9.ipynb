{
 "cells": [
  {
   "cell_type": "markdown",
   "metadata": {},
   "source": [
    "### Choose the first entry of each patient. Extract icd9 data for each patient. "
   ]
  },
  {
   "cell_type": "markdown",
   "metadata": {},
   "source": [
    "**1. Extract sub-categories patient id from cardiovascular**"
   ]
  },
  {
   "cell_type": "code",
   "execution_count": 1,
   "metadata": {},
   "outputs": [
    {
     "name": "stdout",
     "output_type": "stream",
     "text": [
      "[ 143870  151179  151900 ... 3351297 3352230 3352231]\n"
     ]
    }
   ],
   "source": [
    "import os\n",
    "import numpy as np\n",
    "import matplotlib.pyplot as plt\n",
    "import pandas as pd\n",
    "\n",
    "# change to your folder path\n",
    "# os.chdir('C:/Users/xiao-zy19/Desktop/Johns Hopkins/Biomedical Data Design/EICU Database/eicu-collaborative-research-database-demo-2.0.1')\n",
    "os.chdir('/Users/xiao-zy19/Desktop/Johns Hopkins/Biomedical Data Design/DataExtract/data') \n",
    "\n",
    "# import diagnosis.csv\n",
    "df_diagnosis = pd.read_csv('diagnosis.csv')\n",
    "df_diagnosis.sort_values(by=['patientunitstayid', 'diagnosisoffset'], inplace=True)\n",
    "\n",
    "# select cardiovascular patients\n",
    "df_cardiovascular = df_diagnosis[df_diagnosis['diagnosisstring'].str.contains('cardiovascular')]\n",
    "\n",
    "# get shock patient \n",
    "shock_patient = df_cardiovascular[df_cardiovascular['diagnosisstring'].str.contains('shock')]\n",
    "\n",
    "# get ventricular patient \n",
    "ventricular_patient = df_cardiovascular[df_cardiovascular['diagnosisstring'].str.contains('ventricular')]\n",
    "\n",
    "# get chest pain patient \n",
    "chest_pain_patient = df_cardiovascular[df_cardiovascular['diagnosisstring'].str.contains('chest pain')]\n",
    "\n",
    "# get arrhythmias patient \n",
    "arrhythmias_patient = df_cardiovascular[df_cardiovascular['diagnosisstring'].str.contains('arrhythmias')]\n",
    "\n",
    "# put id together\n",
    "df_wanted = pd.concat([shock_patient, ventricular_patient, chest_pain_patient, arrhythmias_patient])\n",
    "\n",
    "# Get the patient ids from df_wanted & sort the patient id\n",
    "# patient_id_all multiple entry patient's stayid\n",
    "patient_id_all = df_wanted['patientunitstayid'].unique()\n",
    "patient_id_all.sort()\n",
    "print(patient_id_all)"
   ]
  },
  {
   "cell_type": "markdown",
   "metadata": {},
   "source": [
    "**2. Exclude patient whose unitvisitnumbe>1**"
   ]
  },
  {
   "cell_type": "code",
   "execution_count": 2,
   "metadata": {},
   "outputs": [
    {
     "name": "stdout",
     "output_type": "stream",
     "text": [
      "Total number of patients: 915\n"
     ]
    }
   ],
   "source": [
    "# import patient.csv\n",
    "df_patient = pd.read_csv('patient.csv')\n",
    "df_patient.sort_values(by=['patientunitstayid'], inplace=True)\n",
    "df_patient_buf = df_patient[df_patient['patientunitstayid'].isin(patient_id_all)]\n",
    "df_1time_patient = df_patient_buf[df_patient_buf['unitvisitnumber']==1]\n",
    "# print(df_1time_patient)\n",
    "\n",
    "# select the patient id from df_1time_patient\n",
    "patient_id = df_1time_patient['patientunitstayid'].unique()\n",
    "print(f'Total number of patients: {len(patient_id)}')"
   ]
  },
  {
   "cell_type": "markdown",
   "metadata": {},
   "source": [
    "**3. Extract data of patients within the id list**"
   ]
  },
  {
   "cell_type": "code",
   "execution_count": 5,
   "metadata": {},
   "outputs": [
    {
     "name": "stdout",
     "output_type": "stream",
     "text": [
      "shape of df_diagnosis: (16401, 7)\n"
     ]
    }
   ],
   "source": [
    "# choose wanted patients from diagnosis.csv\n",
    "df_diagnosis = df_diagnosis[df_diagnosis['patientunitstayid'].isin(patient_id)]\n",
    "\n",
    "# print the shape of the wanted file\n",
    "print(f'shape of df_diagnosis: {df_diagnosis.shape}')"
   ]
  },
  {
   "cell_type": "markdown",
   "metadata": {},
   "source": [
    "**4. Extract icd9 codes**"
   ]
  },
  {
   "cell_type": "code",
   "execution_count": 4,
   "metadata": {},
   "outputs": [
    {
     "ename": "NameError",
     "evalue": "name 'df_nurseCharting' is not defined",
     "output_type": "error",
     "traceback": [
      "\u001b[0;31m---------------------------------------------------------------------------\u001b[0m",
      "\u001b[0;31mNameError\u001b[0m                                 Traceback (most recent call last)",
      "\u001b[1;32m/Users/xiao-zy19/stream/Data extract/icd9.ipynb 单元格 9\u001b[0m line \u001b[0;36m2\n\u001b[1;32m      <a href='vscode-notebook-cell:/Users/xiao-zy19/stream/Data%20extract/icd9.ipynb#X11sZmlsZQ%3D%3D?line=0'>1</a>\u001b[0m \u001b[39m# nursingchartcelltypevallabel: SVO2\u001b[39;00m\n\u001b[0;32m----> <a href='vscode-notebook-cell:/Users/xiao-zy19/stream/Data%20extract/icd9.ipynb#X11sZmlsZQ%3D%3D?line=1'>2</a>\u001b[0m df_nurseCharting_SVO \u001b[39m=\u001b[39m df_nurseCharting[df_nurseCharting[\u001b[39m'\u001b[39m\u001b[39mnursingchartcelltypevallabel\u001b[39m\u001b[39m'\u001b[39m]\u001b[39m==\u001b[39m\u001b[39m'\u001b[39m\u001b[39mSVO2\u001b[39m\u001b[39m'\u001b[39m]\n\u001b[1;32m      <a href='vscode-notebook-cell:/Users/xiao-zy19/stream/Data%20extract/icd9.ipynb#X11sZmlsZQ%3D%3D?line=2'>3</a>\u001b[0m df_nurseCharting_SVO \u001b[39m=\u001b[39m df_nurseCharting_SVO\u001b[39m.\u001b[39mrename(columns\u001b[39m=\u001b[39m{\u001b[39m'\u001b[39m\u001b[39mnursingchartoffset\u001b[39m\u001b[39m'\u001b[39m: \u001b[39m'\u001b[39m\u001b[39mobservationoffset\u001b[39m\u001b[39m'\u001b[39m, \u001b[39m'\u001b[39m\u001b[39mnursingchartvalue\u001b[39m\u001b[39m'\u001b[39m:\u001b[39m'\u001b[39m\u001b[39mSVO2\u001b[39m\u001b[39m'\u001b[39m})\n\u001b[1;32m      <a href='vscode-notebook-cell:/Users/xiao-zy19/stream/Data%20extract/icd9.ipynb#X11sZmlsZQ%3D%3D?line=3'>4</a>\u001b[0m \u001b[39m# print(df_nurseCharting_SVO.head())\u001b[39;00m\n\u001b[1;32m      <a href='vscode-notebook-cell:/Users/xiao-zy19/stream/Data%20extract/icd9.ipynb#X11sZmlsZQ%3D%3D?line=4'>5</a>\u001b[0m \n\u001b[1;32m      <a href='vscode-notebook-cell:/Users/xiao-zy19/stream/Data%20extract/icd9.ipynb#X11sZmlsZQ%3D%3D?line=5'>6</a>\u001b[0m \u001b[39m# nursingchartcelltypevallabel: O2 Saturation\u001b[39;00m\n",
      "\u001b[0;31mNameError\u001b[0m: name 'df_nurseCharting' is not defined"
     ]
    }
   ],
   "source": [
    "# nursingchartcelltypevallabel: SVO2\n",
    "df_nurseCharting_SVO = df_nurseCharting[df_nurseCharting['nursingchartcelltypevallabel']=='SVO2']\n",
    "df_nurseCharting_SVO = df_nurseCharting_SVO.rename(columns={'nursingchartoffset': 'observationoffset', 'nursingchartvalue':'SVO2'})\n",
    "# print(df_nurseCharting_SVO.head())\n",
    "\n",
    "# nursingchartcelltypevallabel: O2 Saturation\n",
    "df_nurseCharting_O2 = df_nurseCharting[df_nurseCharting['nursingchartcelltypevallabel']=='O2 Saturation']\n",
    "df_nurseCharting_O2 = df_nurseCharting_O2.rename(columns={'nursingchartoffset': 'observationoffset', 'nursingchartvalue':'O2 Saturation'})\n",
    "# print(df_nurseCharting_O2.head())\n",
    "\n",
    "# labname: FiO2\n",
    "df_lab_FiO2 = df_lab[df_lab['labname']=='FiO2']\n",
    "df_lab_FiO2 = df_lab_FiO2.rename(columns={'labresultoffset': 'observationoffset', 'labresult':'FiO2'})\n",
    "# print(df_lab_FiO2.head())\n",
    "\n",
    "# labname: paO2\n",
    "df_lab_paO2 = df_lab[df_lab['labname']=='paO2']\n",
    "df_lab_paO2 = df_lab_paO2.rename(columns={'labresultoffset': 'observationoffset', 'labresult':'paO2'})\n",
    "# print(df_lab_paO2.head())\n",
    "\n",
    "# respchartvaluelabel: FiO2\n",
    "df_respiratoryCharting_FiO2 = df_respiratoryCharting[df_respiratoryCharting['respchartvaluelabel']=='FiO2']\n",
    "df_respiratoryCharting_FiO2 = df_respiratoryCharting_FiO2.rename(columns={'respchartoffset': 'observationoffset', 'respchartvalue':'FiO2'})\n",
    "# print(df_respiratoryCharting_FiO2.head())\n",
    "\n",
    "# respchartvaluelabel: FIO2 (%)\n",
    "df_respiratoryCharting_FIO2_percent = df_respiratoryCharting[df_respiratoryCharting['respchartvaluelabel']=='FIO2 (%)']\n",
    "df_respiratoryCharting_FIO2_percent = df_respiratoryCharting_FIO2_percent.rename(columns={'respchartoffset': 'observationoffset', 'respchartvalue':'FiO2 (%)'})\n",
    "# print(df_respiratoryCharting_FIO2_percent.head())"
   ]
  },
  {
   "cell_type": "code",
   "execution_count": null,
   "metadata": {},
   "outputs": [
    {
     "name": "stdout",
     "output_type": "stream",
     "text": [
      "nurse_SVO2 shape: (401, 3)\n",
      "nurse_O2 shape: (46412, 3)\n",
      "lab_FiO2 shape: (1558, 3)\n",
      "lab_paO2 shape: (1639, 3)\n",
      "resp_FiO2 shape: (12735, 3)\n",
      "resp_FIO2_percent shape: (39, 3)\n"
     ]
    }
   ],
   "source": [
    "# extract data from df_nurseCharting and sort by patientunitstayid and observationoffset\n",
    "nurse_SVO2 = df_nurseCharting_SVO[['patientunitstayid', 'observationoffset', 'SVO2']].copy()\n",
    "nurse_O2 = df_nurseCharting_O2[['patientunitstayid', 'observationoffset', 'O2 Saturation']].copy()\n",
    "nurse_SVO2.sort_values(by=['patientunitstayid', 'observationoffset'], inplace=True)\n",
    "nurse_O2.sort_values(by=['patientunitstayid', 'observationoffset'], inplace=True)\n",
    "\n",
    "# extract data from df_respiratoryCharting and sort by patientunitstayid and observationoffset\n",
    "lab_FiO2 = df_lab_FiO2[['patientunitstayid', 'observationoffset', 'FiO2']].copy()\n",
    "lab_paO2 = df_lab_paO2[['patientunitstayid', 'observationoffset', 'paO2']].copy()\n",
    "lab_FiO2.sort_values(by=['patientunitstayid', 'observationoffset'], inplace=True)\n",
    "lab_paO2.sort_values(by=['patientunitstayid', 'observationoffset'], inplace=True)\n",
    "\n",
    "# extract data from df_respiratoryCharting and sort by patientunitstayid and observationoffset\n",
    "resp_FiO2 = df_respiratoryCharting_FiO2[['patientunitstayid', 'observationoffset', 'FiO2']].copy()\n",
    "resp_FIO2_percent = df_respiratoryCharting_FIO2_percent[['patientunitstayid', 'observationoffset', 'FiO2 (%)']].copy()\n",
    "resp_FiO2.sort_values(by=['patientunitstayid', 'observationoffset'], inplace=True)\n",
    "resp_FIO2_percent.sort_values(by=['patientunitstayid', 'observationoffset'], inplace=True)\n",
    "print(f'nurse_SVO2 shape: {nurse_SVO2.shape}')\n",
    "print(f'nurse_O2 shape: {nurse_O2.shape}')\n",
    "print(f'lab_FiO2 shape: {lab_FiO2.shape}')\n",
    "print(f'lab_paO2 shape: {lab_paO2.shape}')\n",
    "print(f'resp_FiO2 shape: {resp_FiO2.shape}')\n",
    "print(f'resp_FIO2_percent shape: {resp_FIO2_percent.shape}')\n",
    "\n",
    "\n",
    "##  create index for each variable\n",
    "# value_position_dict = {}\n",
    "# first_occurrences = []\n",
    "# for idx, value in enumerate(Temp['patientunitstayid']):\n",
    "#     # if the value is not in the dictionary, add it and create index\n",
    "#     if value not in value_position_dict:\n",
    "#         value_position_dict[value] = idx\n",
    "#         first_occurrences.append(idx)\n",
    "\n",
    "# first_occurrences.append(len(Temp))\n",
    "# # create first occurrence index for every patient\n",
    "# Temp_index = pd.Series(first_occurrences)\n",
    "# print(f'First 5 rows of Temp_index: \\n{Temp_index.head()}')"
   ]
  }
 ],
 "metadata": {
  "kernelspec": {
   "display_name": "bdd",
   "language": "python",
   "name": "python3"
  },
  "language_info": {
   "codemirror_mode": {
    "name": "ipython",
    "version": 3
   },
   "file_extension": ".py",
   "mimetype": "text/x-python",
   "name": "python",
   "nbconvert_exporter": "python",
   "pygments_lexer": "ipython3",
   "version": "3.9.18"
  }
 },
 "nbformat": 4,
 "nbformat_minor": 2
}
