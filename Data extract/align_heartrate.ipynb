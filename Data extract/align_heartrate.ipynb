{
 "cells": [
  {
   "cell_type": "markdown",
   "metadata": {},
   "source": []
  },
  {
   "cell_type": "code",
   "execution_count": 2,
   "metadata": {},
   "outputs": [
    {
     "name": "stdout",
     "output_type": "stream",
     "text": [
      "Loading Heart Rate Data...\n",
      "Heart Rate Data Loaded. Time: 2.09s\n"
     ]
    }
   ],
   "source": [
    "import os\n",
    "import numpy as np\n",
    "import pandas as pd\n",
    "import matplotlib.pyplot as plt\n",
    "from utils import patient_id_age, heart_rate, create_index\n",
    "\n",
    "# change to your folder path\n",
    "# os.chdir('C:/Users/xiao-zy19/Desktop/Johns Hopkins/Biomedical Data Design/EICU Database/eicu-collaborative-research-database-demo-2.0.1')\n",
    "os.chdir('/Users/xiao-zy19/Desktop/Johns Hopkins/Biomedical Data Design/EICU Database/eicu-collaborative-research-database-demo-2.0.1') \n",
    "\n",
    "# get patient id\n",
    "patient_id, patient_age, patient_offset = patient_id_age()\n",
    "# extract heart rate data\n",
    "HR, _ = heart_rate(patient_id, drop_neg=True)"
   ]
  },
  {
   "cell_type": "code",
   "execution_count": 3,
   "metadata": {},
   "outputs": [
    {
     "name": "stdout",
     "output_type": "stream",
     "text": [
      "Heartrate data shape: (814892, 3)\n",
      "      patientunitstayid  unitdischargeoffset\n",
      "2                143870                  793\n",
      "13               151179                 4904\n",
      "15               151900                 3460\n",
      "16               152954                 4224\n",
      "17               153972                 1545\n",
      "...                 ...                  ...\n",
      "2505            3346187                 2120\n",
      "2509            3348292                10185\n",
      "2511            3348409                 1895\n",
      "2514            3351297                 1490\n",
      "2517            3352231                 1369\n",
      "\n",
      "[915 rows x 2 columns]\n"
     ]
    }
   ],
   "source": [
    "print(f'Heartrate data shape: {HR.shape}')\n",
    "# print(f'HR_index shape: {HR_index.shape}')\n",
    "print(patient_offset)"
   ]
  },
  {
   "cell_type": "code",
   "execution_count": 4,
   "metadata": {},
   "outputs": [
    {
     "name": "stdout",
     "output_type": "stream",
     "text": [
      "     patientunitstayid  unitdischargeoffset\n",
      "0               143870                   13\n",
      "1               151179                   81\n",
      "2               151900                   57\n",
      "3               152954                   70\n",
      "4               153972                   25\n",
      "..                 ...                  ...\n",
      "910            3346187                   35\n",
      "911            3348292                  169\n",
      "912            3348409                   31\n",
      "913            3351297                   24\n",
      "914            3352231                   22\n",
      "\n",
      "[915 rows x 2 columns]\n"
     ]
    }
   ],
   "source": [
    "patient_hours = patient_offset.copy().reset_index(drop=True)\n",
    "patient_hours['unitdischargeoffset'] = np.floor(patient_hours['unitdischargeoffset']/60).astype(int)\n",
    "print(patient_hours)"
   ]
  },
  {
   "cell_type": "code",
   "execution_count": 5,
   "metadata": {},
   "outputs": [
    {
     "name": "stdout",
     "output_type": "stream",
     "text": [
      "     patientunitstayid  unitdischargeoffset\n",
      "0               143870                   13\n",
      "1               151179                   81\n",
      "2               151900                   57\n",
      "3               152954                   70\n",
      "4               153972                   25\n",
      "..                 ...                  ...\n",
      "907            3346187                   35\n",
      "908            3348292                  169\n",
      "909            3348409                   31\n",
      "910            3351297                   24\n",
      "911            3352231                   22\n",
      "\n",
      "[912 rows x 2 columns]\n",
      "    patientunitstayid  unitdischargeoffset\n",
      "17             186393                   97\n"
     ]
    }
   ],
   "source": [
    "unique_HR_patient_ids = HR['patientunitstayid'].unique()\n",
    "patient_hours = patient_hours[patient_hours['patientunitstayid'].isin(unique_HR_patient_ids)].reset_index(drop=True)\n",
    "print(patient_hours)\n",
    "print(patient_hours.loc[patient_hours[\"patientunitstayid\"]==186393])"
   ]
  },
  {
   "cell_type": "code",
   "execution_count": 6,
   "metadata": {},
   "outputs": [],
   "source": [
    "HR_hour_buf = HR.copy().reset_index(drop=True)\n",
    "HR_hour_buf[\"observationoffset\"] = np.floor(HR_hour_buf[\"observationoffset\"]/60).astype(int)\n",
    "# print(HR_hour_buf.loc[HR_hour_buf[\"patientunitstayid\"]==186393])\n",
    "HR_hour_buf = HR_hour_buf.groupby([\"patientunitstayid\", \"observationoffset\"], as_index=False)[\"heartrate\"].mean()\n",
    "HR_hour_buf.sort_values(by=[\"patientunitstayid\", \"observationoffset\"], inplace=True)\n",
    "# print(HR_hour_buf.loc[HR_hour_buf[\"patientunitstayid\"]==186393])\n",
    "\n",
    "HR_hour_cleaned = pd.merge(HR_hour_buf, patient_hours,on='patientunitstayid', how='left')\n",
    "# print(HR_hour_cleaned.loc[HR_hour_cleaned[\"patientunitstayid\"]==186393])\n",
    "HR_hour_cleaned = HR_hour_cleaned[HR_hour_cleaned['observationoffset'] <= HR_hour_cleaned['unitdischargeoffset']]\n",
    "# print(HR_hour_cleaned.loc[HR_hour_cleaned[\"patientunitstayid\"]==186393])\n",
    "HR_hour = HR_hour_cleaned.drop(['unitdischargeoffset'], axis=1)\n",
    "# print(HR_hour)\n",
    "# print(HR_hour.loc[HR_hour[\"patientunitstayid\"]==186393])"
   ]
  },
  {
   "cell_type": "code",
   "execution_count": null,
   "metadata": {},
   "outputs": [],
   "source": [
    "max_offset_per_patient = HR_hour.groupby('patientunitstayid')['observationoffset'].max().reset_index()\n",
    "# print(max_offset_per_patient)\n",
    "\n",
    "complete_ranges = []\n",
    "for index, row in max_offset_per_patient.iterrows():\n",
    "    patient_id = row['patientunitstayid']\n",
    "    max_offset = row['observationoffset']\n",
    "    complete_range = pd.DataFrame({\n",
    "        'patientunitstayid': patient_id,\n",
    "        'observationoffset': range(int(max_offset) + 1)\n",
    "    })\n",
    "    complete_ranges.append(complete_range)\n",
    "\n",
    "complete_df = pd.concat(complete_ranges, ignore_index=True)\n",
    "HR_full = pd.merge(complete_df, HR_hour, on=['patientunitstayid', 'observationoffset'], how='left')\n",
    "\n",
    "HR_full_index = create_index(HR_full)\n",
    "print(HR_full_index)"
   ]
  },
  {
   "cell_type": "code",
   "execution_count": 9,
   "metadata": {},
   "outputs": [
    {
     "name": "stdout",
     "output_type": "stream",
     "text": [
      "89\n",
      "92\n"
     ]
    },
    {
     "name": "stderr",
     "output_type": "stream",
     "text": [
      "/Users/xiao-zy19/anaconda3/envs/bdd/lib/python3.9/site-packages/sklearn/gaussian_process/_gpr.py:659: ConvergenceWarning: lbfgs failed to converge (status=2):\n",
      "ABNORMAL_TERMINATION_IN_LNSRCH.\n",
      "\n",
      "Increase the number of iterations (max_iter) or scale the data as shown in:\n",
      "    https://scikit-learn.org/stable/modules/preprocessing.html\n",
      "  _check_optimize_result(\"lbfgs\", opt_res)\n"
     ]
    },
    {
     "name": "stdout",
     "output_type": "stream",
     "text": [
      "95\n",
      "103\n",
      "112\n",
      "118\n"
     ]
    },
    {
     "name": "stderr",
     "output_type": "stream",
     "text": [
      "/Users/xiao-zy19/anaconda3/envs/bdd/lib/python3.9/site-packages/sklearn/gaussian_process/_gpr.py:659: ConvergenceWarning: lbfgs failed to converge (status=2):\n",
      "ABNORMAL_TERMINATION_IN_LNSRCH.\n",
      "\n",
      "Increase the number of iterations (max_iter) or scale the data as shown in:\n",
      "    https://scikit-learn.org/stable/modules/preprocessing.html\n",
      "  _check_optimize_result(\"lbfgs\", opt_res)\n"
     ]
    },
    {
     "name": "stdout",
     "output_type": "stream",
     "text": [
      "119\n",
      "120\n",
      "123\n",
      "124\n",
      "126\n",
      "128\n",
      "129\n",
      "132\n",
      "135\n",
      "137\n",
      "138\n",
      "141\n",
      "142\n",
      "144\n",
      "145\n",
      "147\n",
      "151\n",
      "157\n",
      "158\n",
      "160\n",
      "165\n",
      "175\n",
      "183\n"
     ]
    },
    {
     "ename": "KeyboardInterrupt",
     "evalue": "",
     "output_type": "error",
     "traceback": [
      "\u001b[0;31m---------------------------------------------------------------------------\u001b[0m",
      "\u001b[0;31mKeyboardInterrupt\u001b[0m                         Traceback (most recent call last)",
      "\u001b[1;32m/Users/xiao-zy19/stream/Data extract/align_heartrate.ipynb 单元格 8\u001b[0m line \u001b[0;36m2\n\u001b[1;32m     <a href='vscode-notebook-cell:/Users/xiao-zy19/stream/Data%20extract/align_heartrate.ipynb#X10sZmlsZQ%3D%3D?line=17'>18</a>\u001b[0m kernel \u001b[39m=\u001b[39m RBF()\n\u001b[1;32m     <a href='vscode-notebook-cell:/Users/xiao-zy19/stream/Data%20extract/align_heartrate.ipynb#X10sZmlsZQ%3D%3D?line=18'>19</a>\u001b[0m gp \u001b[39m=\u001b[39m GaussianProcessRegressor(kernel\u001b[39m=\u001b[39mkernel, n_restarts_optimizer\u001b[39m=\u001b[39m\u001b[39m1000\u001b[39m)\n\u001b[0;32m---> <a href='vscode-notebook-cell:/Users/xiao-zy19/stream/Data%20extract/align_heartrate.ipynb#X10sZmlsZQ%3D%3D?line=19'>20</a>\u001b[0m gp\u001b[39m.\u001b[39;49mfit(t_known\u001b[39m.\u001b[39;49mreshape(\u001b[39m-\u001b[39;49m\u001b[39m1\u001b[39;49m, \u001b[39m1\u001b[39;49m), y_known)\n\u001b[1;32m     <a href='vscode-notebook-cell:/Users/xiao-zy19/stream/Data%20extract/align_heartrate.ipynb#X10sZmlsZQ%3D%3D?line=20'>21</a>\u001b[0m t_missing \u001b[39m=\u001b[39m t[np\u001b[39m.\u001b[39misnan(y)]\n\u001b[1;32m     <a href='vscode-notebook-cell:/Users/xiao-zy19/stream/Data%20extract/align_heartrate.ipynb#X10sZmlsZQ%3D%3D?line=22'>23</a>\u001b[0m \u001b[39m# print(t_missing)\u001b[39;00m\n",
      "File \u001b[0;32m~/anaconda3/envs/bdd/lib/python3.9/site-packages/sklearn/base.py:1151\u001b[0m, in \u001b[0;36m_fit_context.<locals>.decorator.<locals>.wrapper\u001b[0;34m(estimator, *args, **kwargs)\u001b[0m\n\u001b[1;32m   1144\u001b[0m     estimator\u001b[39m.\u001b[39m_validate_params()\n\u001b[1;32m   1146\u001b[0m \u001b[39mwith\u001b[39;00m config_context(\n\u001b[1;32m   1147\u001b[0m     skip_parameter_validation\u001b[39m=\u001b[39m(\n\u001b[1;32m   1148\u001b[0m         prefer_skip_nested_validation \u001b[39mor\u001b[39;00m global_skip_validation\n\u001b[1;32m   1149\u001b[0m     )\n\u001b[1;32m   1150\u001b[0m ):\n\u001b[0;32m-> 1151\u001b[0m     \u001b[39mreturn\u001b[39;00m fit_method(estimator, \u001b[39m*\u001b[39;49margs, \u001b[39m*\u001b[39;49m\u001b[39m*\u001b[39;49mkwargs)\n",
      "File \u001b[0;32m~/anaconda3/envs/bdd/lib/python3.9/site-packages/sklearn/gaussian_process/_gpr.py:321\u001b[0m, in \u001b[0;36mGaussianProcessRegressor.fit\u001b[0;34m(self, X, y)\u001b[0m\n\u001b[1;32m    318\u001b[0m     \u001b[39mfor\u001b[39;00m iteration \u001b[39min\u001b[39;00m \u001b[39mrange\u001b[39m(\u001b[39mself\u001b[39m\u001b[39m.\u001b[39mn_restarts_optimizer):\n\u001b[1;32m    319\u001b[0m         theta_initial \u001b[39m=\u001b[39m \u001b[39mself\u001b[39m\u001b[39m.\u001b[39m_rng\u001b[39m.\u001b[39muniform(bounds[:, \u001b[39m0\u001b[39m], bounds[:, \u001b[39m1\u001b[39m])\n\u001b[1;32m    320\u001b[0m         optima\u001b[39m.\u001b[39mappend(\n\u001b[0;32m--> 321\u001b[0m             \u001b[39mself\u001b[39;49m\u001b[39m.\u001b[39;49m_constrained_optimization(obj_func, theta_initial, bounds)\n\u001b[1;32m    322\u001b[0m         )\n\u001b[1;32m    323\u001b[0m \u001b[39m# Select result from run with minimal (negative) log-marginal\u001b[39;00m\n\u001b[1;32m    324\u001b[0m \u001b[39m# likelihood\u001b[39;00m\n\u001b[1;32m    325\u001b[0m lml_values \u001b[39m=\u001b[39m \u001b[39mlist\u001b[39m(\u001b[39mmap\u001b[39m(itemgetter(\u001b[39m1\u001b[39m), optima))\n",
      "File \u001b[0;32m~/anaconda3/envs/bdd/lib/python3.9/site-packages/sklearn/gaussian_process/_gpr.py:652\u001b[0m, in \u001b[0;36mGaussianProcessRegressor._constrained_optimization\u001b[0;34m(self, obj_func, initial_theta, bounds)\u001b[0m\n\u001b[1;32m    650\u001b[0m \u001b[39mdef\u001b[39;00m \u001b[39m_constrained_optimization\u001b[39m(\u001b[39mself\u001b[39m, obj_func, initial_theta, bounds):\n\u001b[1;32m    651\u001b[0m     \u001b[39mif\u001b[39;00m \u001b[39mself\u001b[39m\u001b[39m.\u001b[39moptimizer \u001b[39m==\u001b[39m \u001b[39m\"\u001b[39m\u001b[39mfmin_l_bfgs_b\u001b[39m\u001b[39m\"\u001b[39m:\n\u001b[0;32m--> 652\u001b[0m         opt_res \u001b[39m=\u001b[39m scipy\u001b[39m.\u001b[39;49moptimize\u001b[39m.\u001b[39;49mminimize(\n\u001b[1;32m    653\u001b[0m             obj_func,\n\u001b[1;32m    654\u001b[0m             initial_theta,\n\u001b[1;32m    655\u001b[0m             method\u001b[39m=\u001b[39;49m\u001b[39m\"\u001b[39;49m\u001b[39mL-BFGS-B\u001b[39;49m\u001b[39m\"\u001b[39;49m,\n\u001b[1;32m    656\u001b[0m             jac\u001b[39m=\u001b[39;49m\u001b[39mTrue\u001b[39;49;00m,\n\u001b[1;32m    657\u001b[0m             bounds\u001b[39m=\u001b[39;49mbounds,\n\u001b[1;32m    658\u001b[0m         )\n\u001b[1;32m    659\u001b[0m         _check_optimize_result(\u001b[39m\"\u001b[39m\u001b[39mlbfgs\u001b[39m\u001b[39m\"\u001b[39m, opt_res)\n\u001b[1;32m    660\u001b[0m         theta_opt, func_min \u001b[39m=\u001b[39m opt_res\u001b[39m.\u001b[39mx, opt_res\u001b[39m.\u001b[39mfun\n",
      "File \u001b[0;32m~/anaconda3/envs/bdd/lib/python3.9/site-packages/scipy/optimize/_minimize.py:710\u001b[0m, in \u001b[0;36mminimize\u001b[0;34m(fun, x0, args, method, jac, hess, hessp, bounds, constraints, tol, callback, options)\u001b[0m\n\u001b[1;32m    707\u001b[0m     res \u001b[39m=\u001b[39m _minimize_newtoncg(fun, x0, args, jac, hess, hessp, callback,\n\u001b[1;32m    708\u001b[0m                              \u001b[39m*\u001b[39m\u001b[39m*\u001b[39moptions)\n\u001b[1;32m    709\u001b[0m \u001b[39melif\u001b[39;00m meth \u001b[39m==\u001b[39m \u001b[39m'\u001b[39m\u001b[39ml-bfgs-b\u001b[39m\u001b[39m'\u001b[39m:\n\u001b[0;32m--> 710\u001b[0m     res \u001b[39m=\u001b[39m _minimize_lbfgsb(fun, x0, args, jac, bounds,\n\u001b[1;32m    711\u001b[0m                            callback\u001b[39m=\u001b[39;49mcallback, \u001b[39m*\u001b[39;49m\u001b[39m*\u001b[39;49moptions)\n\u001b[1;32m    712\u001b[0m \u001b[39melif\u001b[39;00m meth \u001b[39m==\u001b[39m \u001b[39m'\u001b[39m\u001b[39mtnc\u001b[39m\u001b[39m'\u001b[39m:\n\u001b[1;32m    713\u001b[0m     res \u001b[39m=\u001b[39m _minimize_tnc(fun, x0, args, jac, bounds, callback\u001b[39m=\u001b[39mcallback,\n\u001b[1;32m    714\u001b[0m                         \u001b[39m*\u001b[39m\u001b[39m*\u001b[39moptions)\n",
      "File \u001b[0;32m~/anaconda3/envs/bdd/lib/python3.9/site-packages/scipy/optimize/_lbfgsb_py.py:361\u001b[0m, in \u001b[0;36m_minimize_lbfgsb\u001b[0;34m(fun, x0, args, jac, bounds, disp, maxcor, ftol, gtol, eps, maxfun, maxiter, iprint, callback, maxls, finite_diff_rel_step, **unknown_options)\u001b[0m\n\u001b[1;32m    355\u001b[0m task_str \u001b[39m=\u001b[39m task\u001b[39m.\u001b[39mtobytes()\n\u001b[1;32m    356\u001b[0m \u001b[39mif\u001b[39;00m task_str\u001b[39m.\u001b[39mstartswith(\u001b[39mb\u001b[39m\u001b[39m'\u001b[39m\u001b[39mFG\u001b[39m\u001b[39m'\u001b[39m):\n\u001b[1;32m    357\u001b[0m     \u001b[39m# The minimization routine wants f and g at the current x.\u001b[39;00m\n\u001b[1;32m    358\u001b[0m     \u001b[39m# Note that interruptions due to maxfun are postponed\u001b[39;00m\n\u001b[1;32m    359\u001b[0m     \u001b[39m# until the completion of the current minimization iteration.\u001b[39;00m\n\u001b[1;32m    360\u001b[0m     \u001b[39m# Overwrite f and g:\u001b[39;00m\n\u001b[0;32m--> 361\u001b[0m     f, g \u001b[39m=\u001b[39m func_and_grad(x)\n\u001b[1;32m    362\u001b[0m \u001b[39melif\u001b[39;00m task_str\u001b[39m.\u001b[39mstartswith(\u001b[39mb\u001b[39m\u001b[39m'\u001b[39m\u001b[39mNEW_X\u001b[39m\u001b[39m'\u001b[39m):\n\u001b[1;32m    363\u001b[0m     \u001b[39m# new iteration\u001b[39;00m\n\u001b[1;32m    364\u001b[0m     n_iterations \u001b[39m+\u001b[39m\u001b[39m=\u001b[39m \u001b[39m1\u001b[39m\n",
      "File \u001b[0;32m~/anaconda3/envs/bdd/lib/python3.9/site-packages/scipy/optimize/_differentiable_functions.py:285\u001b[0m, in \u001b[0;36mScalarFunction.fun_and_grad\u001b[0;34m(self, x)\u001b[0m\n\u001b[1;32m    283\u001b[0m \u001b[39mif\u001b[39;00m \u001b[39mnot\u001b[39;00m np\u001b[39m.\u001b[39marray_equal(x, \u001b[39mself\u001b[39m\u001b[39m.\u001b[39mx):\n\u001b[1;32m    284\u001b[0m     \u001b[39mself\u001b[39m\u001b[39m.\u001b[39m_update_x_impl(x)\n\u001b[0;32m--> 285\u001b[0m \u001b[39mself\u001b[39;49m\u001b[39m.\u001b[39;49m_update_fun()\n\u001b[1;32m    286\u001b[0m \u001b[39mself\u001b[39m\u001b[39m.\u001b[39m_update_grad()\n\u001b[1;32m    287\u001b[0m \u001b[39mreturn\u001b[39;00m \u001b[39mself\u001b[39m\u001b[39m.\u001b[39mf, \u001b[39mself\u001b[39m\u001b[39m.\u001b[39mg\n",
      "File \u001b[0;32m~/anaconda3/envs/bdd/lib/python3.9/site-packages/scipy/optimize/_differentiable_functions.py:251\u001b[0m, in \u001b[0;36mScalarFunction._update_fun\u001b[0;34m(self)\u001b[0m\n\u001b[1;32m    249\u001b[0m \u001b[39mdef\u001b[39;00m \u001b[39m_update_fun\u001b[39m(\u001b[39mself\u001b[39m):\n\u001b[1;32m    250\u001b[0m     \u001b[39mif\u001b[39;00m \u001b[39mnot\u001b[39;00m \u001b[39mself\u001b[39m\u001b[39m.\u001b[39mf_updated:\n\u001b[0;32m--> 251\u001b[0m         \u001b[39mself\u001b[39;49m\u001b[39m.\u001b[39;49m_update_fun_impl()\n\u001b[1;32m    252\u001b[0m         \u001b[39mself\u001b[39m\u001b[39m.\u001b[39mf_updated \u001b[39m=\u001b[39m \u001b[39mTrue\u001b[39;00m\n",
      "File \u001b[0;32m~/anaconda3/envs/bdd/lib/python3.9/site-packages/scipy/optimize/_differentiable_functions.py:155\u001b[0m, in \u001b[0;36mScalarFunction.__init__.<locals>.update_fun\u001b[0;34m()\u001b[0m\n\u001b[1;32m    154\u001b[0m \u001b[39mdef\u001b[39;00m \u001b[39mupdate_fun\u001b[39m():\n\u001b[0;32m--> 155\u001b[0m     \u001b[39mself\u001b[39m\u001b[39m.\u001b[39mf \u001b[39m=\u001b[39m fun_wrapped(\u001b[39mself\u001b[39;49m\u001b[39m.\u001b[39;49mx)\n",
      "File \u001b[0;32m~/anaconda3/envs/bdd/lib/python3.9/site-packages/scipy/optimize/_differentiable_functions.py:137\u001b[0m, in \u001b[0;36mScalarFunction.__init__.<locals>.fun_wrapped\u001b[0;34m(x)\u001b[0m\n\u001b[1;32m    133\u001b[0m \u001b[39mself\u001b[39m\u001b[39m.\u001b[39mnfev \u001b[39m+\u001b[39m\u001b[39m=\u001b[39m \u001b[39m1\u001b[39m\n\u001b[1;32m    134\u001b[0m \u001b[39m# Send a copy because the user may overwrite it.\u001b[39;00m\n\u001b[1;32m    135\u001b[0m \u001b[39m# Overwriting results in undefined behaviour because\u001b[39;00m\n\u001b[1;32m    136\u001b[0m \u001b[39m# fun(self.x) will change self.x, with the two no longer linked.\u001b[39;00m\n\u001b[0;32m--> 137\u001b[0m fx \u001b[39m=\u001b[39m fun(np\u001b[39m.\u001b[39;49mcopy(x), \u001b[39m*\u001b[39;49margs)\n\u001b[1;32m    138\u001b[0m \u001b[39m# Make sure the function returns a true scalar\u001b[39;00m\n\u001b[1;32m    139\u001b[0m \u001b[39mif\u001b[39;00m \u001b[39mnot\u001b[39;00m np\u001b[39m.\u001b[39misscalar(fx):\n",
      "File \u001b[0;32m~/anaconda3/envs/bdd/lib/python3.9/site-packages/scipy/optimize/_optimize.py:77\u001b[0m, in \u001b[0;36mMemoizeJac.__call__\u001b[0;34m(self, x, *args)\u001b[0m\n\u001b[1;32m     75\u001b[0m \u001b[39mdef\u001b[39;00m \u001b[39m__call__\u001b[39m(\u001b[39mself\u001b[39m, x, \u001b[39m*\u001b[39margs):\n\u001b[1;32m     76\u001b[0m \u001b[39m    \u001b[39m\u001b[39m\"\"\" returns the function value \"\"\"\u001b[39;00m\n\u001b[0;32m---> 77\u001b[0m     \u001b[39mself\u001b[39;49m\u001b[39m.\u001b[39;49m_compute_if_needed(x, \u001b[39m*\u001b[39;49margs)\n\u001b[1;32m     78\u001b[0m     \u001b[39mreturn\u001b[39;00m \u001b[39mself\u001b[39m\u001b[39m.\u001b[39m_value\n",
      "File \u001b[0;32m~/anaconda3/envs/bdd/lib/python3.9/site-packages/scipy/optimize/_optimize.py:71\u001b[0m, in \u001b[0;36mMemoizeJac._compute_if_needed\u001b[0;34m(self, x, *args)\u001b[0m\n\u001b[1;32m     69\u001b[0m \u001b[39mif\u001b[39;00m \u001b[39mnot\u001b[39;00m np\u001b[39m.\u001b[39mall(x \u001b[39m==\u001b[39m \u001b[39mself\u001b[39m\u001b[39m.\u001b[39mx) \u001b[39mor\u001b[39;00m \u001b[39mself\u001b[39m\u001b[39m.\u001b[39m_value \u001b[39mis\u001b[39;00m \u001b[39mNone\u001b[39;00m \u001b[39mor\u001b[39;00m \u001b[39mself\u001b[39m\u001b[39m.\u001b[39mjac \u001b[39mis\u001b[39;00m \u001b[39mNone\u001b[39;00m:\n\u001b[1;32m     70\u001b[0m     \u001b[39mself\u001b[39m\u001b[39m.\u001b[39mx \u001b[39m=\u001b[39m np\u001b[39m.\u001b[39masarray(x)\u001b[39m.\u001b[39mcopy()\n\u001b[0;32m---> 71\u001b[0m     fg \u001b[39m=\u001b[39m \u001b[39mself\u001b[39;49m\u001b[39m.\u001b[39;49mfun(x, \u001b[39m*\u001b[39;49margs)\n\u001b[1;32m     72\u001b[0m     \u001b[39mself\u001b[39m\u001b[39m.\u001b[39mjac \u001b[39m=\u001b[39m fg[\u001b[39m1\u001b[39m]\n\u001b[1;32m     73\u001b[0m     \u001b[39mself\u001b[39m\u001b[39m.\u001b[39m_value \u001b[39m=\u001b[39m fg[\u001b[39m0\u001b[39m]\n",
      "File \u001b[0;32m~/anaconda3/envs/bdd/lib/python3.9/site-packages/sklearn/gaussian_process/_gpr.py:293\u001b[0m, in \u001b[0;36mGaussianProcessRegressor.fit.<locals>.obj_func\u001b[0;34m(theta, eval_gradient)\u001b[0m\n\u001b[1;32m    291\u001b[0m \u001b[39mdef\u001b[39;00m \u001b[39mobj_func\u001b[39m(theta, eval_gradient\u001b[39m=\u001b[39m\u001b[39mTrue\u001b[39;00m):\n\u001b[1;32m    292\u001b[0m     \u001b[39mif\u001b[39;00m eval_gradient:\n\u001b[0;32m--> 293\u001b[0m         lml, grad \u001b[39m=\u001b[39m \u001b[39mself\u001b[39;49m\u001b[39m.\u001b[39;49mlog_marginal_likelihood(\n\u001b[1;32m    294\u001b[0m             theta, eval_gradient\u001b[39m=\u001b[39;49m\u001b[39mTrue\u001b[39;49;00m, clone_kernel\u001b[39m=\u001b[39;49m\u001b[39mFalse\u001b[39;49;00m\n\u001b[1;32m    295\u001b[0m         )\n\u001b[1;32m    296\u001b[0m         \u001b[39mreturn\u001b[39;00m \u001b[39m-\u001b[39mlml, \u001b[39m-\u001b[39mgrad\n\u001b[1;32m    297\u001b[0m     \u001b[39melse\u001b[39;00m:\n",
      "File \u001b[0;32m~/anaconda3/envs/bdd/lib/python3.9/site-packages/sklearn/gaussian_process/_gpr.py:583\u001b[0m, in \u001b[0;36mGaussianProcessRegressor.log_marginal_likelihood\u001b[0;34m(self, theta, eval_gradient, clone_kernel)\u001b[0m\n\u001b[1;32m    581\u001b[0m K[np\u001b[39m.\u001b[39mdiag_indices_from(K)] \u001b[39m+\u001b[39m\u001b[39m=\u001b[39m \u001b[39mself\u001b[39m\u001b[39m.\u001b[39malpha\n\u001b[1;32m    582\u001b[0m \u001b[39mtry\u001b[39;00m:\n\u001b[0;32m--> 583\u001b[0m     L \u001b[39m=\u001b[39m cholesky(K, lower\u001b[39m=\u001b[39;49mGPR_CHOLESKY_LOWER, check_finite\u001b[39m=\u001b[39;49m\u001b[39mFalse\u001b[39;49;00m)\n\u001b[1;32m    584\u001b[0m \u001b[39mexcept\u001b[39;00m np\u001b[39m.\u001b[39mlinalg\u001b[39m.\u001b[39mLinAlgError:\n\u001b[1;32m    585\u001b[0m     \u001b[39mreturn\u001b[39;00m (\u001b[39m-\u001b[39mnp\u001b[39m.\u001b[39minf, np\u001b[39m.\u001b[39mzeros_like(theta)) \u001b[39mif\u001b[39;00m eval_gradient \u001b[39melse\u001b[39;00m \u001b[39m-\u001b[39mnp\u001b[39m.\u001b[39minf\n",
      "File \u001b[0;32m~/anaconda3/envs/bdd/lib/python3.9/site-packages/scipy/linalg/_decomp_cholesky.py:89\u001b[0m, in \u001b[0;36mcholesky\u001b[0;34m(a, lower, overwrite_a, check_finite)\u001b[0m\n\u001b[1;32m     45\u001b[0m \u001b[39mdef\u001b[39;00m \u001b[39mcholesky\u001b[39m(a, lower\u001b[39m=\u001b[39m\u001b[39mFalse\u001b[39;00m, overwrite_a\u001b[39m=\u001b[39m\u001b[39mFalse\u001b[39;00m, check_finite\u001b[39m=\u001b[39m\u001b[39mTrue\u001b[39;00m):\n\u001b[1;32m     46\u001b[0m \u001b[39m    \u001b[39m\u001b[39m\"\"\"\u001b[39;00m\n\u001b[1;32m     47\u001b[0m \u001b[39m    Compute the Cholesky decomposition of a matrix.\u001b[39;00m\n\u001b[1;32m     48\u001b[0m \n\u001b[0;32m   (...)\u001b[0m\n\u001b[1;32m     87\u001b[0m \n\u001b[1;32m     88\u001b[0m \u001b[39m    \"\"\"\u001b[39;00m\n\u001b[0;32m---> 89\u001b[0m     c, lower \u001b[39m=\u001b[39m _cholesky(a, lower\u001b[39m=\u001b[39;49mlower, overwrite_a\u001b[39m=\u001b[39;49moverwrite_a, clean\u001b[39m=\u001b[39;49m\u001b[39mTrue\u001b[39;49;00m,\n\u001b[1;32m     90\u001b[0m                          check_finite\u001b[39m=\u001b[39;49mcheck_finite)\n\u001b[1;32m     91\u001b[0m     \u001b[39mreturn\u001b[39;00m c\n",
      "File \u001b[0;32m~/anaconda3/envs/bdd/lib/python3.9/site-packages/scipy/linalg/_decomp_cholesky.py:35\u001b[0m, in \u001b[0;36m_cholesky\u001b[0;34m(a, lower, overwrite_a, clean, check_finite)\u001b[0m\n\u001b[1;32m     33\u001b[0m overwrite_a \u001b[39m=\u001b[39m overwrite_a \u001b[39mor\u001b[39;00m _datacopied(a1, a)\n\u001b[1;32m     34\u001b[0m potrf, \u001b[39m=\u001b[39m get_lapack_funcs((\u001b[39m'\u001b[39m\u001b[39mpotrf\u001b[39m\u001b[39m'\u001b[39m,), (a1,))\n\u001b[0;32m---> 35\u001b[0m c, info \u001b[39m=\u001b[39m potrf(a1, lower\u001b[39m=\u001b[39;49mlower, overwrite_a\u001b[39m=\u001b[39;49moverwrite_a, clean\u001b[39m=\u001b[39;49mclean)\n\u001b[1;32m     36\u001b[0m \u001b[39mif\u001b[39;00m info \u001b[39m>\u001b[39m \u001b[39m0\u001b[39m:\n\u001b[1;32m     37\u001b[0m     \u001b[39mraise\u001b[39;00m LinAlgError(\u001b[39m\"\u001b[39m\u001b[39m%d\u001b[39;00m\u001b[39m-th leading minor of the array is not positive \u001b[39m\u001b[39m\"\u001b[39m\n\u001b[1;32m     38\u001b[0m                       \u001b[39m\"\u001b[39m\u001b[39mdefinite\u001b[39m\u001b[39m\"\u001b[39m \u001b[39m%\u001b[39m info)\n",
      "\u001b[0;31mKeyboardInterrupt\u001b[0m: "
     ]
    }
   ],
   "source": [
    "from sklearn.gaussian_process import GaussianProcessRegressor\n",
    "from sklearn.gaussian_process.kernels import RBF, ConstantKernel as C\n",
    "\n",
    "for i in range(len(HR_full_index)-1):\n",
    "    if HR_full.iloc[HR_full_index[i]:HR_full_index[i+1]].isnull().values.any(): # test:  i < 10\n",
    "        HR_data = HR_full.iloc[HR_full_index[i]:HR_full_index[i+1]][['observationoffset', 'heartrate']].to_numpy()\n",
    "        HR_id = HR_full.iloc[HR_full_index[i]:HR_full_index[i+1]]['patientunitstayid'].unique()[0]\n",
    "        # print(HR_id)\n",
    "        # print(i)\n",
    "        t = HR_data[:, 0]\n",
    "        y = HR_data[:, 1]\n",
    "        \n",
    "        t_known = t[~np.isnan(y)]\n",
    "        y_known = y[~np.isnan(y)]\n",
    "        \n",
    "        # kernel\n",
    "        kernel = C(1.0) * RBF(10)\n",
    "        gp = GaussianProcessRegressor(kernel=kernel, n_restarts_optimizer=1000)\n",
    "        gp.fit(t_known.reshape(-1, 1), y_known)\n",
    "        t_missing = t[np.isnan(y)]\n",
    "\n",
    "        y_pred, sigma = gp.predict(t_missing.reshape(-1, 1), return_std=True)\n",
    "        inter_data = pd.DataFrame({'patientunitstayid': HR_id, 'observationoffset': t_missing, 'heartrate': y_pred})\n",
    "        \n",
    "        for idx, row in inter_data.iterrows():\n",
    "            mask = (HR_full['patientunitstayid'] == row['patientunitstayid']) & (HR_full['observationoffset'] == row['observationoffset']) & HR_full['heartrate'].isnull()\n",
    "            HR_full.loc[mask, 'heartrate'] = row['heartrate']\n",
    "        \n",
    "        print(f'Finish {i}th patient')\n",
    "        # print(HR_full.iloc[HR_full_index[i]:HR_full_index[i+1]])"
   ]
  },
  {
   "cell_type": "code",
   "execution_count": null,
   "metadata": {},
   "outputs": [],
   "source": [
    "print(f'GaussianProcess finished!')\n",
    "print(HR_full)"
   ]
  }
 ],
 "metadata": {
  "kernelspec": {
   "display_name": "bdd",
   "language": "python",
   "name": "python3"
  },
  "language_info": {
   "codemirror_mode": {
    "name": "ipython",
    "version": 3
   },
   "file_extension": ".py",
   "mimetype": "text/x-python",
   "name": "python",
   "nbconvert_exporter": "python",
   "pygments_lexer": "ipython3",
   "version": "3.9.18"
  }
 },
 "nbformat": 4,
 "nbformat_minor": 2
}
