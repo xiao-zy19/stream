{
 "cells": [
  {
   "cell_type": "markdown",
   "metadata": {},
   "source": [
    "### Choose the first entry of each patient. Extract body Glasgow coma scale data into ***Glasgow***, create ***Glasgow_index*** for each patient. \n",
    "Contains patient Glasgow coma scale data from both nurseCharting.csv"
   ]
  },
  {
   "cell_type": "markdown",
   "metadata": {},
   "source": [
    "**1. Extract sub-categories patient id from cardiovascular**"
   ]
  },
  {
   "cell_type": "code",
   "execution_count": 30,
   "metadata": {},
   "outputs": [
    {
     "name": "stdout",
     "output_type": "stream",
     "text": [
      "[ 143870  151179  151900 ... 3351297 3352230 3352231]\n"
     ]
    }
   ],
   "source": [
    "import os\n",
    "import numpy as np\n",
    "import matplotlib.pyplot as plt\n",
    "import pandas as pd\n",
    "# import data_toolbox\n",
    "\n",
    "# change to your folder path\n",
    "os.chdir('C:/Users/xiao-zy19/Desktop/Johns Hopkins/Biomedical Data Design/EICU Database/eicu-collaborative-research-database-demo-2.0.1')\n",
    "# os.chdir('/Users/xiao-zy19/Desktop/Johns Hopkins/Biomedical Data Design/DataExtract/data') \n",
    "\n",
    "\n",
    "# import diagnosis.csv\n",
    "df_diagnosis = pd.read_csv('diagnosis.csv')\n",
    "df_diagnosis.sort_values(by=['patientunitstayid', 'diagnosisoffset'], inplace=True)\n",
    "\n",
    "# select cardiovascular patients\n",
    "df_cardiovascular = df_diagnosis[df_diagnosis['diagnosisstring'].str.contains('cardiovascular')]\n",
    "\n",
    "# get shock patient \n",
    "shock_patient = df_cardiovascular[df_cardiovascular['diagnosisstring'].str.contains('shock')]\n",
    "\n",
    "# get ventricular patient \n",
    "ventricular_patient = df_cardiovascular[df_cardiovascular['diagnosisstring'].str.contains('ventricular')]\n",
    "\n",
    "# get chest pain patient \n",
    "chest_pain_patient = df_cardiovascular[df_cardiovascular['diagnosisstring'].str.contains('chest pain')]\n",
    "\n",
    "# get arrhythmias patient \n",
    "arrhythmias_patient = df_cardiovascular[df_cardiovascular['diagnosisstring'].str.contains('arrhythmias')]\n",
    "\n",
    "# put id together\n",
    "df_wanted = pd.concat([shock_patient, ventricular_patient, chest_pain_patient, arrhythmias_patient])\n",
    "\n",
    "# Get the patient ids from df_wanted & sort the patient id\n",
    "# patient_id_all multiple entry patient's stayid\n",
    "patient_id_all = df_wanted['patientunitstayid'].unique()\n",
    "patient_id_all.sort()\n",
    "print(patient_id_all)"
   ]
  },
  {
   "cell_type": "markdown",
   "metadata": {},
   "source": [
    "**2. Exclude patient whose unitvisitnumbe>1**"
   ]
  },
  {
   "cell_type": "code",
   "execution_count": 31,
   "metadata": {},
   "outputs": [
    {
     "name": "stdout",
     "output_type": "stream",
     "text": [
      "Total number of patients: 915\n"
     ]
    }
   ],
   "source": [
    "# import patient.csv\n",
    "df_patient = pd.read_csv('patient.csv')\n",
    "df_patient.sort_values(by=['patientunitstayid'], inplace=True)\n",
    "df_patient_buf = df_patient[df_patient['patientunitstayid'].isin(patient_id_all)]\n",
    "df_1time_patient = df_patient_buf[df_patient_buf['unitvisitnumber']==1]\n",
    "# print(df_1time_patient)\n",
    "\n",
    "# select the patient id from df_1time_patient\n",
    "patient_id = df_1time_patient['patientunitstayid'].unique()\n",
    "print(f'Total number of patients: {len(patient_id)}')"
   ]
  },
  {
   "cell_type": "markdown",
   "metadata": {},
   "source": [
    "**3. Extract data of patients within the id list**"
   ]
  },
  {
   "cell_type": "code",
   "execution_count": 32,
   "metadata": {},
   "outputs": [
    {
     "name": "stdout",
     "output_type": "stream",
     "text": [
      "nurseCharting shape: (603027, 8)\n"
     ]
    }
   ],
   "source": [
    "# import nurseCharting.csv\n",
    "df_nurseCharting = pd.read_csv('nurseCharting.csv')\n",
    "df_nurseCharting.sort_values(by=['patientunitstayid', 'nursingchartoffset'], inplace=True)\n",
    "\n",
    "# select the wanted patient\n",
    "df_nurseCharting = df_nurseCharting[df_nurseCharting['patientunitstayid'].isin(patient_id)]\n",
    "\n",
    "# print the shape of the wanted file\n",
    "print(f'nurseCharting shape: {df_nurseCharting.shape}')"
   ]
  },
  {
   "cell_type": "markdown",
   "metadata": {},
   "source": [
    "**4. Extract Heart Rate data & create index**"
   ]
  },
  {
   "cell_type": "code",
   "execution_count": 33,
   "metadata": {},
   "outputs": [
    {
     "name": "stdout",
     "output_type": "stream",
     "text": [
      "     nursingchartid  patientunitstayid  observationoffset  \\\n",
      "90        265165334             143870                  3   \n",
      "199       265197766             143870                239   \n",
      "178       120775807             143870                433   \n",
      "175        84619753             143870                763   \n",
      "82        174911019             143870                962   \n",
      "\n",
      "     nursingchartentryoffset nursingchartcelltypecat  \\\n",
      "90                         3                  Scores   \n",
      "199                      239                  Scores   \n",
      "178                      433                  Scores   \n",
      "175                      763                  Scores   \n",
      "82                       962                  Scores   \n",
      "\n",
      "    nursingchartcelltypevallabel nursingchartcelltypevalname Glasgow score  \n",
      "90            Glasgow coma score                   GCS Total            15  \n",
      "199           Glasgow coma score                   GCS Total            15  \n",
      "178           Glasgow coma score                   GCS Total            15  \n",
      "175           Glasgow coma score                   GCS Total            15  \n",
      "82            Glasgow coma score                   GCS Total            15  \n",
      "(39214, 8)\n"
     ]
    }
   ],
   "source": [
    "# nursingchartcelltypevallabel Temperature\n",
    "df_nurseCharting = df_nurseCharting[df_nurseCharting['nursingchartcelltypevallabel']=='Glasgow coma score']\n",
    "df_nurseCharting = df_nurseCharting.rename(columns={'nursingchartoffset': 'observationoffset', 'nursingchartvalue':'Glasgow score'})\n",
    "print(df_nurseCharting.head())\n",
    "print(df_nurseCharting.shape)"
   ]
  },
  {
   "cell_type": "code",
   "execution_count": 34,
   "metadata": {},
   "outputs": [
    {
     "name": "stdout",
     "output_type": "stream",
     "text": [
      "First 5 rows of Temp: \n",
      "     patientunitstayid  observationoffset Glasgow score\n",
      "90              143870                  3            15\n",
      "199             143870                239            15\n",
      "178             143870                433            15\n",
      "175             143870                763            15\n",
      "82              143870                962            15 \n",
      "\n",
      "First 5 rows of Temp_index: \n",
      "0     0\n",
      "1     5\n",
      "2    19\n",
      "3    39\n",
      "4    42\n",
      "dtype: int64\n"
     ]
    }
   ],
   "source": [
    "# extract glasgow score from df_nurseCharting\n",
    "Glasgow = df_nurseCharting[['patientunitstayid', 'observationoffset', 'Glasgow score']].copy()\n",
    "Glasgow.sort_values(by=['patientunitstayid', 'observationoffset'], inplace=True)\n",
    "print(f'First 5 rows of Temp: \\n{Glasgow.head()} \\n')\n",
    "\n",
    "value_position_dict = {}\n",
    "first_occurrences = []\n",
    "for idx, value in enumerate(Glasgow['patientunitstayid']):\n",
    "    # if the value is not in the dictionary, add it and create index\n",
    "    if value not in value_position_dict:\n",
    "        value_position_dict[value] = idx\n",
    "        first_occurrences.append(idx)\n",
    "\n",
    "first_occurrences.append(len(Glasgow))\n",
    "# create first occurrence index for every patient\n",
    "Glasgow_index = pd.Series(first_occurrences)\n",
    "print(f'First 5 rows of Temp_index: \\n{Glasgow_index.head()}')"
   ]
  },
  {
   "cell_type": "markdown",
   "metadata": {},
   "source": [
    "**Example: how to use Glasgow & Glasgow_index**"
   ]
  },
  {
   "cell_type": "code",
   "execution_count": 35,
   "metadata": {},
   "outputs": [
    {
     "name": "stdout",
     "output_type": "stream",
     "text": [
      "Glasgow score data for patient 1: \n",
      "     patientunitstayid  observationoffset Glasgow score\n",
      "90              143870                  3            15\n",
      "199             143870                239            15\n",
      "178             143870                433            15\n",
      "175             143870                763            15\n",
      "82              143870                962            15\n"
     ]
    }
   ],
   "source": [
    "# if we want the i th patient's data (i starts from 0)\n",
    "# use Glasgow.iloc[Glasgow_index[i]:Glasgow_index[i+1]]\n",
    "i = 0\n",
    "print(f'Glasgow score data for patient {i+1}: \\n{Glasgow.iloc[Glasgow_index[i]:Glasgow_index[i+1]]}')"
   ]
  }
 ],
 "metadata": {
  "kernelspec": {
   "display_name": "bdd",
   "language": "python",
   "name": "python3"
  },
  "language_info": {
   "codemirror_mode": {
    "name": "ipython",
    "version": 3
   },
   "file_extension": ".py",
   "mimetype": "text/x-python",
   "name": "python",
   "nbconvert_exporter": "python",
   "pygments_lexer": "ipython3",
   "version": "3.9.17"
  }
 },
 "nbformat": 4,
 "nbformat_minor": 2
}
