{
 "cells": [
  {
   "cell_type": "markdown",
   "metadata": {},
   "source": [
    "### Choose the first entry of each patient. Extract heart rate data into ***HR***, create ***HR_index*** for each patient. "
   ]
  },
  {
   "cell_type": "markdown",
   "metadata": {},
   "source": [
    "**1. Extract sub-categories patient id from cardiovascular**"
   ]
  },
  {
   "cell_type": "code",
   "execution_count": 111,
   "metadata": {},
   "outputs": [
    {
     "name": "stdout",
     "output_type": "stream",
     "text": [
      "[ 143870  151179  151900 ... 3351297 3352230 3352231]\n"
     ]
    }
   ],
   "source": [
    "import numpy as np\n",
    "import matplotlib.pyplot as plt\n",
    "import pandas as pd\n",
    "import data_toolbox\n",
    "\n",
    "# import diagnosis.csv\n",
    "df_diagnosis = pd.read_csv('diagnosis.csv')\n",
    "df_diagnosis.sort_values(by=['patientunitstayid', 'diagnosisoffset'], inplace=True)\n",
    "\n",
    "# select cardiovascular patients\n",
    "df_cardiovascular = df_diagnosis[df_diagnosis['diagnosisstring'].str.contains('cardiovascular')]\n",
    "# print(df_cardiovascular)\n",
    "\n",
    "\n",
    "# get shock patient \n",
    "shock_patient = df_cardiovascular[df_cardiovascular['diagnosisstring'].str.contains('shock')]\n",
    "# print(shock_patient)\n",
    "\n",
    "# get ventricular patient \n",
    "ventricular_patient = df_cardiovascular[df_cardiovascular['diagnosisstring'].str.contains('ventricular')]\n",
    "# print(ventricular_patient)\n",
    "\n",
    "# get chest pain patient \n",
    "chest_pain_patient = df_cardiovascular[df_cardiovascular['diagnosisstring'].str.contains('chest pain')]\n",
    "\n",
    "# get arrhythmias patient \n",
    "arrhythmias_patient = df_cardiovascular[df_cardiovascular['diagnosisstring'].str.contains('arrhythmias')]\n",
    "\n",
    "# put id together\n",
    "df_wanted = pd.concat([shock_patient, ventricular_patient, chest_pain_patient, arrhythmias_patient])\n",
    "# print(df_wanted)\n",
    "\n",
    "# Get the patient ids from df_wanted & sort the patient id\n",
    "# patient_id_all包含重复入院的stayid\n",
    "patient_id_all = df_wanted['patientunitstayid'].unique()\n",
    "patient_id_all.sort()\n",
    "print(patient_id_all)"
   ]
  },
  {
   "cell_type": "markdown",
   "metadata": {},
   "source": [
    "**2. Exclude patient whose unitvisitnumbe>1**"
   ]
  },
  {
   "cell_type": "code",
   "execution_count": 112,
   "metadata": {},
   "outputs": [
    {
     "name": "stdout",
     "output_type": "stream",
     "text": [
      "Total number of patients: 915\n"
     ]
    }
   ],
   "source": [
    "# import patient.csv\n",
    "df_patient = pd.read_csv('patient.csv')\n",
    "df_patient.sort_values(by=['patientunitstayid'], inplace=True)\n",
    "df_patient_buf = df_patient[df_patient['patientunitstayid'].isin(patient_id_all)]\n",
    "df_1time_patient = df_patient_buf[df_patient_buf['unitvisitnumber']==1]\n",
    "# print(df_1time_patient)\n",
    "\n",
    "# select the patient id from df_1time_patient\n",
    "patient_id = df_1time_patient['patientunitstayid'].unique()\n",
    "print(f'Total number of patients: {len(patient_id)}')"
   ]
  },
  {
   "cell_type": "markdown",
   "metadata": {},
   "source": [
    "**3. Extract data of patients within the id list**"
   ]
  },
  {
   "cell_type": "code",
   "execution_count": 113,
   "metadata": {},
   "outputs": [
    {
     "name": "stdout",
     "output_type": "stream",
     "text": [
      "     vitalperiodicid  patientunitstayid  observationoffset  temperature  sao2  \\\n",
      "628         47431476             143870                  7          NaN  98.0   \n",
      "574         47431336             143870                 12          NaN  99.0   \n",
      "543         47431195             143870                 17          NaN  98.0   \n",
      "580         47431054             143870                 22          NaN  98.0   \n",
      "519         47430916             143870                 27          NaN  98.0   \n",
      "\n",
      "     heartrate  respiration  cvp  etco2  systemicsystolic  systemicdiastolic  \\\n",
      "628       44.0         86.0  NaN    NaN             111.0               38.0   \n",
      "574       42.0         75.0  NaN    NaN             114.0               37.0   \n",
      "543       41.0         78.0  NaN    NaN             113.0               37.0   \n",
      "580       41.0         73.0  NaN    NaN             113.0               37.0   \n",
      "519       41.0         69.0  NaN    NaN             111.0               36.0   \n",
      "\n",
      "     systemicmean  pasystolic  padiastolic  pamean  st1  st2  st3  icp  \n",
      "628          55.0         NaN          NaN     NaN  0.0  0.1  0.2  NaN  \n",
      "574          56.0         NaN          NaN     NaN  0.0  0.1  0.1  NaN  \n",
      "543          56.0         NaN          NaN     NaN  0.0  0.0  0.1  NaN  \n",
      "580          55.0         NaN          NaN     NaN  0.0  0.1  0.2  NaN  \n",
      "519          54.0         NaN          NaN     NaN  0.0  0.0  0.1  NaN  \n"
     ]
    }
   ],
   "source": [
    "# import vitalPeriodic.csv\n",
    "df_vitalPeriodic = pd.read_csv('vitalPeriodic.csv')\n",
    "df_vitalPeriodic.sort_values(by=['patientunitstayid', 'observationoffset'], inplace=True)\n",
    "\n",
    "# select the wanted patient\n",
    "df_vitalPeriodic = df_vitalPeriodic[df_vitalPeriodic['patientunitstayid'].isin(patient_id)]\n",
    "\n",
    "# save the wanted file (uncomment the code to save)\n",
    "# df_vitalPeriodic.to_csv('vitalPeriodic_wanted.csv', index=False)\n",
    "\n",
    "# print the shape of the wanted file\n",
    "print(df_vitalPeriodic.head())"
   ]
  },
  {
   "cell_type": "markdown",
   "metadata": {},
   "source": [
    "**4. Extract Heart Rate data & create index**\n",
    "\n",
    "It is weird that some patient id doesn't exist in df_vitalPeriodic, maybe it's a demo problem"
   ]
  },
  {
   "cell_type": "code",
   "execution_count": 114,
   "metadata": {},
   "outputs": [],
   "source": [
    "# value1 = set(df_vitalPeriodic['patientunitstayid'].unique())\n",
    "# value2 = set(patient_id)\n",
    "# unique_to_2 = value2.difference(value1)\n",
    "# print(unique_to_2)"
   ]
  },
  {
   "cell_type": "code",
   "execution_count": 115,
   "metadata": {},
   "outputs": [],
   "source": [
    "# define heartrate preprocessing function\n",
    "def normal_heartrate(num):\n",
    "    \"\"\"\n",
    "    Function to normalize heart rate values.\n",
    "\n",
    "    Parameters:\n",
    "        num: the originial input value\n",
    "    Return:\n",
    "        num: the normalized output value\n",
    "    \"\"\"\n",
    "    # Return null values direcly\n",
    "    if pd.isna(num):\n",
    "        return num\n",
    "    # Remove values out of range\n",
    "    elif num > 300 or num < 0:\n",
    "        return np.nan\n",
    "    # Return normal values directly\n",
    "    else:\n",
    "        return num"
   ]
  },
  {
   "cell_type": "code",
   "execution_count": 116,
   "metadata": {},
   "outputs": [
    {
     "name": "stdout",
     "output_type": "stream",
     "text": [
      "First 5 rows of HR: \n",
      "     patientunitstayid  observationoffset  heartrate\n",
      "628             143870                  7       44.0\n",
      "574             143870                 12       42.0\n",
      "543             143870                 17       41.0\n",
      "580             143870                 22       41.0\n",
      "519             143870                 27       41.0\n",
      "First 5 rows of HR_index: \n",
      "0       0\n",
      "1     158\n",
      "2    1017\n",
      "3    1708\n",
      "4    2501\n",
      "dtype: int64\n"
     ]
    }
   ],
   "source": [
    "# extract heart rate from df_vitalPeriodic\n",
    "HR = df_vitalPeriodic[['patientunitstayid', 'observationoffset', 'heartrate']]\n",
    "print(f'First 5 rows of HR: \\n{HR.head()}')\n",
    "\n",
    "# exclude abnormal heart rate values\n",
    "HR.loc[:, 'heartrate'] = HR['heartrate'].apply(normal_heartrate)\n",
    "\n",
    "# save HR to csv file (uncomment the code to save)\n",
    "# HR.to_csv('HR.csv', index=False)\n",
    "\n",
    "value_position_dict = {}\n",
    "first_occurrences = []\n",
    "for idx, value in enumerate(HR['patientunitstayid']):\n",
    "    # if the value is not in the dictionary, add it and create index\n",
    "    if value not in value_position_dict:\n",
    "        value_position_dict[value] = idx\n",
    "        first_occurrences.append(idx)\n",
    "\n",
    "first_occurrences.append(len(HR))\n",
    "# create first occurrence index for every patient\n",
    "HR_index = pd.Series(first_occurrences)\n",
    "print(f'First 5 rows of HR_index: \\n{HR_index.head()}')\n",
    "\n",
    "# double check the index is correct\n",
    "# print(HR.iloc[HR_index].head())\n",
    "# print(HR.iloc[[156, 157, 158, 159]])\n",
    "# print(HR.iloc[[1015, 1016, 1017, 1018]])"
   ]
  },
  {
   "cell_type": "markdown",
   "metadata": {},
   "source": [
    "**Example: how to use HR & HR_index**"
   ]
  },
  {
   "cell_type": "code",
   "execution_count": 122,
   "metadata": {},
   "outputs": [
    {
     "name": "stdout",
     "output_type": "stream",
     "text": [
      "HeartRate data for patient 1: \n",
      "     patientunitstayid  observationoffset  heartrate\n",
      "628             143870                  7       44.0\n",
      "574             143870                 12       42.0\n",
      "543             143870                 17       41.0\n",
      "580             143870                 22       41.0\n",
      "519             143870                 27       41.0\n",
      "..                 ...                ...        ...\n",
      "614             143870                772       50.0\n",
      "584             143870                777       51.0\n",
      "578             143870                782       48.0\n",
      "572             143870                787       48.0\n",
      "566             143870                792       49.0\n",
      "\n",
      "[158 rows x 3 columns]\n"
     ]
    }
   ],
   "source": [
    "# if we want the i th patient's data (i starts from 0)\n",
    "# use HR.iloc[HR_index[i]:HR_index[i+1]]\n",
    "i = 0\n",
    "print(f'HeartRate data for patient {i+1}: \\n{HR.iloc[HR_index[i]:HR_index[i+1]]}')"
   ]
  }
 ],
 "metadata": {
  "kernelspec": {
   "display_name": "bdd",
   "language": "python",
   "name": "python3"
  },
  "language_info": {
   "codemirror_mode": {
    "name": "ipython",
    "version": 3
   },
   "file_extension": ".py",
   "mimetype": "text/x-python",
   "name": "python",
   "nbconvert_exporter": "python",
   "pygments_lexer": "ipython3",
   "version": "3.9.18"
  }
 },
 "nbformat": 4,
 "nbformat_minor": 2
}
