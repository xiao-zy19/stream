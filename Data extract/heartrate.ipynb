{
 "cells": [
  {
   "cell_type": "markdown",
   "metadata": {},
   "source": [
    "### Choose the first entry of each patient. Extract heart rate data into ***HR***, create ***HR_index*** for each patient. \n",
    "Contains patient heart rate data from both vitalPeriodic.csv & nurseCharting.csv"
   ]
  },
  {
   "cell_type": "markdown",
   "metadata": {},
   "source": [
    "**1. Extract sub-categories patient id from cardiovascular**"
   ]
  },
  {
   "cell_type": "code",
   "execution_count": 12,
   "metadata": {},
   "outputs": [
    {
     "name": "stdout",
     "output_type": "stream",
     "text": [
      "[ 141168  141203  141227 ... 3353216 3353235 3353251]\n"
     ]
    }
   ],
   "source": [
    "import os\n",
    "import numpy as np\n",
    "import matplotlib.pyplot as plt\n",
    "import pandas as pd\n",
    "# import data_toolbox\n",
    "\n",
    "# change to your folder path\n",
    "#os.chdir('/Users/xiao-zy19/Desktop/Johns Hopkins/Biomedical Data Design/DataExtract/data') \n",
    "os.chdir('/home/en580-zxia028/EICU/data')\n",
    "\n",
    "# import diagnosis.csv\n",
    "df_diagnosis = pd.read_csv('diagnosis.csv')\n",
    "df_diagnosis.sort_values(by=['patientunitstayid', 'diagnosisoffset'], inplace=True)\n",
    "\n",
    "# select cardiovascular patients\n",
    "df_cardiovascular = df_diagnosis[df_diagnosis['diagnosisstring'].str.contains('cardiovascular')]\n",
    "# print(df_cardiovascular)\n",
    "\n",
    "\n",
    "# get shock patient \n",
    "shock_patient = df_cardiovascular[df_cardiovascular['diagnosisstring'].str.contains('shock')]\n",
    "# print(shock_patient)\n",
    "\n",
    "# get ventricular patient \n",
    "ventricular_patient = df_cardiovascular[df_cardiovascular['diagnosisstring'].str.contains('ventricular')]\n",
    "# print(ventricular_patient)\n",
    "\n",
    "# get chest pain patient \n",
    "chest_pain_patient = df_cardiovascular[df_cardiovascular['diagnosisstring'].str.contains('chest pain')]\n",
    "\n",
    "# get arrhythmias patient \n",
    "arrhythmias_patient = df_cardiovascular[df_cardiovascular['diagnosisstring'].str.contains('arrhythmias')]\n",
    "\n",
    "# put id together\n",
    "df_wanted = pd.concat([shock_patient, ventricular_patient, chest_pain_patient, arrhythmias_patient])\n",
    "# print(df_wanted)\n",
    "\n",
    "# Get the patient ids from df_wanted & sort the patient id\n",
    "# patient_id_all multiple entry patient's stayid\n",
    "patient_id_all = df_wanted['patientunitstayid'].unique()\n",
    "patient_id_all.sort()\n",
    "print(patient_id_all)"
   ]
  },
  {
   "cell_type": "markdown",
   "metadata": {},
   "source": [
    "**2. Exclude patient whose unitvisitnumbe>1**"
   ]
  },
  {
   "cell_type": "code",
   "execution_count": 2,
   "metadata": {},
   "outputs": [
    {
     "name": "stdout",
     "output_type": "stream",
     "text": [
      "Total number of patients: 71353\n"
     ]
    }
   ],
   "source": [
    "# import patient.csv\n",
    "df_patient = pd.read_csv('patient.csv')\n",
    "df_patient.sort_values(by=['patientunitstayid'], inplace=True)\n",
    "df_patient_buf = df_patient[df_patient['patientunitstayid'].isin(patient_id_all)]\n",
    "df_1time_patient = df_patient_buf[df_patient_buf['unitvisitnumber']==1]\n",
    "# print(df_1time_patient)\n",
    "\n",
    "# select the patient id from df_1time_patient\n",
    "patient_id = df_1time_patient['patientunitstayid'].unique()\n",
    "print(f'Total number of patients: {len(patient_id)}')"
   ]
  },
  {
   "cell_type": "markdown",
   "metadata": {},
   "source": [
    "**3. Extract data of patients within the id list**"
   ]
  },
  {
   "cell_type": "code",
   "execution_count": 3,
   "metadata": {},
   "outputs": [
    {
     "name": "stdout",
     "output_type": "stream",
     "text": [
      "vitalperiodic shape: (63195275, 19)\n",
      "nurseCharting shape: (61929777, 8)\n"
     ]
    }
   ],
   "source": [
    "# import vitalPeriodic.csv & nurseCharting.csv\n",
    "df_vitalPeriodic = pd.read_csv('vitalPeriodic.csv')\n",
    "df_vitalPeriodic.sort_values(by=['patientunitstayid', 'observationoffset'], inplace=True)\n",
    "df_nurseCharting = pd.read_csv('nurseCharting.csv')\n",
    "df_nurseCharting.sort_values(by=['patientunitstayid', 'nursingchartoffset'], inplace=True)\n",
    "\n",
    "\n",
    "# select the wanted patient\n",
    "df_vitalPeriodic = df_vitalPeriodic[df_vitalPeriodic['patientunitstayid'].isin(patient_id)]\n",
    "df_nurseCharting = df_nurseCharting[df_nurseCharting['patientunitstayid'].isin(patient_id)]\n",
    "\n",
    "# save the wanted file (uncomment the code to save)\n",
    "# df_vitalPeriodic.to_csv('vitalPeriodic_wanted.csv', index=False)\n",
    "\n",
    "# print the shape of the wanted file\n",
    "print(f'vitalperiodic shape: {df_vitalPeriodic.shape}')\n",
    "print(f'nurseCharting shape: {df_nurseCharting.shape}')"
   ]
  },
  {
   "cell_type": "markdown",
   "metadata": {},
   "source": [
    "**4. Extract Heart Rate data & create index**\n",
    "\n",
    "It is weird that some patient id doesn't exist in df_vitalPeriodic, maybe it's a demo problem"
   ]
  },
  {
   "cell_type": "code",
   "execution_count": 4,
   "metadata": {},
   "outputs": [],
   "source": [
    "# value1 = set(df_vitalPeriodic['patientunitstayid'].unique())\n",
    "# value2 = set(patient_id)\n",
    "# unique_to_2 = value2.difference(value1)\n",
    "# print(unique_to_2)"
   ]
  },
  {
   "cell_type": "code",
   "execution_count": 5,
   "metadata": {},
   "outputs": [],
   "source": [
    "# define heartrate preprocessing function\n",
    "def normal_heartrate(num):\n",
    "    \"\"\"\n",
    "    Function to normalize heart rate values.\n",
    "\n",
    "    Parameters:\n",
    "        num: the originial input value\n",
    "    Return:\n",
    "        num: the normalized output value\n",
    "    \"\"\"\n",
    "    # Return null values direcly\n",
    "    if pd.isna(num):\n",
    "        return num\n",
    "    # Remove values out of range\n",
    "    elif num > 300 or num < 0:\n",
    "        return np.nan\n",
    "    # Return normal values directly\n",
    "    else:\n",
    "        return num"
   ]
  },
  {
   "cell_type": "code",
   "execution_count": 6,
   "metadata": {},
   "outputs": [
    {
     "name": "stdout",
     "output_type": "stream",
     "text": [
      "           nursingchartid  patientunitstayid  observationoffset  \\\n",
      "151470706       164546008             141168                  6   \n",
      "151470614       146409413             141168                 21   \n",
      "151470622       146455198             141168                 36   \n",
      "151470649       201018075             141168                 51   \n",
      "151470709       200253204             141168                 66   \n",
      "\n",
      "           nursingchartentryoffset nursingchartcelltypecat  \\\n",
      "151470706                        6             Vital Signs   \n",
      "151470614                       21             Vital Signs   \n",
      "151470622                       36             Vital Signs   \n",
      "151470649                       51             Vital Signs   \n",
      "151470709                       66             Vital Signs   \n",
      "\n",
      "          nursingchartcelltypevallabel nursingchartcelltypevalname heartrate  \n",
      "151470706                   Heart Rate                  Heart Rate       140  \n",
      "151470614                   Heart Rate                  Heart Rate        70  \n",
      "151470622                   Heart Rate                  Heart Rate        70  \n",
      "151470649                   Heart Rate                  Heart Rate       140  \n",
      "151470709                   Heart Rate                  Heart Rate       140  \n"
     ]
    }
   ],
   "source": [
    "# nursingchartcelltypevallabel Heart Rate\n",
    "df_nurseCharting = df_nurseCharting[df_nurseCharting['nursingchartcelltypevallabel']=='Heart Rate']\n",
    "df_nurseCharting = df_nurseCharting.rename(columns={'nursingchartoffset': 'observationoffset', 'nursingchartvalue':'heartrate'})\n",
    "print(df_nurseCharting.head())"
   ]
  },
  {
   "cell_type": "code",
   "execution_count": 9,
   "metadata": {},
   "outputs": [
    {
     "name": "stdout",
     "output_type": "stream",
     "text": [
      "First 5 rows of HR: \n",
      "           patientunitstayid  observationoffset  heartrate\n",
      "151470706           141168.0                6.0      140.0\n",
      "151470614           141168.0               21.0       70.0\n",
      "151470622           141168.0               36.0       70.0\n",
      "151470649           141168.0               51.0      140.0\n",
      "151470709           141168.0               66.0      140.0 \n",
      "\n",
      "shape of HR_index: (71243,)\n",
      "First 5 rows of HR_index: \n",
      "0       0\n",
      "1     468\n",
      "2     977\n",
      "3    1423\n",
      "4    1475\n",
      "dtype: int64\n"
     ]
    }
   ],
   "source": [
    "# extract heart rate from df_vitalPeriodic & df_nurseCharting\n",
    "HR_v = df_vitalPeriodic[['patientunitstayid', 'observationoffset', 'heartrate']]\n",
    "HR_n = df_nurseCharting[['patientunitstayid', 'observationoffset', 'heartrate']]\n",
    "HR = pd.concat([HR_v, HR_n]).astype(float)\n",
    "HR.sort_values(by=['patientunitstayid', 'observationoffset'], inplace=True)\n",
    "print(f'First 5 rows of HR: \\n{HR.head()} \\n')\n",
    "\n",
    "# exclude abnormal heart rate values\n",
    "HR.loc[:, 'heartrate'] = HR['heartrate'].apply(normal_heartrate)\n",
    "\n",
    "# save HR to csv file (uncomment the code to save)\n",
    "# HR.to_csv('HR.csv', index=False)\n",
    "\n",
    "value_position_dict = {}\n",
    "first_occurrences = []\n",
    "for idx, value in enumerate(HR['patientunitstayid']):\n",
    "    # if the value is not in the dictionary, add it and create index\n",
    "    if value not in value_position_dict:\n",
    "        value_position_dict[value] = idx\n",
    "        first_occurrences.append(idx)\n",
    "\n",
    "first_occurrences.append(len(HR))\n",
    "# create first occurrence index for every patient\n",
    "HR_index = pd.Series(first_occurrences)\n",
    "print(f'shape of HR_index: {HR_index.shape}')\n",
    "print(f'First 5 rows of HR_index: \\n{HR_index.head()}')\n",
    "\n",
    "# double check the index is correct\n",
    "# print(HR.iloc[HR_index].head())\n",
    "# print(HR.iloc[[156, 157, 158, 159]])\n",
    "# print(HR.iloc[[1015, 1016, 1017, 1018]])"
   ]
  },
  {
   "cell_type": "markdown",
   "metadata": {},
   "source": [
    "**Example: how to use HR & HR_index**"
   ]
  },
  {
   "cell_type": "code",
   "execution_count": 8,
   "metadata": {},
   "outputs": [
    {
     "name": "stdout",
     "output_type": "stream",
     "text": [
      "HeartRate data for patient 1: \n",
      "           patientunitstayid  observationoffset  heartrate\n",
      "151470706           141168.0                6.0      140.0\n",
      "151470614           141168.0               21.0       70.0\n",
      "151470622           141168.0               36.0       70.0\n",
      "151470649           141168.0               51.0      140.0\n",
      "151470709           141168.0               66.0      140.0\n",
      "...                      ...                ...        ...\n",
      "371                 141168.0             2294.0      100.0\n",
      "407                 141168.0             2299.0      100.0\n",
      "125                 141168.0             2304.0      100.0\n",
      "101                 141168.0             2309.0      100.0\n",
      "203                 141168.0             2314.0      100.0\n",
      "\n",
      "[468 rows x 3 columns]\n"
     ]
    }
   ],
   "source": [
    "# if we want the i th patient's data (i starts from 0)\n",
    "# use HR.iloc[HR_index[i]:HR_index[i+1]]\n",
    "i = 0\n",
    "print(f'HeartRate data for patient {i+1}: \\n{HR.iloc[HR_index[i]:HR_index[i+1]]}')"
   ]
  }
 ],
 "metadata": {
  "kernelspec": {
   "display_name": "bdd",
   "language": "python",
   "name": "python3"
  },
  "language_info": {
   "codemirror_mode": {
    "name": "ipython",
    "version": 3
   },
   "file_extension": ".py",
   "mimetype": "text/x-python",
   "name": "python",
   "nbconvert_exporter": "python",
   "pygments_lexer": "ipython3",
   "version": "3.9.18"
  }
 },
 "nbformat": 4,
 "nbformat_minor": 2
}
