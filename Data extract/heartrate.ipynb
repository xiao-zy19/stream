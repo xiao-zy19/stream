{
 "cells": [
  {
   "cell_type": "markdown",
   "metadata": {},
   "source": [
    "### Choose the first entry of each patient. Extract heart rate data into ***HR***, create ***HR_index*** for each patient. \n",
    "Contains patient heart rate data from both vitalPeriodic.csv & nurseCharting.csv"
   ]
  },
  {
   "cell_type": "markdown",
   "metadata": {},
   "source": [
    "**1. Extract sub-categories patient id from cardiovascular**"
   ]
  },
  {
   "cell_type": "code",
   "execution_count": 1,
   "metadata": {},
   "outputs": [
    {
     "name": "stdout",
     "output_type": "stream",
     "text": [
      "[ 143870  151179  151900 ... 3351297 3352230 3352231]\n"
     ]
    }
   ],
   "source": [
    "import os\n",
    "import numpy as np\n",
    "import matplotlib.pyplot as plt\n",
    "import pandas as pd\n",
    "import data_toolbox\n",
    "\n",
    "os.chdir('/Users/xiao-zy19/Desktop/Johns Hopkins/Biomedical Data Design/DataExtract/data') # change to your folder path\n",
    "\n",
    "# import diagnosis.csv\n",
    "df_diagnosis = pd.read_csv('diagnosis.csv')\n",
    "df_diagnosis.sort_values(by=['patientunitstayid', 'diagnosisoffset'], inplace=True)\n",
    "\n",
    "# select cardiovascular patients\n",
    "df_cardiovascular = df_diagnosis[df_diagnosis['diagnosisstring'].str.contains('cardiovascular')]\n",
    "# print(df_cardiovascular)\n",
    "\n",
    "\n",
    "# get shock patient \n",
    "shock_patient = df_cardiovascular[df_cardiovascular['diagnosisstring'].str.contains('shock')]\n",
    "# print(shock_patient)\n",
    "\n",
    "# get ventricular patient \n",
    "ventricular_patient = df_cardiovascular[df_cardiovascular['diagnosisstring'].str.contains('ventricular')]\n",
    "# print(ventricular_patient)\n",
    "\n",
    "# get chest pain patient \n",
    "chest_pain_patient = df_cardiovascular[df_cardiovascular['diagnosisstring'].str.contains('chest pain')]\n",
    "\n",
    "# get arrhythmias patient \n",
    "arrhythmias_patient = df_cardiovascular[df_cardiovascular['diagnosisstring'].str.contains('arrhythmias')]\n",
    "\n",
    "# put id together\n",
    "df_wanted = pd.concat([shock_patient, ventricular_patient, chest_pain_patient, arrhythmias_patient])\n",
    "# print(df_wanted)\n",
    "\n",
    "# Get the patient ids from df_wanted & sort the patient id\n",
    "# patient_id_all multiple entry patient's stayid\n",
    "patient_id_all = df_wanted['patientunitstayid'].unique()\n",
    "patient_id_all.sort()\n",
    "print(patient_id_all)"
   ]
  },
  {
   "cell_type": "markdown",
   "metadata": {},
   "source": [
    "**2. Exclude patient whose unitvisitnumbe>1**"
   ]
  },
  {
   "cell_type": "code",
   "execution_count": 2,
   "metadata": {},
   "outputs": [
    {
     "name": "stdout",
     "output_type": "stream",
     "text": [
      "Total number of patients: 915\n"
     ]
    }
   ],
   "source": [
    "# import patient.csv\n",
    "df_patient = pd.read_csv('patient.csv')\n",
    "df_patient.sort_values(by=['patientunitstayid'], inplace=True)\n",
    "df_patient_buf = df_patient[df_patient['patientunitstayid'].isin(patient_id_all)]\n",
    "df_1time_patient = df_patient_buf[df_patient_buf['unitvisitnumber']==1]\n",
    "# print(df_1time_patient)\n",
    "\n",
    "# select the patient id from df_1time_patient\n",
    "patient_id = df_1time_patient['patientunitstayid'].unique()\n",
    "print(f'Total number of patients: {len(patient_id)}')"
   ]
  },
  {
   "cell_type": "markdown",
   "metadata": {},
   "source": [
    "**3. Extract data of patients within the id list**"
   ]
  },
  {
   "cell_type": "code",
   "execution_count": 3,
   "metadata": {},
   "outputs": [
    {
     "name": "stdout",
     "output_type": "stream",
     "text": [
      "vitalperiodic shape: (747487, 19)\n",
      "nurseCharting shape: (603027, 8)\n"
     ]
    }
   ],
   "source": [
    "# import vitalPeriodic.csv & nurseCharting.csv\n",
    "df_vitalPeriodic = pd.read_csv('vitalPeriodic.csv')\n",
    "df_vitalPeriodic.sort_values(by=['patientunitstayid', 'observationoffset'], inplace=True)\n",
    "df_nurseCharting = pd.read_csv('nurseCharting.csv')\n",
    "df_nurseCharting.sort_values(by=['patientunitstayid', 'nursingchartoffset'], inplace=True)\n",
    "\n",
    "\n",
    "# select the wanted patient\n",
    "df_vitalPeriodic = df_vitalPeriodic[df_vitalPeriodic['patientunitstayid'].isin(patient_id)]\n",
    "df_nurseCharting = df_nurseCharting[df_nurseCharting['patientunitstayid'].isin(patient_id)]\n",
    "\n",
    "# save the wanted file (uncomment the code to save)\n",
    "# df_vitalPeriodic.to_csv('vitalPeriodic_wanted.csv', index=False)\n",
    "\n",
    "# print the shape of the wanted file\n",
    "print(f'vitalperiodic shape: {df_vitalPeriodic.shape}')\n",
    "print(f'nurseCharting shape: {df_nurseCharting.shape}')"
   ]
  },
  {
   "cell_type": "markdown",
   "metadata": {},
   "source": [
    "**4. Extract Heart Rate data & create index**\n",
    "\n",
    "It is weird that some patient id doesn't exist in df_vitalPeriodic, maybe it's a demo problem"
   ]
  },
  {
   "cell_type": "code",
   "execution_count": 4,
   "metadata": {},
   "outputs": [],
   "source": [
    "# value1 = set(df_vitalPeriodic['patientunitstayid'].unique())\n",
    "# value2 = set(patient_id)\n",
    "# unique_to_2 = value2.difference(value1)\n",
    "# print(unique_to_2)"
   ]
  },
  {
   "cell_type": "code",
   "execution_count": 5,
   "metadata": {},
   "outputs": [],
   "source": [
    "# define heartrate preprocessing function\n",
    "def normal_heartrate(num):\n",
    "    \"\"\"\n",
    "    Function to normalize heart rate values.\n",
    "\n",
    "    Parameters:\n",
    "        num: the originial input value\n",
    "    Return:\n",
    "        num: the normalized output value\n",
    "    \"\"\"\n",
    "    # Return null values direcly\n",
    "    if pd.isna(num):\n",
    "        return num\n",
    "    # Remove values out of range\n",
    "    elif num > 300 or num < 0:\n",
    "        return np.nan\n",
    "    # Return normal values directly\n",
    "    else:\n",
    "        return num"
   ]
  },
  {
   "cell_type": "code",
   "execution_count": 6,
   "metadata": {},
   "outputs": [
    {
     "name": "stdout",
     "output_type": "stream",
     "text": [
      "     nursingchartid  patientunitstayid  observationoffset  \\\n",
      "130       200873835             143870               -424   \n",
      "155        91951972             143870                -67   \n",
      "346       146117804             143870                -57   \n",
      "344       146377143             143870                -17   \n",
      "169       182492893             143870                 -2   \n",
      "\n",
      "     nursingchartentryoffset nursingchartcelltypecat  \\\n",
      "130                     -424             Vital Signs   \n",
      "155                      -67             Vital Signs   \n",
      "346                      -57             Vital Signs   \n",
      "344                      -17             Vital Signs   \n",
      "169                       -2             Vital Signs   \n",
      "\n",
      "    nursingchartcelltypevallabel nursingchartcelltypevalname heartrate  \n",
      "130                   Heart Rate                  Heart Rate        53  \n",
      "155                   Heart Rate                  Heart Rate        55  \n",
      "346                   Heart Rate                  Heart Rate        49  \n",
      "344                   Heart Rate                  Heart Rate        51  \n",
      "169                   Heart Rate                  Heart Rate        44  \n"
     ]
    }
   ],
   "source": [
    "# nursingchartcelltypevallabel Heart Rate\n",
    "df_nurseCharting = df_nurseCharting[df_nurseCharting['nursingchartcelltypevallabel']=='Heart Rate']\n",
    "df_nurseCharting = df_nurseCharting.rename(columns={'nursingchartoffset': 'observationoffset', 'nursingchartvalue':'heartrate'})\n",
    "print(df_nurseCharting.head())"
   ]
  },
  {
   "cell_type": "code",
   "execution_count": 7,
   "metadata": {},
   "outputs": [
    {
     "name": "stdout",
     "output_type": "stream",
     "text": [
      "First 5 rows of HR: \n",
      "     patientunitstayid  observationoffset  heartrate\n",
      "130           143870.0             -424.0       53.0\n",
      "155           143870.0              -67.0       55.0\n",
      "346           143870.0              -57.0       49.0\n",
      "344           143870.0              -17.0       51.0\n",
      "169           143870.0               -2.0       44.0 \n",
      "\n",
      "First 5 rows of HR_index: \n",
      "0       0\n",
      "1     185\n",
      "2    1365\n",
      "3    2201\n",
      "4    3071\n",
      "dtype: int64\n"
     ]
    }
   ],
   "source": [
    "# extract heart rate from df_vitalPeriodic & df_nurseCharting\n",
    "HR_v = df_vitalPeriodic[['patientunitstayid', 'observationoffset', 'heartrate']]\n",
    "HR_n = df_nurseCharting[['patientunitstayid', 'observationoffset', 'heartrate']]\n",
    "HR = pd.concat([HR_v, HR_n]).astype(float)\n",
    "HR.sort_values(by=['patientunitstayid', 'observationoffset'], inplace=True)\n",
    "print(f'First 5 rows of HR: \\n{HR.head()} \\n')\n",
    "\n",
    "# exclude abnormal heart rate values\n",
    "HR.loc[:, 'heartrate'] = HR['heartrate'].apply(normal_heartrate)\n",
    "\n",
    "# save HR to csv file (uncomment the code to save)\n",
    "# HR.to_csv('HR.csv', index=False)\n",
    "\n",
    "value_position_dict = {}\n",
    "first_occurrences = []\n",
    "for idx, value in enumerate(HR['patientunitstayid']):\n",
    "    # if the value is not in the dictionary, add it and create index\n",
    "    if value not in value_position_dict:\n",
    "        value_position_dict[value] = idx\n",
    "        first_occurrences.append(idx)\n",
    "\n",
    "first_occurrences.append(len(HR))\n",
    "# create first occurrence index for every patient\n",
    "HR_index = pd.Series(first_occurrences)\n",
    "print(f'First 5 rows of HR_index: \\n{HR_index.head()}')\n",
    "\n",
    "# double check the index is correct\n",
    "# print(HR.iloc[HR_index].head())\n",
    "# print(HR.iloc[[156, 157, 158, 159]])\n",
    "# print(HR.iloc[[1015, 1016, 1017, 1018]])"
   ]
  },
  {
   "cell_type": "markdown",
   "metadata": {},
   "source": [
    "**Example: how to use HR & HR_index**"
   ]
  },
  {
   "cell_type": "code",
   "execution_count": 8,
   "metadata": {},
   "outputs": [
    {
     "name": "stdout",
     "output_type": "stream",
     "text": [
      "HeartRate data for patient 1: \n",
      "     patientunitstayid  observationoffset  heartrate\n",
      "130           143870.0             -424.0       53.0\n",
      "155           143870.0              -67.0       55.0\n",
      "346           143870.0              -57.0       49.0\n",
      "344           143870.0              -17.0       51.0\n",
      "169           143870.0               -2.0       44.0\n",
      "..                 ...                ...        ...\n",
      "566           143870.0              792.0       49.0\n",
      "106           143870.0              793.0       49.0\n",
      "219           143870.0              853.0       47.0\n",
      "120           143870.0              973.0       47.0\n",
      "315           143870.0             1108.0       45.0\n",
      "\n",
      "[185 rows x 3 columns]\n"
     ]
    }
   ],
   "source": [
    "# if we want the i th patient's data (i starts from 0)\n",
    "# use HR.iloc[HR_index[i]:HR_index[i+1]]\n",
    "i = 0\n",
    "print(f'HeartRate data for patient {i+1}: \\n{HR.iloc[HR_index[i]:HR_index[i+1]]}')"
   ]
  }
 ],
 "metadata": {
  "kernelspec": {
   "display_name": "bdd",
   "language": "python",
   "name": "python3"
  },
  "language_info": {
   "codemirror_mode": {
    "name": "ipython",
    "version": 3
   },
   "file_extension": ".py",
   "mimetype": "text/x-python",
   "name": "python",
   "nbconvert_exporter": "python",
   "pygments_lexer": "ipython3",
   "version": "3.9.18"
  }
 },
 "nbformat": 4,
 "nbformat_minor": 2
}
