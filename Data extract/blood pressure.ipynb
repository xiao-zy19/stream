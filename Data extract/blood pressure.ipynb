{
 "cells": [
  {
   "cell_type": "markdown",
   "metadata": {},
   "source": [
    "### Choose the first entry of each patient. Extract blood pressure data into ***Pressure***, create ***Pressure_index*** for each patient. \n",
    "Contains patient Blood Pressure data from both vitalPeriodic.csv & nurseCharting.csv\n",
    "\n",
    "Including: Noninvasivesystolic, Non-Invasive BP Systolic, Invasive BP Systolic, Systemicsystolic"
   ]
  },
  {
   "cell_type": "markdown",
   "metadata": {},
   "source": [
    "**1. Extract sub-categories patient id from cardiovascular**"
   ]
  },
  {
   "cell_type": "code",
   "execution_count": 17,
   "metadata": {},
   "outputs": [
    {
     "name": "stdout",
     "output_type": "stream",
     "text": [
      "[ 143870  151179  151900 ... 3351297 3352230 3352231]\n"
     ]
    }
   ],
   "source": [
    "import os\n",
    "import numpy as np\n",
    "import matplotlib.pyplot as plt\n",
    "import pandas as pd\n",
    "import data_toolbox\n",
    "\n",
    "os.chdir('/Users/xiao-zy19/Desktop/Johns Hopkins/Biomedical Data Design/DataExtract/data') # change to your folder path\n",
    "\n",
    "# import diagnosis.csv\n",
    "df_diagnosis = pd.read_csv('diagnosis.csv')\n",
    "df_diagnosis.sort_values(by=['patientunitstayid', 'diagnosisoffset'], inplace=True)\n",
    "\n",
    "# select cardiovascular patients\n",
    "df_cardiovascular = df_diagnosis[df_diagnosis['diagnosisstring'].str.contains('cardiovascular')]\n",
    "\n",
    "# get shock patient \n",
    "shock_patient = df_cardiovascular[df_cardiovascular['diagnosisstring'].str.contains('shock')]\n",
    "\n",
    "# get ventricular patient \n",
    "ventricular_patient = df_cardiovascular[df_cardiovascular['diagnosisstring'].str.contains('ventricular')]\n",
    "\n",
    "# get chest pain patient \n",
    "chest_pain_patient = df_cardiovascular[df_cardiovascular['diagnosisstring'].str.contains('chest pain')]\n",
    "\n",
    "# get arrhythmias patient \n",
    "arrhythmias_patient = df_cardiovascular[df_cardiovascular['diagnosisstring'].str.contains('arrhythmias')]\n",
    "\n",
    "# put id together\n",
    "df_wanted = pd.concat([shock_patient, ventricular_patient, chest_pain_patient, arrhythmias_patient])\n",
    "# print(df_wanted)\n",
    "\n",
    "# Get the patient ids from df_wanted & sort the patient id\n",
    "# patient_id_all multiple entry patient's stayid\n",
    "patient_id_all = df_wanted['patientunitstayid'].unique()\n",
    "patient_id_all.sort()\n",
    "print(patient_id_all)"
   ]
  },
  {
   "cell_type": "markdown",
   "metadata": {},
   "source": [
    "**2. Exclude patient whose unitvisitnumbe>1**"
   ]
  },
  {
   "cell_type": "code",
   "execution_count": 18,
   "metadata": {},
   "outputs": [
    {
     "name": "stdout",
     "output_type": "stream",
     "text": [
      "Total number of patients: 915\n"
     ]
    }
   ],
   "source": [
    "# import patient.csv\n",
    "df_patient = pd.read_csv('patient.csv')\n",
    "df_patient.sort_values(by=['patientunitstayid'], inplace=True)\n",
    "df_patient_buf = df_patient[df_patient['patientunitstayid'].isin(patient_id_all)]\n",
    "df_1time_patient = df_patient_buf[df_patient_buf['unitvisitnumber']==1]\n",
    "# print(df_1time_patient)\n",
    "\n",
    "# select the patient id from df_1time_patient\n",
    "patient_id = df_1time_patient['patientunitstayid'].unique()\n",
    "print(f'Total number of patients: {len(patient_id)}')"
   ]
  },
  {
   "cell_type": "markdown",
   "metadata": {},
   "source": [
    "**3. Extract data of patients within the id list**"
   ]
  },
  {
   "cell_type": "code",
   "execution_count": 19,
   "metadata": {},
   "outputs": [
    {
     "name": "stdout",
     "output_type": "stream",
     "text": [
      "vitalperiodic shape: (747487, 19)\n",
      "nurseCharting shape: (603027, 8)\n",
      "vitalAPeriodic shape: (129156, 13)\n"
     ]
    }
   ],
   "source": [
    "# import vitalPeriodic.csv & nurseCharting.csv\n",
    "df_vitalPeriodic = pd.read_csv('vitalPeriodic.csv')\n",
    "df_vitalPeriodic.sort_values(by=['patientunitstayid', 'observationoffset'], inplace=True)\n",
    "df_nurseCharting = pd.read_csv('nurseCharting.csv')\n",
    "df_nurseCharting.sort_values(by=['patientunitstayid', 'nursingchartoffset'], inplace=True)\n",
    "df_vitalAPeriodic = pd.read_csv('vitalAperiodic.csv')\n",
    "df_vitalAPeriodic.sort_values(by=['patientunitstayid', 'observationoffset'], inplace=True)\n",
    "\n",
    "\n",
    "# select the wanted patient\n",
    "df_vitalPeriodic = df_vitalPeriodic[df_vitalPeriodic['patientunitstayid'].isin(patient_id)]\n",
    "df_nurseCharting = df_nurseCharting[df_nurseCharting['patientunitstayid'].isin(patient_id)]\n",
    "df_vitalAPeriodic = df_vitalAPeriodic[df_vitalAPeriodic['patientunitstayid'].isin(patient_id)]\n",
    "\n",
    "# save the wanted file (uncomment the code to save)\n",
    "# df_vitalPeriodic.to_csv('vitalPeriodic_wanted.csv', index=False)\n",
    "# df_nurseCharting.to_csv('nurseCharting_wanted.csv', index=False)\n",
    "# df_vitalAPeriodic.to_csv('vitalAPeriodic_wanted.csv', index=False)\n",
    "\n",
    "# print the shape of the wanted file\n",
    "print(f'vitalperiodic shape: {df_vitalPeriodic.shape}')\n",
    "print(f'nurseCharting shape: {df_nurseCharting.shape}')\n",
    "print(f'vitalAPeriodic shape: {df_vitalAPeriodic.shape}')"
   ]
  },
  {
   "cell_type": "markdown",
   "metadata": {},
   "source": [
    "**4. Extract Blood Pressure data & create index**\n"
   ]
  },
  {
   "cell_type": "code",
   "execution_count": 20,
   "metadata": {},
   "outputs": [],
   "source": [
    "# define heartrate preprocessing function\n",
    "def normal_heartrate(num):\n",
    "    \"\"\"\n",
    "    Function to normalize heart rate values.\n",
    "\n",
    "    Parameters:\n",
    "        num: the originial input value\n",
    "    Return:\n",
    "        num: the normalized output value\n",
    "    \"\"\"\n",
    "    # Return null values direcly\n",
    "    if pd.isna(num):\n",
    "        return num\n",
    "    # Remove values out of range\n",
    "    elif num > 300 or num < 0:\n",
    "        return np.nan\n",
    "    # Return normal values directly\n",
    "    else:\n",
    "        return num\n",
    "    \n",
    "def normal_temperature(num):\n",
    "    \"\"\"\n",
    "    Function to normalize temperature values.\n",
    "\n",
    "    Parameters:\n",
    "        num: the originial input value\n",
    "    Return:\n",
    "        num: the normalized output value\n",
    "    \"\"\"\n",
    "    # Return null values direcly\n",
    "    if pd.isna(num):\n",
    "        return num\n",
    "    # Convert Fahrenheit to Celsius\n",
    "    # And apply the function again\n",
    "    elif num > 50:\n",
    "        return normal_temperature((num - 32) * 5 / 9)\n",
    "    # Remove values out of range\n",
    "    elif num < 15 or num > 45:\n",
    "        return np.nan\n",
    "    # Return normal values directly\n",
    "    else:\n",
    "        return num\n",
    "    \n",
    "def normal_pa(systolic, diastolic, mean_p):\n",
    "    \"\"\"\n",
    "    Function to normalize pulmonary artery blood pressure values.\n",
    "\n",
    "    Parameters:\n",
    "        num: the originial input value\n",
    "    Return:\n",
    "        num: the normalized output value\n",
    "    \"\"\"\n",
    "    # Return null values direcly\n",
    "    if systolic == np.nan or diastolic == np.nan or mean_p == np.nan:\n",
    "        return np.nan, np.nan, np.nan\n",
    "    # Remove values out of range\n",
    "    elif systolic < 0 or systolic > 300:\n",
    "        return np.nan, np.nan, np.nan\n",
    "    elif diastolic < 0 or diastolic > 200:\n",
    "        return np.nan, np.nan, np.nan\n",
    "    elif mean_p < 0 or mean_p > 190:\n",
    "        return np.nan, np.nan, np.nan\n",
    "    elif diastolic >= mean_p:\n",
    "        return np.nan, np.nan, np.nan\n",
    "    elif systolic < mean_p:\n",
    "        return np.nan, np.nan, np.nan\n",
    "    elif systolic - diastolic <= 4:\n",
    "        return np.nan, np.nan, np.nan\n",
    "    # Return normal values directly\n",
    "    else:\n",
    "        return systolic, diastolic, mean_p\n",
    "\n",
    "def normal_systemic(systolic, diastolic, mean_p):\n",
    "    \"\"\"\n",
    "    Function to normalize systemic blood pressure values.\n",
    "\n",
    "    Parameters:\n",
    "        num: the originial input value\n",
    "    Return:\n",
    "        num: the normalized output value\n",
    "    \"\"\"\n",
    "    # Return null values direcly\n",
    "    if systolic == np.nan or diastolic == np.nan or mean_p == np.nan:\n",
    "        return np.nan, np.nan, np.nan\n",
    "    # Remove values out of range\n",
    "    elif systolic < 0 or systolic > 300:\n",
    "        return np.nan, np.nan, np.nan\n",
    "    elif diastolic < 0 or diastolic > 200:\n",
    "        return np.nan, np.nan, np.nan\n",
    "    elif mean_p < 0 or mean_p > 190:\n",
    "        return np.nan, np.nan, np.nan\n",
    "    elif diastolic >= mean_p:\n",
    "        return np.nan, np.nan, np.nan\n",
    "    elif systolic < mean_p:\n",
    "        return np.nan, np.nan, np.nan\n",
    "    elif systolic - diastolic <= 4:\n",
    "        return np.nan, np.nan, np.nan\n",
    "    # Return normal values directly\n",
    "    else:\n",
    "        return systolic, diastolic, mean_p"
   ]
  },
  {
   "cell_type": "code",
   "execution_count": 21,
   "metadata": {},
   "outputs": [
    {
     "name": "stdout",
     "output_type": "stream",
     "text": [
      "     nursingchartid  patientunitstayid  observationoffset  \\\n",
      "238       163351477             143870               -424   \n",
      "280       304056246             143870                -67   \n",
      "13        144801792             143870                -57   \n",
      "266       253833644             143870                -32   \n",
      "182       252655266             143870                -17   \n",
      "\n",
      "     nursingchartentryoffset nursingchartcelltypecat  \\\n",
      "238                     -424             Vital Signs   \n",
      "280                      -67             Vital Signs   \n",
      "13                       -57             Vital Signs   \n",
      "266                      -32             Vital Signs   \n",
      "182                      -17             Vital Signs   \n",
      "\n",
      "    nursingchartcelltypevallabel nursingchartcelltypevalname Pressure  \n",
      "238              Non-Invasive BP    Non-Invasive BP Systolic      191  \n",
      "280              Non-Invasive BP    Non-Invasive BP Systolic       96  \n",
      "13               Non-Invasive BP    Non-Invasive BP Systolic       99  \n",
      "266              Non-Invasive BP    Non-Invasive BP Systolic      100  \n",
      "182              Non-Invasive BP    Non-Invasive BP Systolic       94  \n"
     ]
    }
   ],
   "source": [
    "# nursingchartcelltypevallabel Temperature\n",
    "df_nurseCharting = df_nurseCharting[df_nurseCharting['nursingchartcelltypevalname']=='Non-Invasive BP Systolic']\n",
    "df_nurseCharting = df_nurseCharting.rename(columns={'nursingchartoffset': 'observationoffset', 'nursingchartvalue':'Pressure'})\n",
    "print(df_nurseCharting.head())"
   ]
  },
  {
   "cell_type": "code",
   "execution_count": 22,
   "metadata": {},
   "outputs": [
    {
     "ename": "KeyError",
     "evalue": "\"['temperature'] not in index\"",
     "output_type": "error",
     "traceback": [
      "\u001b[0;31m---------------------------------------------------------------------------\u001b[0m",
      "\u001b[0;31mKeyError\u001b[0m                                  Traceback (most recent call last)",
      "\u001b[1;32m/Users/xiao-zy19/stream/Data extract/blood pressure.ipynb 单元格 11\u001b[0m line \u001b[0;36m3\n\u001b[1;32m      <a href='vscode-notebook-cell:/Users/xiao-zy19/stream/Data%20extract/blood%20pressure.ipynb#X14sZmlsZQ%3D%3D?line=0'>1</a>\u001b[0m \u001b[39m# extract temperature from df_vitalPeriodic & df_nurseCharting\u001b[39;00m\n\u001b[1;32m      <a href='vscode-notebook-cell:/Users/xiao-zy19/stream/Data%20extract/blood%20pressure.ipynb#X14sZmlsZQ%3D%3D?line=1'>2</a>\u001b[0m Temp_v \u001b[39m=\u001b[39m df_vitalPeriodic[[\u001b[39m'\u001b[39m\u001b[39mpatientunitstayid\u001b[39m\u001b[39m'\u001b[39m, \u001b[39m'\u001b[39m\u001b[39mobservationoffset\u001b[39m\u001b[39m'\u001b[39m, \u001b[39m'\u001b[39m\u001b[39mtemperature\u001b[39m\u001b[39m'\u001b[39m]]\n\u001b[0;32m----> <a href='vscode-notebook-cell:/Users/xiao-zy19/stream/Data%20extract/blood%20pressure.ipynb#X14sZmlsZQ%3D%3D?line=2'>3</a>\u001b[0m Temp_n \u001b[39m=\u001b[39m df_nurseCharting[[\u001b[39m'\u001b[39;49m\u001b[39mpatientunitstayid\u001b[39;49m\u001b[39m'\u001b[39;49m, \u001b[39m'\u001b[39;49m\u001b[39mobservationoffset\u001b[39;49m\u001b[39m'\u001b[39;49m, \u001b[39m'\u001b[39;49m\u001b[39mtemperature\u001b[39;49m\u001b[39m'\u001b[39;49m]]\n\u001b[1;32m      <a href='vscode-notebook-cell:/Users/xiao-zy19/stream/Data%20extract/blood%20pressure.ipynb#X14sZmlsZQ%3D%3D?line=4'>5</a>\u001b[0m \u001b[39m# delete the rows with string values\u001b[39;00m\n\u001b[1;32m      <a href='vscode-notebook-cell:/Users/xiao-zy19/stream/Data%20extract/blood%20pressure.ipynb#X14sZmlsZQ%3D%3D?line=5'>6</a>\u001b[0m Temp_n \u001b[39m=\u001b[39m Temp_n[Temp_n[\u001b[39m'\u001b[39m\u001b[39mtemperature\u001b[39m\u001b[39m'\u001b[39m]\u001b[39m.\u001b[39mapply(\u001b[39mlambda\u001b[39;00m x: \u001b[39mstr\u001b[39m(x)\u001b[39m.\u001b[39mreplace(\u001b[39m'\u001b[39m\u001b[39m.\u001b[39m\u001b[39m'\u001b[39m, \u001b[39m'\u001b[39m\u001b[39m'\u001b[39m, \u001b[39m1\u001b[39m)\u001b[39m.\u001b[39misdigit())]\n",
      "File \u001b[0;32m~/anaconda3/envs/bdd/lib/python3.9/site-packages/pandas/core/frame.py:3767\u001b[0m, in \u001b[0;36mDataFrame.__getitem__\u001b[0;34m(self, key)\u001b[0m\n\u001b[1;32m   3765\u001b[0m     \u001b[39mif\u001b[39;00m is_iterator(key):\n\u001b[1;32m   3766\u001b[0m         key \u001b[39m=\u001b[39m \u001b[39mlist\u001b[39m(key)\n\u001b[0;32m-> 3767\u001b[0m     indexer \u001b[39m=\u001b[39m \u001b[39mself\u001b[39;49m\u001b[39m.\u001b[39;49mcolumns\u001b[39m.\u001b[39;49m_get_indexer_strict(key, \u001b[39m\"\u001b[39;49m\u001b[39mcolumns\u001b[39;49m\u001b[39m\"\u001b[39;49m)[\u001b[39m1\u001b[39m]\n\u001b[1;32m   3769\u001b[0m \u001b[39m# take() does not accept boolean indexers\u001b[39;00m\n\u001b[1;32m   3770\u001b[0m \u001b[39mif\u001b[39;00m \u001b[39mgetattr\u001b[39m(indexer, \u001b[39m\"\u001b[39m\u001b[39mdtype\u001b[39m\u001b[39m\"\u001b[39m, \u001b[39mNone\u001b[39;00m) \u001b[39m==\u001b[39m \u001b[39mbool\u001b[39m:\n",
      "File \u001b[0;32m~/anaconda3/envs/bdd/lib/python3.9/site-packages/pandas/core/indexes/base.py:5877\u001b[0m, in \u001b[0;36mIndex._get_indexer_strict\u001b[0;34m(self, key, axis_name)\u001b[0m\n\u001b[1;32m   5874\u001b[0m \u001b[39melse\u001b[39;00m:\n\u001b[1;32m   5875\u001b[0m     keyarr, indexer, new_indexer \u001b[39m=\u001b[39m \u001b[39mself\u001b[39m\u001b[39m.\u001b[39m_reindex_non_unique(keyarr)\n\u001b[0;32m-> 5877\u001b[0m \u001b[39mself\u001b[39;49m\u001b[39m.\u001b[39;49m_raise_if_missing(keyarr, indexer, axis_name)\n\u001b[1;32m   5879\u001b[0m keyarr \u001b[39m=\u001b[39m \u001b[39mself\u001b[39m\u001b[39m.\u001b[39mtake(indexer)\n\u001b[1;32m   5880\u001b[0m \u001b[39mif\u001b[39;00m \u001b[39misinstance\u001b[39m(key, Index):\n\u001b[1;32m   5881\u001b[0m     \u001b[39m# GH 42790 - Preserve name from an Index\u001b[39;00m\n",
      "File \u001b[0;32m~/anaconda3/envs/bdd/lib/python3.9/site-packages/pandas/core/indexes/base.py:5941\u001b[0m, in \u001b[0;36mIndex._raise_if_missing\u001b[0;34m(self, key, indexer, axis_name)\u001b[0m\n\u001b[1;32m   5938\u001b[0m     \u001b[39mraise\u001b[39;00m \u001b[39mKeyError\u001b[39;00m(\u001b[39mf\u001b[39m\u001b[39m\"\u001b[39m\u001b[39mNone of [\u001b[39m\u001b[39m{\u001b[39;00mkey\u001b[39m}\u001b[39;00m\u001b[39m] are in the [\u001b[39m\u001b[39m{\u001b[39;00maxis_name\u001b[39m}\u001b[39;00m\u001b[39m]\u001b[39m\u001b[39m\"\u001b[39m)\n\u001b[1;32m   5940\u001b[0m not_found \u001b[39m=\u001b[39m \u001b[39mlist\u001b[39m(ensure_index(key)[missing_mask\u001b[39m.\u001b[39mnonzero()[\u001b[39m0\u001b[39m]]\u001b[39m.\u001b[39munique())\n\u001b[0;32m-> 5941\u001b[0m \u001b[39mraise\u001b[39;00m \u001b[39mKeyError\u001b[39;00m(\u001b[39mf\u001b[39m\u001b[39m\"\u001b[39m\u001b[39m{\u001b[39;00mnot_found\u001b[39m}\u001b[39;00m\u001b[39m not in index\u001b[39m\u001b[39m\"\u001b[39m)\n",
      "\u001b[0;31mKeyError\u001b[0m: \"['temperature'] not in index\""
     ]
    }
   ],
   "source": [
    "# extract temperature from df_vitalPeriodic & df_nurseCharting\n",
    "Temp_v = df_vitalPeriodic[['patientunitstayid', 'observationoffset', 'temperature']]\n",
    "Temp_n = df_nurseCharting[['patientunitstayid', 'observationoffset', 'temperature']]\n",
    "\n",
    "# delete the rows with string values\n",
    "Temp_n = Temp_n[Temp_n['temperature'].apply(lambda x: str(x).replace('.', '', 1).isdigit())]\n",
    "print(f'First 5 rows of Temp_n: \\n{Temp_n.head()} \\n')\n",
    "\n",
    "Temp = pd.concat([Temp_v, Temp_n]).astype(float)\n",
    "Temp.sort_values(by=['patientunitstayid', 'observationoffset'], inplace=True)\n",
    "print(f'First 5 rows of Temp: \\n{Temp.head()} \\n')\n",
    "\n",
    "# exclude abnormal heart rate values\n",
    "Temp.loc[:, 'temperature'] = Temp['temperature'].apply(normal_temperature)\n",
    "\n",
    "# save Temp to csv file (uncomment the code to save)\n",
    "# Temp.to_csv('Temp.csv', index=False)\n",
    "\n",
    "value_position_dict = {}\n",
    "first_occurrences = []\n",
    "for idx, value in enumerate(Temp['patientunitstayid']):\n",
    "    # if the value is not in the dictionary, add it and create index\n",
    "    if value not in value_position_dict:\n",
    "        value_position_dict[value] = idx\n",
    "        first_occurrences.append(idx)\n",
    "\n",
    "first_occurrences.append(len(Temp))\n",
    "# create first occurrence index for every patient\n",
    "Temp_index = pd.Series(first_occurrences)\n",
    "print(f'First 5 rows of Temp_index: \\n{Temp_index.head()}')"
   ]
  },
  {
   "cell_type": "markdown",
   "metadata": {},
   "source": [
    "**Example: how to use Temp & Temp_index**"
   ]
  },
  {
   "cell_type": "code",
   "execution_count": null,
   "metadata": {},
   "outputs": [
    {
     "name": "stdout",
     "output_type": "stream",
     "text": [
      "HeartRate data for patient 1: \n",
      "     patientunitstayid  observationoffset  temperature\n",
      "94            143870.0             -424.0    36.111111\n",
      "119           143870.0             -424.0    36.100000\n",
      "316           143870.0              -72.0    36.600000\n",
      "352           143870.0              -72.0    36.611111\n",
      "273           143870.0              -32.0    36.100000\n",
      "..                 ...                ...          ...\n",
      "578           143870.0              782.0          NaN\n",
      "572           143870.0              787.0          NaN\n",
      "566           143870.0              792.0          NaN\n",
      "25            143870.0              973.0    36.111111\n",
      "41            143870.0              973.0    36.100000\n",
      "\n",
      "[176 rows x 3 columns]\n"
     ]
    }
   ],
   "source": [
    "# if we want the i th patient's data (i starts from 0)\n",
    "# use Temp.iloc[Temp_index[i]:Temp_index[i+1]]\n",
    "i = 0\n",
    "print(f'HeartRate data for patient {i+1}: \\n{Temp.iloc[Temp_index[i]:Temp_index[i+1]]}')"
   ]
  }
 ],
 "metadata": {
  "kernelspec": {
   "display_name": "bdd",
   "language": "python",
   "name": "python3"
  },
  "language_info": {
   "codemirror_mode": {
    "name": "ipython",
    "version": 3
   },
   "file_extension": ".py",
   "mimetype": "text/x-python",
   "name": "python",
   "nbconvert_exporter": "python",
   "pygments_lexer": "ipython3",
   "version": "3.9.18"
  }
 },
 "nbformat": 4,
 "nbformat_minor": 2
}
