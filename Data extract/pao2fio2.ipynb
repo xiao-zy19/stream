{
 "cells": [
  {
   "cell_type": "markdown",
   "metadata": {},
   "source": [
    "### Choose the first entry of each patient. Extract body Pao2/fio2 ratio data into ***Pao2fio2***, create ***Pao2fio2_index*** for each patient. \n",
    "Contains patient body Pao2/fio2 ratio data from both vitalPeriodic.csv & nurseCharting.csv"
   ]
  },
  {
   "cell_type": "markdown",
   "metadata": {},
   "source": [
    "**1. Extract sub-categories patient id from cardiovascular**"
   ]
  },
  {
   "cell_type": "code",
   "execution_count": 7,
   "metadata": {},
   "outputs": [
    {
     "name": "stdout",
     "output_type": "stream",
     "text": [
      "[ 143870  151179  151900 ... 3351297 3352230 3352231]\n"
     ]
    }
   ],
   "source": [
    "import os\n",
    "import numpy as np\n",
    "import matplotlib.pyplot as plt\n",
    "import pandas as pd\n",
    "\n",
    "# change to your folder path\n",
    "os.chdir('C:/Users/xiao-zy19/Desktop/Johns Hopkins/Biomedical Data Design/EICU Database/eicu-collaborative-research-database-demo-2.0.1')\n",
    "# os.chdir('/Users/xiao-zy19/Desktop/Johns Hopkins/Biomedical Data Design/DataExtract/data') \n",
    "\n",
    "# import diagnosis.csv\n",
    "df_diagnosis = pd.read_csv('diagnosis.csv')\n",
    "df_diagnosis.sort_values(by=['patientunitstayid', 'diagnosisoffset'], inplace=True)\n",
    "\n",
    "# select cardiovascular patients\n",
    "df_cardiovascular = df_diagnosis[df_diagnosis['diagnosisstring'].str.contains('cardiovascular')]\n",
    "\n",
    "# get shock patient \n",
    "shock_patient = df_cardiovascular[df_cardiovascular['diagnosisstring'].str.contains('shock')]\n",
    "\n",
    "# get ventricular patient \n",
    "ventricular_patient = df_cardiovascular[df_cardiovascular['diagnosisstring'].str.contains('ventricular')]\n",
    "\n",
    "# get chest pain patient \n",
    "chest_pain_patient = df_cardiovascular[df_cardiovascular['diagnosisstring'].str.contains('chest pain')]\n",
    "\n",
    "# get arrhythmias patient \n",
    "arrhythmias_patient = df_cardiovascular[df_cardiovascular['diagnosisstring'].str.contains('arrhythmias')]\n",
    "\n",
    "# put id together\n",
    "df_wanted = pd.concat([shock_patient, ventricular_patient, chest_pain_patient, arrhythmias_patient])\n",
    "\n",
    "# Get the patient ids from df_wanted & sort the patient id\n",
    "# patient_id_all multiple entry patient's stayid\n",
    "patient_id_all = df_wanted['patientunitstayid'].unique()\n",
    "patient_id_all.sort()\n",
    "print(patient_id_all)"
   ]
  },
  {
   "cell_type": "markdown",
   "metadata": {},
   "source": [
    "**2. Exclude patient whose unitvisitnumbe>1**"
   ]
  },
  {
   "cell_type": "code",
   "execution_count": 8,
   "metadata": {},
   "outputs": [
    {
     "name": "stdout",
     "output_type": "stream",
     "text": [
      "Total number of patients: 915\n"
     ]
    }
   ],
   "source": [
    "# import patient.csv\n",
    "df_patient = pd.read_csv('patient.csv')\n",
    "df_patient.sort_values(by=['patientunitstayid'], inplace=True)\n",
    "df_patient_buf = df_patient[df_patient['patientunitstayid'].isin(patient_id_all)]\n",
    "df_1time_patient = df_patient_buf[df_patient_buf['unitvisitnumber']==1]\n",
    "# print(df_1time_patient)\n",
    "\n",
    "# select the patient id from df_1time_patient\n",
    "patient_id = df_1time_patient['patientunitstayid'].unique()\n",
    "print(f'Total number of patients: {len(patient_id)}')"
   ]
  },
  {
   "cell_type": "markdown",
   "metadata": {},
   "source": [
    "**3. Extract data of patients within the id list**"
   ]
  },
  {
   "cell_type": "code",
   "execution_count": 9,
   "metadata": {},
   "outputs": [
    {
     "name": "stdout",
     "output_type": "stream",
     "text": [
      "nurseCharting shape: (603027, 8)\n",
      "lab shape: (182390, 10)\n",
      "respiratoryCharting shape: (81833, 7)\n"
     ]
    }
   ],
   "source": [
    "# import nurseCharting, lab, respiratoryCharting\n",
    "df_nurseCharting = pd.read_csv('nurseCharting.csv')\n",
    "df_nurseCharting.sort_values(by=['patientunitstayid', 'nursingchartoffset'], inplace=True)\n",
    "df_lab = pd.read_csv('lab.csv')\n",
    "df_lab.sort_values(by=['patientunitstayid', 'labresultoffset'], inplace=True)\n",
    "df_respiratoryCharting = pd.read_csv('respiratoryCharting.csv')\n",
    "df_respiratoryCharting.sort_values(by=['patientunitstayid', 'respchartoffset'], inplace=True)\n",
    "\n",
    "\n",
    "# select the wanted patient\n",
    "df_nurseCharting = df_nurseCharting[df_nurseCharting['patientunitstayid'].isin(patient_id)]\n",
    "df_lab = df_lab[df_lab['patientunitstayid'].isin(patient_id)]\n",
    "df_respiratoryCharting = df_respiratoryCharting[df_respiratoryCharting['patientunitstayid'].isin(patient_id)]\n",
    "\n",
    "\n",
    "# print the shape of the wanted file\n",
    "print(f'nurseCharting shape: {df_nurseCharting.shape}')\n",
    "print(f'lab shape: {df_lab.shape}')\n",
    "print(f'respiratoryCharting shape: {df_respiratoryCharting.shape}')"
   ]
  },
  {
   "cell_type": "markdown",
   "metadata": {},
   "source": [
    "**4. Extract Heart Rate data & create index**"
   ]
  },
  {
   "cell_type": "code",
   "execution_count": 13,
   "metadata": {},
   "outputs": [],
   "source": [
    "# nursingchartcelltypevallabel: SVO2\n",
    "df_nurseCharting_SVO = df_nurseCharting[df_nurseCharting['nursingchartcelltypevallabel']=='SVO2']\n",
    "df_nurseCharting_SVO = df_nurseCharting_SVO.rename(columns={'nursingchartoffset': 'observationoffset', 'nursingchartvalue':'SVO2'})\n",
    "# print(df_nurseCharting_SVO.head())\n",
    "\n",
    "# nursingchartcelltypevallabel: O2 Saturation\n",
    "df_nurseCharting_O2 = df_nurseCharting[df_nurseCharting['nursingchartcelltypevallabel']=='O2 Saturation']\n",
    "df_nurseCharting_O2 = df_nurseCharting_O2.rename(columns={'nursingchartoffset': 'observationoffset', 'nursingchartvalue':'O2 Saturation'})\n",
    "# print(df_nurseCharting_O2.head())\n",
    "\n",
    "# labname: FiO2\n",
    "df_lab_FiO2 = df_lab[df_lab['labname']=='FiO2']\n",
    "df_lab_FiO2 = df_lab_FiO2.rename(columns={'labresultoffset': 'observationoffset', 'labresult':'FiO2'})\n",
    "# print(df_lab_FiO2.head())\n",
    "\n",
    "# labname: paO2\n",
    "df_lab_paO2 = df_lab[df_lab['labname']=='paO2']\n",
    "df_lab_paO2 = df_lab_paO2.rename(columns={'labresultoffset': 'observationoffset', 'labresult':'paO2'})\n",
    "# print(df_lab_paO2.head())"
   ]
  },
  {
   "cell_type": "code",
   "execution_count": 11,
   "metadata": {},
   "outputs": [
    {
     "ename": "NameError",
     "evalue": "name 'df_vitalPeriodic' is not defined",
     "output_type": "error",
     "traceback": [
      "\u001b[1;31m---------------------------------------------------------------------------\u001b[0m",
      "\u001b[1;31mNameError\u001b[0m                                 Traceback (most recent call last)",
      "\u001b[1;32mc:\\Users\\xiao-zy19\\stream\\Data extract\\pao2fio2.ipynb 单元格 10\u001b[0m line \u001b[0;36m2\n\u001b[0;32m      <a href='vscode-notebook-cell:/c%3A/Users/xiao-zy19/stream/Data%20extract/pao2fio2.ipynb#X13sZmlsZQ%3D%3D?line=0'>1</a>\u001b[0m \u001b[39m# extract temperature from df_vitalPeriodic & df_nurseCharting\u001b[39;00m\n\u001b[1;32m----> <a href='vscode-notebook-cell:/c%3A/Users/xiao-zy19/stream/Data%20extract/pao2fio2.ipynb#X13sZmlsZQ%3D%3D?line=1'>2</a>\u001b[0m Temp_v \u001b[39m=\u001b[39m df_vitalPeriodic[[\u001b[39m'\u001b[39m\u001b[39mpatientunitstayid\u001b[39m\u001b[39m'\u001b[39m, \u001b[39m'\u001b[39m\u001b[39mobservationoffset\u001b[39m\u001b[39m'\u001b[39m, \u001b[39m'\u001b[39m\u001b[39mtemperature\u001b[39m\u001b[39m'\u001b[39m]]\n\u001b[0;32m      <a href='vscode-notebook-cell:/c%3A/Users/xiao-zy19/stream/Data%20extract/pao2fio2.ipynb#X13sZmlsZQ%3D%3D?line=2'>3</a>\u001b[0m Temp_n \u001b[39m=\u001b[39m df_nurseCharting[[\u001b[39m'\u001b[39m\u001b[39mpatientunitstayid\u001b[39m\u001b[39m'\u001b[39m, \u001b[39m'\u001b[39m\u001b[39mobservationoffset\u001b[39m\u001b[39m'\u001b[39m, \u001b[39m'\u001b[39m\u001b[39mtemperature\u001b[39m\u001b[39m'\u001b[39m]]\n\u001b[0;32m      <a href='vscode-notebook-cell:/c%3A/Users/xiao-zy19/stream/Data%20extract/pao2fio2.ipynb#X13sZmlsZQ%3D%3D?line=4'>5</a>\u001b[0m \u001b[39m# delete the rows with string values\u001b[39;00m\n",
      "\u001b[1;31mNameError\u001b[0m: name 'df_vitalPeriodic' is not defined"
     ]
    }
   ],
   "source": [
    "# extract data\n",
    "SVO2 = df_nurseCharting_SVO[['patientunitstayid', 'observationoffset', 'SVO2']]\n",
    "O2 = df_nurseCharting_O2[['patientunitstayid', 'observationoffset', 'O2 Saturation']]\n",
    "\n",
    "SVO2.sort_values(by=['patientunitstayid', 'observationoffset'], inplace=True)\n",
    "O2.sort_values(by=['patientunitstayid', 'observationoffset'], inplace=True)\n",
    "\n",
    "\n",
    "\n",
    "value_position_dict = {}\n",
    "first_occurrences = []\n",
    "for idx, value in enumerate(Temp['patientunitstayid']):\n",
    "    # if the value is not in the dictionary, add it and create index\n",
    "    if value not in value_position_dict:\n",
    "        value_position_dict[value] = idx\n",
    "        first_occurrences.append(idx)\n",
    "\n",
    "first_occurrences.append(len(Temp))\n",
    "# create first occurrence index for every patient\n",
    "Temp_index = pd.Series(first_occurrences)\n",
    "print(f'First 5 rows of Temp_index: \\n{Temp_index.head()}')"
   ]
  },
  {
   "cell_type": "markdown",
   "metadata": {},
   "source": [
    "**Example: how to use Temp & Temp_index**"
   ]
  },
  {
   "cell_type": "code",
   "execution_count": null,
   "metadata": {},
   "outputs": [],
   "source": [
    "# if we want the i th patient's data (i starts from 0)\n",
    "# use Temp.iloc[Temp_index[i]:Temp_index[i+1]]\n",
    "i = 0\n",
    "print(f'HeartRate data for patient {i+1}: \\n{Temp.iloc[Temp_index[i]:Temp_index[i+1]]}')"
   ]
  }
 ],
 "metadata": {
  "kernelspec": {
   "display_name": "bdd",
   "language": "python",
   "name": "python3"
  },
  "language_info": {
   "codemirror_mode": {
    "name": "ipython",
    "version": 3
   },
   "file_extension": ".py",
   "mimetype": "text/x-python",
   "name": "python",
   "nbconvert_exporter": "python",
   "pygments_lexer": "ipython3",
   "version": "3.9.17"
  }
 },
 "nbformat": 4,
 "nbformat_minor": 2
}
