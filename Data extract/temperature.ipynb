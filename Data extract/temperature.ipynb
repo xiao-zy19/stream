{
 "cells": [
  {
   "cell_type": "markdown",
   "metadata": {},
   "source": [
    "### Choose the first entry of each patient. Extract body temperature data into ***Temp***, create ***Temp_index*** for each patient. \n",
    "Contains patient body temperature data from both vitalPeriodic.csv & nurseCharting.csv"
   ]
  },
  {
   "cell_type": "markdown",
   "metadata": {},
   "source": [
    "**1. Extract sub-categories patient id from cardiovascular**"
   ]
  },
  {
   "cell_type": "code",
   "execution_count": 1,
   "metadata": {},
   "outputs": [
    {
     "name": "stdout",
     "output_type": "stream",
     "text": [
      "[ 143870  151179  151900 ... 3351297 3352230 3352231]\n"
     ]
    }
   ],
   "source": [
    "import numpy as np\n",
    "import matplotlib.pyplot as plt\n",
    "import pandas as pd\n",
    "import data_toolbox\n",
    "\n",
    "# import diagnosis.csv\n",
    "df_diagnosis = pd.read_csv('diagnosis.csv')\n",
    "df_diagnosis.sort_values(by=['patientunitstayid', 'diagnosisoffset'], inplace=True)\n",
    "\n",
    "# select cardiovascular patients\n",
    "df_cardiovascular = df_diagnosis[df_diagnosis['diagnosisstring'].str.contains('cardiovascular')]\n",
    "# print(df_cardiovascular)\n",
    "\n",
    "\n",
    "# get shock patient \n",
    "shock_patient = df_cardiovascular[df_cardiovascular['diagnosisstring'].str.contains('shock')]\n",
    "# print(shock_patient)\n",
    "\n",
    "# get ventricular patient \n",
    "ventricular_patient = df_cardiovascular[df_cardiovascular['diagnosisstring'].str.contains('ventricular')]\n",
    "# print(ventricular_patient)\n",
    "\n",
    "# get chest pain patient \n",
    "chest_pain_patient = df_cardiovascular[df_cardiovascular['diagnosisstring'].str.contains('chest pain')]\n",
    "\n",
    "# get arrhythmias patient \n",
    "arrhythmias_patient = df_cardiovascular[df_cardiovascular['diagnosisstring'].str.contains('arrhythmias')]\n",
    "\n",
    "# put id together\n",
    "df_wanted = pd.concat([shock_patient, ventricular_patient, chest_pain_patient, arrhythmias_patient])\n",
    "# print(df_wanted)\n",
    "\n",
    "# Get the patient ids from df_wanted & sort the patient id\n",
    "# patient_id_all multiple entry patient's stayid\n",
    "patient_id_all = df_wanted['patientunitstayid'].unique()\n",
    "patient_id_all.sort()\n",
    "print(patient_id_all)"
   ]
  },
  {
   "cell_type": "markdown",
   "metadata": {},
   "source": [
    "**2. Exclude patient whose unitvisitnumbe>1**"
   ]
  },
  {
   "cell_type": "code",
   "execution_count": 2,
   "metadata": {},
   "outputs": [
    {
     "name": "stdout",
     "output_type": "stream",
     "text": [
      "Total number of patients: 915\n"
     ]
    }
   ],
   "source": [
    "# import patient.csv\n",
    "df_patient = pd.read_csv('patient.csv')\n",
    "df_patient.sort_values(by=['patientunitstayid'], inplace=True)\n",
    "df_patient_buf = df_patient[df_patient['patientunitstayid'].isin(patient_id_all)]\n",
    "df_1time_patient = df_patient_buf[df_patient_buf['unitvisitnumber']==1]\n",
    "# print(df_1time_patient)\n",
    "\n",
    "# select the patient id from df_1time_patient\n",
    "patient_id = df_1time_patient['patientunitstayid'].unique()\n",
    "print(f'Total number of patients: {len(patient_id)}')"
   ]
  },
  {
   "cell_type": "markdown",
   "metadata": {},
   "source": [
    "**3. Extract data of patients within the id list**"
   ]
  },
  {
   "cell_type": "code",
   "execution_count": 3,
   "metadata": {},
   "outputs": [
    {
     "name": "stdout",
     "output_type": "stream",
     "text": [
      "vitalperiodic shape: (747487, 19)\n",
      "nurseCharting shape: (603027, 8)\n"
     ]
    }
   ],
   "source": [
    "# import vitalPeriodic.csv & nurseCharting.csv\n",
    "df_vitalPeriodic = pd.read_csv('vitalPeriodic.csv')\n",
    "df_vitalPeriodic.sort_values(by=['patientunitstayid', 'observationoffset'], inplace=True)\n",
    "df_nurseCharting = pd.read_csv('nurseCharting.csv')\n",
    "df_nurseCharting.sort_values(by=['patientunitstayid', 'nursingchartoffset'], inplace=True)\n",
    "\n",
    "\n",
    "# select the wanted patient\n",
    "df_vitalPeriodic = df_vitalPeriodic[df_vitalPeriodic['patientunitstayid'].isin(patient_id)]\n",
    "df_nurseCharting = df_nurseCharting[df_nurseCharting['patientunitstayid'].isin(patient_id)]\n",
    "\n",
    "# save the wanted file (uncomment the code to save)\n",
    "# df_vitalPeriodic.to_csv('vitalPeriodic_wanted.csv', index=False)\n",
    "\n",
    "# print the shape of the wanted file\n",
    "print(f'vitalperiodic shape: {df_vitalPeriodic.shape}')\n",
    "print(f'nurseCharting shape: {df_nurseCharting.shape}')"
   ]
  },
  {
   "cell_type": "markdown",
   "metadata": {},
   "source": [
    "**4. Extract Heart Rate data & create index**\n",
    "\n",
    "It is weird that some patient id doesn't exist in df_vitalPeriodic, maybe it's a demo problem"
   ]
  },
  {
   "cell_type": "code",
   "execution_count": 4,
   "metadata": {},
   "outputs": [],
   "source": [
    "# value1 = set(df_vitalPeriodic['patientunitstayid'].unique())\n",
    "# value2 = set(patient_id)\n",
    "# unique_to_2 = value2.difference(value1)\n",
    "# print(unique_to_2)"
   ]
  },
  {
   "cell_type": "code",
   "execution_count": 5,
   "metadata": {},
   "outputs": [],
   "source": [
    "# define heartrate preprocessing function\n",
    "def normal_heartrate(num):\n",
    "    \"\"\"\n",
    "    Function to normalize heart rate values.\n",
    "\n",
    "    Parameters:\n",
    "        num: the originial input value\n",
    "    Return:\n",
    "        num: the normalized output value\n",
    "    \"\"\"\n",
    "    # Return null values direcly\n",
    "    if pd.isna(num):\n",
    "        return num\n",
    "    # Remove values out of range\n",
    "    elif num > 300 or num < 0:\n",
    "        return np.nan\n",
    "    # Return normal values directly\n",
    "    else:\n",
    "        return num\n",
    "    \n",
    "def normal_temperature(num):\n",
    "    \"\"\"\n",
    "    Function to normalize temperature values.\n",
    "\n",
    "    Parameters:\n",
    "        num: the originial input value\n",
    "    Return:\n",
    "        num: the normalized output value\n",
    "    \"\"\"\n",
    "    # Return null values direcly\n",
    "    if pd.isna(num):\n",
    "        return num\n",
    "    # Convert Fahrenheit to Celsius\n",
    "    # And apply the function again\n",
    "    elif num > 50:\n",
    "        return normal_temperature((num - 32) * 5 / 9)\n",
    "    # Remove values out of range\n",
    "    elif num < 15 or num > 45:\n",
    "        return np.nan\n",
    "    # Return normal values directly\n",
    "    else:\n",
    "        return num"
   ]
  },
  {
   "cell_type": "code",
   "execution_count": 6,
   "metadata": {},
   "outputs": [
    {
     "name": "stdout",
     "output_type": "stream",
     "text": [
      "     nursingchartid  patientunitstayid  observationoffset  \\\n",
      "58         95478972             143870               -424   \n",
      "94         95478973             143870               -424   \n",
      "119        95478971             143870               -424   \n",
      "316       240209719             143870                -72   \n",
      "343       240209720             143870                -72   \n",
      "\n",
      "     nursingchartentryoffset nursingchartcelltypecat  \\\n",
      "58                      -424             Vital Signs   \n",
      "94                      -424             Vital Signs   \n",
      "119                     -424             Vital Signs   \n",
      "316                      -72             Vital Signs   \n",
      "343                      -72             Vital Signs   \n",
      "\n",
      "    nursingchartcelltypevallabel nursingchartcelltypevalname      temperature  \n",
      "58                   Temperature        Temperature Location  TEMPORAL ARTERY  \n",
      "94                   Temperature             Temperature (F)               97  \n",
      "119                  Temperature             Temperature (C)             36.1  \n",
      "316                  Temperature             Temperature (C)             36.6  \n",
      "343                  Temperature        Temperature Location  TEMPORAL ARTERY  \n"
     ]
    }
   ],
   "source": [
    "# nursingchartcelltypevallabel Temperature\n",
    "df_nurseCharting = df_nurseCharting[df_nurseCharting['nursingchartcelltypevallabel']=='Temperature']\n",
    "df_nurseCharting = df_nurseCharting.rename(columns={'nursingchartoffset': 'observationoffset', 'nursingchartvalue':'temperature'})\n",
    "print(df_nurseCharting.head())"
   ]
  },
  {
   "cell_type": "code",
   "execution_count": 12,
   "metadata": {},
   "outputs": [
    {
     "name": "stdout",
     "output_type": "stream",
     "text": [
      "First 5 rows of Temp_n: \n",
      "     patientunitstayid  observationoffset temperature\n",
      "94              143870               -424          97\n",
      "119             143870               -424        36.1\n",
      "316             143870                -72        36.6\n",
      "352             143870                -72        97.9\n",
      "273             143870                -32        36.1 \n",
      "\n",
      "First 5 rows of Temp: \n",
      "     patientunitstayid  observationoffset  temperature\n",
      "94            143870.0             -424.0         97.0\n",
      "119           143870.0             -424.0         36.1\n",
      "316           143870.0              -72.0         36.6\n",
      "352           143870.0              -72.0         97.9\n",
      "273           143870.0              -32.0         36.1 \n",
      "\n",
      "First 5 rows of Temp_index: \n",
      "0       0\n",
      "1     176\n",
      "2    1167\n",
      "3    1902\n",
      "4    2739\n",
      "dtype: int64\n"
     ]
    }
   ],
   "source": [
    "# extract temperature from df_vitalPeriodic & df_nurseCharting\n",
    "Temp_v = df_vitalPeriodic[['patientunitstayid', 'observationoffset', 'temperature']]\n",
    "Temp_n = df_nurseCharting[['patientunitstayid', 'observationoffset', 'temperature']]\n",
    "\n",
    "# delete the rows with string values\n",
    "Temp_n = Temp_n[Temp_n['temperature'].apply(lambda x: str(x).replace('.', '', 1).isdigit())]\n",
    "print(f'First 5 rows of Temp_n: \\n{Temp_n.head()} \\n')\n",
    "\n",
    "Temp = pd.concat([Temp_v, Temp_n]).astype(float)\n",
    "Temp.sort_values(by=['patientunitstayid', 'observationoffset'], inplace=True)\n",
    "print(f'First 5 rows of Temp: \\n{Temp.head()} \\n')\n",
    "\n",
    "# exclude abnormal heart rate values\n",
    "Temp.loc[:, 'temperature'] = Temp['temperature'].apply(normal_temperature)\n",
    "\n",
    "# save Temp to csv file (uncomment the code to save)\n",
    "# Temp.to_csv('Temp.csv', index=False)\n",
    "\n",
    "value_position_dict = {}\n",
    "first_occurrences = []\n",
    "for idx, value in enumerate(Temp['patientunitstayid']):\n",
    "    # if the value is not in the dictionary, add it and create index\n",
    "    if value not in value_position_dict:\n",
    "        value_position_dict[value] = idx\n",
    "        first_occurrences.append(idx)\n",
    "\n",
    "first_occurrences.append(len(Temp))\n",
    "# create first occurrence index for every patient\n",
    "Temp_index = pd.Series(first_occurrences)\n",
    "print(f'First 5 rows of Temp_index: \\n{Temp_index.head()}')"
   ]
  },
  {
   "cell_type": "markdown",
   "metadata": {},
   "source": [
    "**Example: how to use Temp & Temp_index**"
   ]
  },
  {
   "cell_type": "code",
   "execution_count": null,
   "metadata": {},
   "outputs": [],
   "source": [
    "# if we want the i th patient's data (i starts from 0)\n",
    "# use Temp.iloc[Temp_index[i]:Temp_index[i+1]]\n",
    "i = 0\n",
    "print(f'HeartRate data for patient {i+1}: \\n{Temp.iloc[Temp_index[i]:Temp_index[i+1]]}')"
   ]
  }
 ],
 "metadata": {
  "kernelspec": {
   "display_name": "bdd",
   "language": "python",
   "name": "python3"
  },
  "language_info": {
   "codemirror_mode": {
    "name": "ipython",
    "version": 3
   },
   "file_extension": ".py",
   "mimetype": "text/x-python",
   "name": "python",
   "nbconvert_exporter": "python",
   "pygments_lexer": "ipython3",
   "version": "3.9.18"
  }
 },
 "nbformat": 4,
 "nbformat_minor": 2
}
