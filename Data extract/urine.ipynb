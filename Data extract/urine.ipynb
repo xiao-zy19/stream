{
 "cells": [
  {
   "cell_type": "markdown",
   "metadata": {},
   "source": [
    "### Choose the first entry of each patient. Extract Urine data into ***Urine***, create ***Urine_index*** for each patient. \n",
    "Contains patient Urine data from both IntakeOutput.csv"
   ]
  },
  {
   "cell_type": "markdown",
   "metadata": {},
   "source": [
    "**1. Extract sub-categories patient id from cardiovascular**"
   ]
  },
  {
   "cell_type": "code",
   "execution_count": 12,
   "metadata": {},
   "outputs": [
    {
     "name": "stdout",
     "output_type": "stream",
     "text": [
      "[ 143870  151179  151900 ... 3351297 3352230 3352231]\n"
     ]
    }
   ],
   "source": [
    "import os\n",
    "import numpy as np\n",
    "import matplotlib.pyplot as plt\n",
    "import pandas as pd\n",
    "\n",
    "# change to your folder path\n",
    "os.chdir('/Users/xiao-zy19/Desktop/Johns Hopkins/Biomedical Data Design/DataExtract/data') \n",
    "\n",
    "# import diagnosis.csv\n",
    "df_diagnosis = pd.read_csv('diagnosis.csv')\n",
    "df_diagnosis.sort_values(by=['patientunitstayid', 'diagnosisoffset'], inplace=True)\n",
    "\n",
    "# select cardiovascular patients\n",
    "df_cardiovascular = df_diagnosis[df_diagnosis['diagnosisstring'].str.contains('cardiovascular')]\n",
    "\n",
    "# get shock patient \n",
    "shock_patient = df_cardiovascular[df_cardiovascular['diagnosisstring'].str.contains('shock')]\n",
    "\n",
    "# get ventricular patient \n",
    "ventricular_patient = df_cardiovascular[df_cardiovascular['diagnosisstring'].str.contains('ventricular')]\n",
    "\n",
    "# get chest pain patient \n",
    "chest_pain_patient = df_cardiovascular[df_cardiovascular['diagnosisstring'].str.contains('chest pain')]\n",
    "\n",
    "# get arrhythmias patient \n",
    "arrhythmias_patient = df_cardiovascular[df_cardiovascular['diagnosisstring'].str.contains('arrhythmias')]\n",
    "\n",
    "# put id together\n",
    "df_wanted = pd.concat([shock_patient, ventricular_patient, chest_pain_patient, arrhythmias_patient])\n",
    "\n",
    "# Get the patient ids from df_wanted & sort the patient id\n",
    "# patient_id_all multiple entry patient's stayid\n",
    "patient_id_all = df_wanted['patientunitstayid'].unique()\n",
    "patient_id_all.sort()\n",
    "print(patient_id_all)"
   ]
  },
  {
   "cell_type": "markdown",
   "metadata": {},
   "source": [
    "**2. Exclude patient whose unitvisitnumbe>1**"
   ]
  },
  {
   "cell_type": "code",
   "execution_count": 13,
   "metadata": {},
   "outputs": [
    {
     "name": "stdout",
     "output_type": "stream",
     "text": [
      "Total number of patients: 915\n"
     ]
    }
   ],
   "source": [
    "# import patient.csv\n",
    "df_patient = pd.read_csv('patient.csv')\n",
    "df_patient.sort_values(by=['patientunitstayid'], inplace=True)\n",
    "df_patient_buf = df_patient[df_patient['patientunitstayid'].isin(patient_id_all)]\n",
    "df_1time_patient = df_patient_buf[df_patient_buf['unitvisitnumber']==1]\n",
    "# print(df_1time_patient)\n",
    "\n",
    "# select the patient id from df_1time_patient\n",
    "patient_id = df_1time_patient['patientunitstayid'].unique()\n",
    "print(f'Total number of patients: {len(patient_id)}')"
   ]
  },
  {
   "cell_type": "markdown",
   "metadata": {},
   "source": [
    "**3. Extract data of patients within the id list**"
   ]
  },
  {
   "cell_type": "code",
   "execution_count": 14,
   "metadata": {},
   "outputs": [
    {
     "name": "stdout",
     "output_type": "stream",
     "text": [
      "intaekOutput shape: (38176, 12)\n"
     ]
    }
   ],
   "source": [
    "# import intakeOutput.csv\n",
    "df_intakeOutput = pd.read_csv(\"intakeOutput.csv\")\n",
    "df_intakeOutput.sort_values(\n",
    "    by=[\"patientunitstayid\", \"intakeoutputoffset\"], inplace=True\n",
    ")\n",
    "\n",
    "# select the wanted patient\n",
    "df_intakeOutput = df_intakeOutput[df_intakeOutput[\"patientunitstayid\"].isin(patient_id)]\n",
    "\n",
    "# print the shape of the wanted file\n",
    "print(f\"intaekOutput shape: {df_intakeOutput.shape}\")"
   ]
  },
  {
   "cell_type": "markdown",
   "metadata": {},
   "source": [
    "**4. Extract Urine Output data & create index**"
   ]
  },
  {
   "cell_type": "code",
   "execution_count": 15,
   "metadata": {},
   "outputs": [
    {
     "name": "stdout",
     "output_type": "stream",
     "text": [
      "      intakeoutputid  patientunitstayid  intakeoutputoffset  intaketotal  \\\n",
      "4636        15608121             143870                1183          0.0   \n",
      "5263        16475633             151179                6297          0.0   \n",
      "5696        17106631             151179                6522          0.0   \n",
      "5248        16437793             151900                1115          0.0   \n",
      "1281        11065612             151900                2435        595.0   \n",
      "\n",
      "      outputtotal  dialysistotal  nettotal  intakeoutputentryoffset  \\\n",
      "4636        300.0            0.0    -300.0                     1183   \n",
      "5263          0.0            0.0       0.0                     6297   \n",
      "5696          0.0            0.0       0.0                     6522   \n",
      "5248        850.0            0.0    -850.0                     1115   \n",
      "1281          1.0            0.0     594.0                     2435   \n",
      "\n",
      "                                               cellpath celllabel  \\\n",
      "4636  flowsheet|Flowsheet Cell Labels|I&O|Output (ml...     Urine   \n",
      "5263  flowsheet|Flowsheet Cell Labels|I&O|Output (ml...     Urine   \n",
      "5696  flowsheet|Flowsheet Cell Labels|I&O|Output (ml...     Urine   \n",
      "5248  flowsheet|Flowsheet Cell Labels|I&O|Output (ml...     Urine   \n",
      "1281  flowsheet|Flowsheet Cell Labels|I&O|Output (ml...     Urine   \n",
      "\n",
      "      UrineOutput  cellvaluetext  \n",
      "4636        300.0          300.0  \n",
      "5263          0.0            0.0  \n",
      "5696          0.0            0.0  \n",
      "5248        850.0          850.0  \n",
      "1281          1.0            1.0  \n"
     ]
    }
   ],
   "source": [
    "# choose only intakeOutput Urine cell label\n",
    "df_UrineOutput = df_intakeOutput[df_intakeOutput['celllabel']=='Urine']\n",
    "df_UrineOutput = df_UrineOutput.rename(columns={'cellvaluenumeric':'UrineOutput'})\n",
    "\n",
    "print(df_UrineOutput.head())"
   ]
  },
  {
   "cell_type": "code",
   "execution_count": 28,
   "metadata": {},
   "outputs": [
    {
     "name": "stdout",
     "output_type": "stream",
     "text": [
      "First 5 rows of Urine_index: \n",
      "0     0\n",
      "1     1\n",
      "2     3\n",
      "3     7\n",
      "4    15\n",
      "dtype: int64\n"
     ]
    }
   ],
   "source": [
    "# extract Urine data from intakeOutput.csv\n",
    "Urine = df_UrineOutput[['patientunitstayid', 'intakeoutputoffset', 'UrineOutput']].copy()\n",
    "Urine.sort_values(by=['patientunitstayid', 'intakeoutputoffset'], inplace=True)\n",
    "\n",
    "value_position_dict = {}\n",
    "first_occurrences = []\n",
    "for idx, value in enumerate(Urine['patientunitstayid']):\n",
    "    # if the value is not in the dictionary, add it and create index\n",
    "    if value not in value_position_dict:\n",
    "        value_position_dict[value] = idx\n",
    "        first_occurrences.append(idx)\n",
    "\n",
    "first_occurrences.append(len(Urine))\n",
    "# create first occurrence index for every patient\n",
    "Urine_index = pd.Series(first_occurrences)\n",
    "print(f'First 5 rows of Urine_index: \\n{Urine_index.head()}')"
   ]
  },
  {
   "cell_type": "markdown",
   "metadata": {},
   "source": [
    "**Example: how to use Urine & Urine_index**"
   ]
  },
  {
   "cell_type": "code",
   "execution_count": 21,
   "metadata": {},
   "outputs": [
    {
     "name": "stdout",
     "output_type": "stream",
     "text": [
      "HeartRate data for patient 2: \n",
      "      patientunitstayid  intakeoutputoffset  UrineOutput\n",
      "5263             151179                6297          0.0\n",
      "5696             151179                6522          0.0\n",
      "5248             151900                1115        850.0\n",
      "1281             151900                2435          1.0\n",
      "971              151900                2555          1.0\n",
      "...                 ...                 ...          ...\n",
      "5358             172678                1846        400.0\n",
      "5557             172678                1945        350.0\n",
      "4375             172678                2358        600.0\n",
      "4101             172678                2538        400.0\n",
      "267              172678                2658        250.0\n",
      "\n",
      "[80 rows x 3 columns]\n"
     ]
    }
   ],
   "source": [
    "# if we want the i th patient's data (i starts from 0)\n",
    "# use Urine.iloc[Urine_index[i]:Urine_index[i+1]]\n",
    "i = 1\n",
    "print(f'Urine Output data for patient {i+1}: \\n{Urine.iloc[Urine_index[i]:Urine_index[i+10]]}')"
   ]
  }
 ],
 "metadata": {
  "kernelspec": {
   "display_name": "bdd",
   "language": "python",
   "name": "python3"
  },
  "language_info": {
   "codemirror_mode": {
    "name": "ipython",
    "version": 3
   },
   "file_extension": ".py",
   "mimetype": "text/x-python",
   "name": "python",
   "nbconvert_exporter": "python",
   "pygments_lexer": "ipython3",
   "version": "3.9.18"
  }
 },
 "nbformat": 4,
 "nbformat_minor": 2
}
